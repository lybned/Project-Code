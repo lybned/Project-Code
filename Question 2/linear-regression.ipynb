{
  "cells": [
    {
      "cell_type": "markdown",
      "source": [
        "# Linear Rergession Model for Predicting Fork Numbers of Repositories\n",
        "Yunfan Yang - SENG 550 Fall 2022"
      ],
      "metadata": {
        "id": "lgrSeEccgecA"
      }
    },
    {
      "cell_type": "markdown",
      "source": [
        "## Dependency Preparation"
      ],
      "metadata": {
        "id": "0OO9TaxnadCj"
      }
    },
    {
      "cell_type": "code",
      "source": [
        "from google.colab import drive\n",
        "drive.mount('/content/drive')"
      ],
      "metadata": {
        "colab": {
          "base_uri": "https://localhost:8080/"
        },
        "id": "1hyTwMWBgpER",
        "outputId": "a48229da-ecbb-48b3-d886-c9ee99f4b44f"
      },
      "execution_count": 2,
      "outputs": [
        {
          "output_type": "stream",
          "name": "stdout",
          "text": [
            "Mounted at /content/drive\n"
          ]
        }
      ]
    },
    {
      "cell_type": "code",
      "source": [
        "%cd /content/drive/My Drive/Colab Notebooks/"
      ],
      "metadata": {
        "colab": {
          "base_uri": "https://localhost:8080/"
        },
        "id": "TZT6v5EXxdbP",
        "outputId": "a9ac3ab7-706c-4e05-f37b-941ff0e4e2ec"
      },
      "execution_count": 3,
      "outputs": [
        {
          "output_type": "stream",
          "name": "stdout",
          "text": [
            "/content/drive/My Drive/Colab Notebooks\n"
          ]
        }
      ]
    },
    {
      "cell_type": "code",
      "source": [
        "!pip install pyspark"
      ],
      "metadata": {
        "colab": {
          "base_uri": "https://localhost:8080/"
        },
        "id": "GTgFYgDDgvYG",
        "outputId": "ae4cc863-e5af-45df-f8cf-3db03dc697d2"
      },
      "execution_count": 4,
      "outputs": [
        {
          "output_type": "stream",
          "name": "stdout",
          "text": [
            "Looking in indexes: https://pypi.org/simple, https://us-python.pkg.dev/colab-wheels/public/simple/\n",
            "Collecting pyspark\n",
            "  Downloading pyspark-3.3.1.tar.gz (281.4 MB)\n",
            "\u001b[K     |████████████████████████████████| 281.4 MB 50 kB/s \n",
            "\u001b[?25hCollecting py4j==0.10.9.5\n",
            "  Downloading py4j-0.10.9.5-py2.py3-none-any.whl (199 kB)\n",
            "\u001b[K     |████████████████████████████████| 199 kB 69.2 MB/s \n",
            "\u001b[?25hBuilding wheels for collected packages: pyspark\n",
            "  Building wheel for pyspark (setup.py) ... \u001b[?25l\u001b[?25hdone\n",
            "  Created wheel for pyspark: filename=pyspark-3.3.1-py2.py3-none-any.whl size=281845512 sha256=9622f72869eb66ff5c2f9247033423addbb23a85419c35438040d42ada938d2f\n",
            "  Stored in directory: /root/.cache/pip/wheels/43/dc/11/ec201cd671da62fa9c5cc77078235e40722170ceba231d7598\n",
            "Successfully built pyspark\n",
            "Installing collected packages: py4j, pyspark\n",
            "Successfully installed py4j-0.10.9.5 pyspark-3.3.1\n"
          ]
        }
      ]
    },
    {
      "cell_type": "code",
      "source": [
        "!apt-get install openjdk-8-jdk-headless -qq > /dev/null"
      ],
      "metadata": {
        "id": "zhz6doJngwDv"
      },
      "execution_count": 5,
      "outputs": []
    },
    {
      "cell_type": "code",
      "source": [
        "!wget https://dlcdn.apache.org/spark/spark-3.3.1/spark-3.3.1-bin-hadoop3.tgz"
      ],
      "metadata": {
        "colab": {
          "base_uri": "https://localhost:8080/"
        },
        "id": "aqVqRhtYgxch",
        "outputId": "14b36c3d-fc81-4034-a543-a875140c532e"
      },
      "execution_count": 6,
      "outputs": [
        {
          "output_type": "stream",
          "name": "stdout",
          "text": [
            "--2022-12-16 05:15:26--  https://dlcdn.apache.org/spark/spark-3.3.1/spark-3.3.1-bin-hadoop3.tgz\n",
            "Resolving dlcdn.apache.org (dlcdn.apache.org)... 151.101.2.132, 2a04:4e42::644\n",
            "Connecting to dlcdn.apache.org (dlcdn.apache.org)|151.101.2.132|:443... connected.\n",
            "HTTP request sent, awaiting response... 200 OK\n",
            "Length: 299350810 (285M) [application/x-gzip]\n",
            "Saving to: ‘spark-3.3.1-bin-hadoop3.tgz.1’\n",
            "\n",
            "spark-3.3.1-bin-had 100%[===================>] 285.48M  49.8MB/s    in 5.6s    \n",
            "\n",
            "2022-12-16 05:15:32 (50.7 MB/s) - ‘spark-3.3.1-bin-hadoop3.tgz.1’ saved [299350810/299350810]\n",
            "\n"
          ]
        }
      ]
    },
    {
      "cell_type": "code",
      "source": [
        "!tar -xvf spark-3.3.1-bin-hadoop3.tgz"
      ],
      "metadata": {
        "colab": {
          "base_uri": "https://localhost:8080/"
        },
        "id": "A4qUjPThgyTy",
        "outputId": "3503d808-a67f-4255-8dbf-a0369c0e6354"
      },
      "execution_count": 7,
      "outputs": [
        {
          "output_type": "stream",
          "name": "stdout",
          "text": [
            "spark-3.3.1-bin-hadoop3/\n",
            "spark-3.3.1-bin-hadoop3/LICENSE\n",
            "spark-3.3.1-bin-hadoop3/NOTICE\n",
            "spark-3.3.1-bin-hadoop3/R/\n",
            "spark-3.3.1-bin-hadoop3/R/lib/\n",
            "spark-3.3.1-bin-hadoop3/R/lib/SparkR/\n",
            "spark-3.3.1-bin-hadoop3/R/lib/SparkR/DESCRIPTION\n",
            "spark-3.3.1-bin-hadoop3/R/lib/SparkR/INDEX\n",
            "spark-3.3.1-bin-hadoop3/R/lib/SparkR/Meta/\n",
            "spark-3.3.1-bin-hadoop3/R/lib/SparkR/Meta/Rd.rds\n",
            "spark-3.3.1-bin-hadoop3/R/lib/SparkR/Meta/features.rds\n",
            "spark-3.3.1-bin-hadoop3/R/lib/SparkR/Meta/hsearch.rds\n",
            "spark-3.3.1-bin-hadoop3/R/lib/SparkR/Meta/links.rds\n",
            "spark-3.3.1-bin-hadoop3/R/lib/SparkR/Meta/nsInfo.rds\n",
            "spark-3.3.1-bin-hadoop3/R/lib/SparkR/Meta/package.rds\n",
            "spark-3.3.1-bin-hadoop3/R/lib/SparkR/Meta/vignette.rds\n",
            "spark-3.3.1-bin-hadoop3/R/lib/SparkR/NAMESPACE\n",
            "spark-3.3.1-bin-hadoop3/R/lib/SparkR/R/\n",
            "spark-3.3.1-bin-hadoop3/R/lib/SparkR/R/SparkR\n",
            "spark-3.3.1-bin-hadoop3/R/lib/SparkR/R/SparkR.rdb\n",
            "spark-3.3.1-bin-hadoop3/R/lib/SparkR/R/SparkR.rdx\n",
            "spark-3.3.1-bin-hadoop3/R/lib/SparkR/doc/\n",
            "spark-3.3.1-bin-hadoop3/R/lib/SparkR/doc/index.html\n",
            "spark-3.3.1-bin-hadoop3/R/lib/SparkR/doc/sparkr-vignettes.R\n",
            "spark-3.3.1-bin-hadoop3/R/lib/SparkR/doc/sparkr-vignettes.Rmd\n",
            "spark-3.3.1-bin-hadoop3/R/lib/SparkR/doc/sparkr-vignettes.html\n",
            "spark-3.3.1-bin-hadoop3/R/lib/SparkR/help/\n",
            "spark-3.3.1-bin-hadoop3/R/lib/SparkR/help/AnIndex\n",
            "spark-3.3.1-bin-hadoop3/R/lib/SparkR/help/SparkR.rdb\n",
            "spark-3.3.1-bin-hadoop3/R/lib/SparkR/help/SparkR.rdx\n",
            "spark-3.3.1-bin-hadoop3/R/lib/SparkR/help/aliases.rds\n",
            "spark-3.3.1-bin-hadoop3/R/lib/SparkR/help/paths.rds\n",
            "spark-3.3.1-bin-hadoop3/R/lib/SparkR/html/\n",
            "spark-3.3.1-bin-hadoop3/R/lib/SparkR/html/00Index.html\n",
            "spark-3.3.1-bin-hadoop3/R/lib/SparkR/html/R.css\n",
            "spark-3.3.1-bin-hadoop3/R/lib/SparkR/profile/\n",
            "spark-3.3.1-bin-hadoop3/R/lib/SparkR/profile/general.R\n",
            "spark-3.3.1-bin-hadoop3/R/lib/SparkR/profile/shell.R\n",
            "spark-3.3.1-bin-hadoop3/R/lib/SparkR/tests/\n",
            "spark-3.3.1-bin-hadoop3/R/lib/SparkR/tests/testthat/\n",
            "spark-3.3.1-bin-hadoop3/R/lib/SparkR/tests/testthat/test_basic.R\n",
            "spark-3.3.1-bin-hadoop3/R/lib/SparkR/worker/\n",
            "spark-3.3.1-bin-hadoop3/R/lib/SparkR/worker/daemon.R\n",
            "spark-3.3.1-bin-hadoop3/R/lib/SparkR/worker/worker.R\n",
            "spark-3.3.1-bin-hadoop3/R/lib/sparkr.zip\n",
            "spark-3.3.1-bin-hadoop3/README.md\n",
            "spark-3.3.1-bin-hadoop3/RELEASE\n",
            "spark-3.3.1-bin-hadoop3/bin/\n",
            "spark-3.3.1-bin-hadoop3/bin/beeline\n",
            "spark-3.3.1-bin-hadoop3/bin/beeline.cmd\n",
            "spark-3.3.1-bin-hadoop3/bin/docker-image-tool.sh\n",
            "spark-3.3.1-bin-hadoop3/bin/find-spark-home\n",
            "spark-3.3.1-bin-hadoop3/bin/find-spark-home.cmd\n",
            "spark-3.3.1-bin-hadoop3/bin/load-spark-env.cmd\n",
            "spark-3.3.1-bin-hadoop3/bin/load-spark-env.sh\n",
            "spark-3.3.1-bin-hadoop3/bin/pyspark\n",
            "spark-3.3.1-bin-hadoop3/bin/pyspark.cmd\n",
            "spark-3.3.1-bin-hadoop3/bin/pyspark2.cmd\n",
            "spark-3.3.1-bin-hadoop3/bin/run-example\n",
            "spark-3.3.1-bin-hadoop3/bin/run-example.cmd\n",
            "spark-3.3.1-bin-hadoop3/bin/spark-class\n",
            "spark-3.3.1-bin-hadoop3/bin/spark-class.cmd\n",
            "spark-3.3.1-bin-hadoop3/bin/spark-class2.cmd\n",
            "spark-3.3.1-bin-hadoop3/bin/spark-shell\n",
            "spark-3.3.1-bin-hadoop3/bin/spark-shell.cmd\n",
            "spark-3.3.1-bin-hadoop3/bin/spark-shell2.cmd\n",
            "spark-3.3.1-bin-hadoop3/bin/spark-sql\n",
            "spark-3.3.1-bin-hadoop3/bin/spark-sql.cmd\n",
            "spark-3.3.1-bin-hadoop3/bin/spark-sql2.cmd\n",
            "spark-3.3.1-bin-hadoop3/bin/spark-submit\n",
            "spark-3.3.1-bin-hadoop3/bin/spark-submit.cmd\n",
            "spark-3.3.1-bin-hadoop3/bin/spark-submit2.cmd\n",
            "spark-3.3.1-bin-hadoop3/bin/sparkR\n",
            "spark-3.3.1-bin-hadoop3/bin/sparkR.cmd\n",
            "spark-3.3.1-bin-hadoop3/bin/sparkR2.cmd\n",
            "spark-3.3.1-bin-hadoop3/conf/\n",
            "spark-3.3.1-bin-hadoop3/conf/fairscheduler.xml.template\n",
            "spark-3.3.1-bin-hadoop3/conf/log4j2.properties.template\n",
            "spark-3.3.1-bin-hadoop3/conf/metrics.properties.template\n",
            "spark-3.3.1-bin-hadoop3/conf/spark-defaults.conf.template\n",
            "spark-3.3.1-bin-hadoop3/conf/spark-env.sh.template\n",
            "spark-3.3.1-bin-hadoop3/conf/workers.template\n",
            "spark-3.3.1-bin-hadoop3/data/\n",
            "spark-3.3.1-bin-hadoop3/data/graphx/\n",
            "spark-3.3.1-bin-hadoop3/data/graphx/followers.txt\n",
            "spark-3.3.1-bin-hadoop3/data/graphx/users.txt\n",
            "spark-3.3.1-bin-hadoop3/data/mllib/\n",
            "spark-3.3.1-bin-hadoop3/data/mllib/als/\n",
            "spark-3.3.1-bin-hadoop3/data/mllib/als/sample_movielens_ratings.txt\n",
            "spark-3.3.1-bin-hadoop3/data/mllib/als/test.data\n",
            "spark-3.3.1-bin-hadoop3/data/mllib/gmm_data.txt\n",
            "spark-3.3.1-bin-hadoop3/data/mllib/images/\n",
            "spark-3.3.1-bin-hadoop3/data/mllib/images/license.txt\n",
            "spark-3.3.1-bin-hadoop3/data/mllib/images/origin/\n",
            "spark-3.3.1-bin-hadoop3/data/mllib/images/origin/kittens/\n",
            "spark-3.3.1-bin-hadoop3/data/mllib/images/origin/kittens/29.5.a_b_EGDP022204.jpg\n",
            "spark-3.3.1-bin-hadoop3/data/mllib/images/origin/kittens/54893.jpg\n",
            "spark-3.3.1-bin-hadoop3/data/mllib/images/origin/kittens/DP153539.jpg\n",
            "spark-3.3.1-bin-hadoop3/data/mllib/images/origin/kittens/DP802813.jpg\n",
            "spark-3.3.1-bin-hadoop3/data/mllib/images/origin/kittens/not-image.txt\n",
            "spark-3.3.1-bin-hadoop3/data/mllib/images/origin/license.txt\n",
            "spark-3.3.1-bin-hadoop3/data/mllib/images/origin/multi-channel/\n",
            "spark-3.3.1-bin-hadoop3/data/mllib/images/origin/multi-channel/BGRA.png\n",
            "spark-3.3.1-bin-hadoop3/data/mllib/images/origin/multi-channel/BGRA_alpha_60.png\n",
            "spark-3.3.1-bin-hadoop3/data/mllib/images/origin/multi-channel/chr30.4.184.jpg\n",
            "spark-3.3.1-bin-hadoop3/data/mllib/images/origin/multi-channel/grayscale.jpg\n",
            "spark-3.3.1-bin-hadoop3/data/mllib/kmeans_data.txt\n",
            "spark-3.3.1-bin-hadoop3/data/mllib/pagerank_data.txt\n",
            "spark-3.3.1-bin-hadoop3/data/mllib/pic_data.txt\n",
            "spark-3.3.1-bin-hadoop3/data/mllib/ridge-data/\n",
            "spark-3.3.1-bin-hadoop3/data/mllib/ridge-data/lpsa.data\n",
            "spark-3.3.1-bin-hadoop3/data/mllib/sample_binary_classification_data.txt\n",
            "spark-3.3.1-bin-hadoop3/data/mllib/sample_fpgrowth.txt\n",
            "spark-3.3.1-bin-hadoop3/data/mllib/sample_isotonic_regression_libsvm_data.txt\n",
            "spark-3.3.1-bin-hadoop3/data/mllib/sample_kmeans_data.txt\n",
            "spark-3.3.1-bin-hadoop3/data/mllib/sample_lda_data.txt\n",
            "spark-3.3.1-bin-hadoop3/data/mllib/sample_lda_libsvm_data.txt\n",
            "spark-3.3.1-bin-hadoop3/data/mllib/sample_libsvm_data.txt\n",
            "spark-3.3.1-bin-hadoop3/data/mllib/sample_linear_regression_data.txt\n",
            "spark-3.3.1-bin-hadoop3/data/mllib/sample_movielens_data.txt\n",
            "spark-3.3.1-bin-hadoop3/data/mllib/sample_multiclass_classification_data.txt\n",
            "spark-3.3.1-bin-hadoop3/data/mllib/sample_svm_data.txt\n",
            "spark-3.3.1-bin-hadoop3/data/mllib/streaming_kmeans_data_test.txt\n",
            "spark-3.3.1-bin-hadoop3/data/streaming/\n",
            "spark-3.3.1-bin-hadoop3/data/streaming/AFINN-111.txt\n",
            "spark-3.3.1-bin-hadoop3/examples/\n",
            "spark-3.3.1-bin-hadoop3/examples/jars/\n",
            "spark-3.3.1-bin-hadoop3/examples/jars/scopt_2.12-3.7.1.jar\n",
            "spark-3.3.1-bin-hadoop3/examples/jars/spark-examples_2.12-3.3.1.jar\n",
            "spark-3.3.1-bin-hadoop3/examples/src/\n",
            "spark-3.3.1-bin-hadoop3/examples/src/main/\n",
            "spark-3.3.1-bin-hadoop3/examples/src/main/java/\n",
            "spark-3.3.1-bin-hadoop3/examples/src/main/java/org/\n",
            "spark-3.3.1-bin-hadoop3/examples/src/main/java/org/apache/\n",
            "spark-3.3.1-bin-hadoop3/examples/src/main/java/org/apache/spark/\n",
            "spark-3.3.1-bin-hadoop3/examples/src/main/java/org/apache/spark/examples/\n",
            "spark-3.3.1-bin-hadoop3/examples/src/main/java/org/apache/spark/examples/JavaHdfsLR.java\n",
            "spark-3.3.1-bin-hadoop3/examples/src/main/java/org/apache/spark/examples/JavaLogQuery.java\n",
            "spark-3.3.1-bin-hadoop3/examples/src/main/java/org/apache/spark/examples/JavaPageRank.java\n",
            "spark-3.3.1-bin-hadoop3/examples/src/main/java/org/apache/spark/examples/JavaSparkPi.java\n",
            "spark-3.3.1-bin-hadoop3/examples/src/main/java/org/apache/spark/examples/JavaStatusTrackerDemo.java\n",
            "spark-3.3.1-bin-hadoop3/examples/src/main/java/org/apache/spark/examples/JavaTC.java\n",
            "spark-3.3.1-bin-hadoop3/examples/src/main/java/org/apache/spark/examples/JavaWordCount.java\n",
            "spark-3.3.1-bin-hadoop3/examples/src/main/java/org/apache/spark/examples/ml/\n",
            "spark-3.3.1-bin-hadoop3/examples/src/main/java/org/apache/spark/examples/ml/JavaAFTSurvivalRegressionExample.java\n",
            "spark-3.3.1-bin-hadoop3/examples/src/main/java/org/apache/spark/examples/ml/JavaALSExample.java\n",
            "spark-3.3.1-bin-hadoop3/examples/src/main/java/org/apache/spark/examples/ml/JavaBinarizerExample.java\n",
            "spark-3.3.1-bin-hadoop3/examples/src/main/java/org/apache/spark/examples/ml/JavaBisectingKMeansExample.java\n",
            "spark-3.3.1-bin-hadoop3/examples/src/main/java/org/apache/spark/examples/ml/JavaBucketedRandomProjectionLSHExample.java\n",
            "spark-3.3.1-bin-hadoop3/examples/src/main/java/org/apache/spark/examples/ml/JavaBucketizerExample.java\n",
            "spark-3.3.1-bin-hadoop3/examples/src/main/java/org/apache/spark/examples/ml/JavaChiSqSelectorExample.java\n",
            "spark-3.3.1-bin-hadoop3/examples/src/main/java/org/apache/spark/examples/ml/JavaChiSquareTestExample.java\n",
            "spark-3.3.1-bin-hadoop3/examples/src/main/java/org/apache/spark/examples/ml/JavaCorrelationExample.java\n",
            "spark-3.3.1-bin-hadoop3/examples/src/main/java/org/apache/spark/examples/ml/JavaCountVectorizerExample.java\n",
            "spark-3.3.1-bin-hadoop3/examples/src/main/java/org/apache/spark/examples/ml/JavaDCTExample.java\n",
            "spark-3.3.1-bin-hadoop3/examples/src/main/java/org/apache/spark/examples/ml/JavaDecisionTreeClassificationExample.java\n",
            "spark-3.3.1-bin-hadoop3/examples/src/main/java/org/apache/spark/examples/ml/JavaDecisionTreeRegressionExample.java\n",
            "spark-3.3.1-bin-hadoop3/examples/src/main/java/org/apache/spark/examples/ml/JavaDocument.java\n",
            "spark-3.3.1-bin-hadoop3/examples/src/main/java/org/apache/spark/examples/ml/JavaElementwiseProductExample.java\n",
            "spark-3.3.1-bin-hadoop3/examples/src/main/java/org/apache/spark/examples/ml/JavaEstimatorTransformerParamExample.java\n",
            "spark-3.3.1-bin-hadoop3/examples/src/main/java/org/apache/spark/examples/ml/JavaFMClassifierExample.java\n",
            "spark-3.3.1-bin-hadoop3/examples/src/main/java/org/apache/spark/examples/ml/JavaFMRegressorExample.java\n",
            "spark-3.3.1-bin-hadoop3/examples/src/main/java/org/apache/spark/examples/ml/JavaFPGrowthExample.java\n",
            "spark-3.3.1-bin-hadoop3/examples/src/main/java/org/apache/spark/examples/ml/JavaFeatureHasherExample.java\n",
            "spark-3.3.1-bin-hadoop3/examples/src/main/java/org/apache/spark/examples/ml/JavaGaussianMixtureExample.java\n",
            "spark-3.3.1-bin-hadoop3/examples/src/main/java/org/apache/spark/examples/ml/JavaGeneralizedLinearRegressionExample.java\n",
            "spark-3.3.1-bin-hadoop3/examples/src/main/java/org/apache/spark/examples/ml/JavaGradientBoostedTreeClassifierExample.java\n",
            "spark-3.3.1-bin-hadoop3/examples/src/main/java/org/apache/spark/examples/ml/JavaGradientBoostedTreeRegressorExample.java\n",
            "spark-3.3.1-bin-hadoop3/examples/src/main/java/org/apache/spark/examples/ml/JavaImputerExample.java\n",
            "spark-3.3.1-bin-hadoop3/examples/src/main/java/org/apache/spark/examples/ml/JavaIndexToStringExample.java\n",
            "spark-3.3.1-bin-hadoop3/examples/src/main/java/org/apache/spark/examples/ml/JavaInteractionExample.java\n",
            "spark-3.3.1-bin-hadoop3/examples/src/main/java/org/apache/spark/examples/ml/JavaIsotonicRegressionExample.java\n",
            "spark-3.3.1-bin-hadoop3/examples/src/main/java/org/apache/spark/examples/ml/JavaKMeansExample.java\n",
            "spark-3.3.1-bin-hadoop3/examples/src/main/java/org/apache/spark/examples/ml/JavaLDAExample.java\n",
            "spark-3.3.1-bin-hadoop3/examples/src/main/java/org/apache/spark/examples/ml/JavaLabeledDocument.java\n",
            "spark-3.3.1-bin-hadoop3/examples/src/main/java/org/apache/spark/examples/ml/JavaLinearRegressionWithElasticNetExample.java\n",
            "spark-3.3.1-bin-hadoop3/examples/src/main/java/org/apache/spark/examples/ml/JavaLinearSVCExample.java\n",
            "spark-3.3.1-bin-hadoop3/examples/src/main/java/org/apache/spark/examples/ml/JavaLogisticRegressionSummaryExample.java\n",
            "spark-3.3.1-bin-hadoop3/examples/src/main/java/org/apache/spark/examples/ml/JavaLogisticRegressionWithElasticNetExample.java\n",
            "spark-3.3.1-bin-hadoop3/examples/src/main/java/org/apache/spark/examples/ml/JavaMaxAbsScalerExample.java\n",
            "spark-3.3.1-bin-hadoop3/examples/src/main/java/org/apache/spark/examples/ml/JavaMinHashLSHExample.java\n",
            "spark-3.3.1-bin-hadoop3/examples/src/main/java/org/apache/spark/examples/ml/JavaMinMaxScalerExample.java\n",
            "spark-3.3.1-bin-hadoop3/examples/src/main/java/org/apache/spark/examples/ml/JavaModelSelectionViaCrossValidationExample.java\n",
            "spark-3.3.1-bin-hadoop3/examples/src/main/java/org/apache/spark/examples/ml/JavaModelSelectionViaTrainValidationSplitExample.java\n",
            "spark-3.3.1-bin-hadoop3/examples/src/main/java/org/apache/spark/examples/ml/JavaMulticlassLogisticRegressionWithElasticNetExample.java\n",
            "spark-3.3.1-bin-hadoop3/examples/src/main/java/org/apache/spark/examples/ml/JavaMultilayerPerceptronClassifierExample.java\n",
            "spark-3.3.1-bin-hadoop3/examples/src/main/java/org/apache/spark/examples/ml/JavaNGramExample.java\n",
            "spark-3.3.1-bin-hadoop3/examples/src/main/java/org/apache/spark/examples/ml/JavaNaiveBayesExample.java\n",
            "spark-3.3.1-bin-hadoop3/examples/src/main/java/org/apache/spark/examples/ml/JavaNormalizerExample.java\n",
            "spark-3.3.1-bin-hadoop3/examples/src/main/java/org/apache/spark/examples/ml/JavaOneHotEncoderExample.java\n",
            "spark-3.3.1-bin-hadoop3/examples/src/main/java/org/apache/spark/examples/ml/JavaOneVsRestExample.java\n",
            "spark-3.3.1-bin-hadoop3/examples/src/main/java/org/apache/spark/examples/ml/JavaPCAExample.java\n",
            "spark-3.3.1-bin-hadoop3/examples/src/main/java/org/apache/spark/examples/ml/JavaPipelineExample.java\n",
            "spark-3.3.1-bin-hadoop3/examples/src/main/java/org/apache/spark/examples/ml/JavaPolynomialExpansionExample.java\n",
            "spark-3.3.1-bin-hadoop3/examples/src/main/java/org/apache/spark/examples/ml/JavaPowerIterationClusteringExample.java\n",
            "spark-3.3.1-bin-hadoop3/examples/src/main/java/org/apache/spark/examples/ml/JavaPrefixSpanExample.java\n",
            "spark-3.3.1-bin-hadoop3/examples/src/main/java/org/apache/spark/examples/ml/JavaQuantileDiscretizerExample.java\n",
            "spark-3.3.1-bin-hadoop3/examples/src/main/java/org/apache/spark/examples/ml/JavaRFormulaExample.java\n",
            "spark-3.3.1-bin-hadoop3/examples/src/main/java/org/apache/spark/examples/ml/JavaRandomForestClassifierExample.java\n",
            "spark-3.3.1-bin-hadoop3/examples/src/main/java/org/apache/spark/examples/ml/JavaRandomForestRegressorExample.java\n",
            "spark-3.3.1-bin-hadoop3/examples/src/main/java/org/apache/spark/examples/ml/JavaRobustScalerExample.java\n",
            "spark-3.3.1-bin-hadoop3/examples/src/main/java/org/apache/spark/examples/ml/JavaSQLTransformerExample.java\n",
            "spark-3.3.1-bin-hadoop3/examples/src/main/java/org/apache/spark/examples/ml/JavaStandardScalerExample.java\n",
            "spark-3.3.1-bin-hadoop3/examples/src/main/java/org/apache/spark/examples/ml/JavaStopWordsRemoverExample.java\n",
            "spark-3.3.1-bin-hadoop3/examples/src/main/java/org/apache/spark/examples/ml/JavaStringIndexerExample.java\n",
            "spark-3.3.1-bin-hadoop3/examples/src/main/java/org/apache/spark/examples/ml/JavaSummarizerExample.java\n",
            "spark-3.3.1-bin-hadoop3/examples/src/main/java/org/apache/spark/examples/ml/JavaTfIdfExample.java\n",
            "spark-3.3.1-bin-hadoop3/examples/src/main/java/org/apache/spark/examples/ml/JavaTokenizerExample.java\n",
            "spark-3.3.1-bin-hadoop3/examples/src/main/java/org/apache/spark/examples/ml/JavaUnivariateFeatureSelectorExample.java\n",
            "spark-3.3.1-bin-hadoop3/examples/src/main/java/org/apache/spark/examples/ml/JavaVarianceThresholdSelectorExample.java\n",
            "spark-3.3.1-bin-hadoop3/examples/src/main/java/org/apache/spark/examples/ml/JavaVectorAssemblerExample.java\n",
            "spark-3.3.1-bin-hadoop3/examples/src/main/java/org/apache/spark/examples/ml/JavaVectorIndexerExample.java\n",
            "spark-3.3.1-bin-hadoop3/examples/src/main/java/org/apache/spark/examples/ml/JavaVectorSizeHintExample.java\n",
            "spark-3.3.1-bin-hadoop3/examples/src/main/java/org/apache/spark/examples/ml/JavaVectorSlicerExample.java\n",
            "spark-3.3.1-bin-hadoop3/examples/src/main/java/org/apache/spark/examples/ml/JavaWord2VecExample.java\n",
            "spark-3.3.1-bin-hadoop3/examples/src/main/java/org/apache/spark/examples/mllib/\n",
            "spark-3.3.1-bin-hadoop3/examples/src/main/java/org/apache/spark/examples/mllib/JavaALS.java\n",
            "spark-3.3.1-bin-hadoop3/examples/src/main/java/org/apache/spark/examples/mllib/JavaAssociationRulesExample.java\n",
            "spark-3.3.1-bin-hadoop3/examples/src/main/java/org/apache/spark/examples/mllib/JavaBinaryClassificationMetricsExample.java\n",
            "spark-3.3.1-bin-hadoop3/examples/src/main/java/org/apache/spark/examples/mllib/JavaBisectingKMeansExample.java\n",
            "spark-3.3.1-bin-hadoop3/examples/src/main/java/org/apache/spark/examples/mllib/JavaChiSqSelectorExample.java\n",
            "spark-3.3.1-bin-hadoop3/examples/src/main/java/org/apache/spark/examples/mllib/JavaCorrelationsExample.java\n",
            "spark-3.3.1-bin-hadoop3/examples/src/main/java/org/apache/spark/examples/mllib/JavaDecisionTreeClassificationExample.java\n",
            "spark-3.3.1-bin-hadoop3/examples/src/main/java/org/apache/spark/examples/mllib/JavaDecisionTreeRegressionExample.java\n",
            "spark-3.3.1-bin-hadoop3/examples/src/main/java/org/apache/spark/examples/mllib/JavaElementwiseProductExample.java\n",
            "spark-3.3.1-bin-hadoop3/examples/src/main/java/org/apache/spark/examples/mllib/JavaGaussianMixtureExample.java\n",
            "spark-3.3.1-bin-hadoop3/examples/src/main/java/org/apache/spark/examples/mllib/JavaGradientBoostingClassificationExample.java\n",
            "spark-3.3.1-bin-hadoop3/examples/src/main/java/org/apache/spark/examples/mllib/JavaGradientBoostingRegressionExample.java\n",
            "spark-3.3.1-bin-hadoop3/examples/src/main/java/org/apache/spark/examples/mllib/JavaHypothesisTestingExample.java\n",
            "spark-3.3.1-bin-hadoop3/examples/src/main/java/org/apache/spark/examples/mllib/JavaHypothesisTestingKolmogorovSmirnovTestExample.java\n",
            "spark-3.3.1-bin-hadoop3/examples/src/main/java/org/apache/spark/examples/mllib/JavaIsotonicRegressionExample.java\n",
            "spark-3.3.1-bin-hadoop3/examples/src/main/java/org/apache/spark/examples/mllib/JavaKMeansExample.java\n",
            "spark-3.3.1-bin-hadoop3/examples/src/main/java/org/apache/spark/examples/mllib/JavaKernelDensityEstimationExample.java\n",
            "spark-3.3.1-bin-hadoop3/examples/src/main/java/org/apache/spark/examples/mllib/JavaLBFGSExample.java\n",
            "spark-3.3.1-bin-hadoop3/examples/src/main/java/org/apache/spark/examples/mllib/JavaLatentDirichletAllocationExample.java\n",
            "spark-3.3.1-bin-hadoop3/examples/src/main/java/org/apache/spark/examples/mllib/JavaLogisticRegressionWithLBFGSExample.java\n",
            "spark-3.3.1-bin-hadoop3/examples/src/main/java/org/apache/spark/examples/mllib/JavaMultiLabelClassificationMetricsExample.java\n",
            "spark-3.3.1-bin-hadoop3/examples/src/main/java/org/apache/spark/examples/mllib/JavaMulticlassClassificationMetricsExample.java\n",
            "spark-3.3.1-bin-hadoop3/examples/src/main/java/org/apache/spark/examples/mllib/JavaNaiveBayesExample.java\n",
            "spark-3.3.1-bin-hadoop3/examples/src/main/java/org/apache/spark/examples/mllib/JavaPCAExample.java\n",
            "spark-3.3.1-bin-hadoop3/examples/src/main/java/org/apache/spark/examples/mllib/JavaPowerIterationClusteringExample.java\n",
            "spark-3.3.1-bin-hadoop3/examples/src/main/java/org/apache/spark/examples/mllib/JavaPrefixSpanExample.java\n",
            "spark-3.3.1-bin-hadoop3/examples/src/main/java/org/apache/spark/examples/mllib/JavaRandomForestClassificationExample.java\n",
            "spark-3.3.1-bin-hadoop3/examples/src/main/java/org/apache/spark/examples/mllib/JavaRandomForestRegressionExample.java\n",
            "spark-3.3.1-bin-hadoop3/examples/src/main/java/org/apache/spark/examples/mllib/JavaRankingMetricsExample.java\n",
            "spark-3.3.1-bin-hadoop3/examples/src/main/java/org/apache/spark/examples/mllib/JavaRecommendationExample.java\n",
            "spark-3.3.1-bin-hadoop3/examples/src/main/java/org/apache/spark/examples/mllib/JavaSVDExample.java\n",
            "spark-3.3.1-bin-hadoop3/examples/src/main/java/org/apache/spark/examples/mllib/JavaSVMWithSGDExample.java\n",
            "spark-3.3.1-bin-hadoop3/examples/src/main/java/org/apache/spark/examples/mllib/JavaSimpleFPGrowth.java\n",
            "spark-3.3.1-bin-hadoop3/examples/src/main/java/org/apache/spark/examples/mllib/JavaStratifiedSamplingExample.java\n",
            "spark-3.3.1-bin-hadoop3/examples/src/main/java/org/apache/spark/examples/mllib/JavaStreamingTestExample.java\n",
            "spark-3.3.1-bin-hadoop3/examples/src/main/java/org/apache/spark/examples/mllib/JavaSummaryStatisticsExample.java\n",
            "spark-3.3.1-bin-hadoop3/examples/src/main/java/org/apache/spark/examples/sql/\n",
            "spark-3.3.1-bin-hadoop3/examples/src/main/java/org/apache/spark/examples/sql/JavaSQLDataSourceExample.java\n",
            "spark-3.3.1-bin-hadoop3/examples/src/main/java/org/apache/spark/examples/sql/JavaSparkSQLExample.java\n",
            "spark-3.3.1-bin-hadoop3/examples/src/main/java/org/apache/spark/examples/sql/JavaUserDefinedScalar.java\n",
            "spark-3.3.1-bin-hadoop3/examples/src/main/java/org/apache/spark/examples/sql/JavaUserDefinedTypedAggregation.java\n",
            "spark-3.3.1-bin-hadoop3/examples/src/main/java/org/apache/spark/examples/sql/JavaUserDefinedUntypedAggregation.java\n",
            "spark-3.3.1-bin-hadoop3/examples/src/main/java/org/apache/spark/examples/sql/hive/\n",
            "spark-3.3.1-bin-hadoop3/examples/src/main/java/org/apache/spark/examples/sql/hive/JavaSparkHiveExample.java\n",
            "spark-3.3.1-bin-hadoop3/examples/src/main/java/org/apache/spark/examples/sql/streaming/\n",
            "spark-3.3.1-bin-hadoop3/examples/src/main/java/org/apache/spark/examples/sql/streaming/JavaStructuredComplexSessionization.java\n",
            "spark-3.3.1-bin-hadoop3/examples/src/main/java/org/apache/spark/examples/sql/streaming/JavaStructuredKafkaWordCount.java\n",
            "spark-3.3.1-bin-hadoop3/examples/src/main/java/org/apache/spark/examples/sql/streaming/JavaStructuredKerberizedKafkaWordCount.java\n",
            "spark-3.3.1-bin-hadoop3/examples/src/main/java/org/apache/spark/examples/sql/streaming/JavaStructuredNetworkWordCount.java\n",
            "spark-3.3.1-bin-hadoop3/examples/src/main/java/org/apache/spark/examples/sql/streaming/JavaStructuredNetworkWordCountWindowed.java\n",
            "spark-3.3.1-bin-hadoop3/examples/src/main/java/org/apache/spark/examples/sql/streaming/JavaStructuredSessionization.java\n",
            "spark-3.3.1-bin-hadoop3/examples/src/main/java/org/apache/spark/examples/streaming/\n",
            "spark-3.3.1-bin-hadoop3/examples/src/main/java/org/apache/spark/examples/streaming/JavaCustomReceiver.java\n",
            "spark-3.3.1-bin-hadoop3/examples/src/main/java/org/apache/spark/examples/streaming/JavaDirectKafkaWordCount.java\n",
            "spark-3.3.1-bin-hadoop3/examples/src/main/java/org/apache/spark/examples/streaming/JavaDirectKerberizedKafkaWordCount.java\n",
            "spark-3.3.1-bin-hadoop3/examples/src/main/java/org/apache/spark/examples/streaming/JavaNetworkWordCount.java\n",
            "spark-3.3.1-bin-hadoop3/examples/src/main/java/org/apache/spark/examples/streaming/JavaQueueStream.java\n",
            "spark-3.3.1-bin-hadoop3/examples/src/main/java/org/apache/spark/examples/streaming/JavaRecord.java\n",
            "spark-3.3.1-bin-hadoop3/examples/src/main/java/org/apache/spark/examples/streaming/JavaRecoverableNetworkWordCount.java\n",
            "spark-3.3.1-bin-hadoop3/examples/src/main/java/org/apache/spark/examples/streaming/JavaSqlNetworkWordCount.java\n",
            "spark-3.3.1-bin-hadoop3/examples/src/main/java/org/apache/spark/examples/streaming/JavaStatefulNetworkWordCount.java\n",
            "spark-3.3.1-bin-hadoop3/examples/src/main/python/\n",
            "spark-3.3.1-bin-hadoop3/examples/src/main/python/__init__.py\n",
            "spark-3.3.1-bin-hadoop3/examples/src/main/python/als.py\n",
            "spark-3.3.1-bin-hadoop3/examples/src/main/python/avro_inputformat.py\n",
            "spark-3.3.1-bin-hadoop3/examples/src/main/python/kmeans.py\n",
            "spark-3.3.1-bin-hadoop3/examples/src/main/python/logistic_regression.py\n",
            "spark-3.3.1-bin-hadoop3/examples/src/main/python/ml/\n",
            "spark-3.3.1-bin-hadoop3/examples/src/main/python/ml/__init__,py\n",
            "spark-3.3.1-bin-hadoop3/examples/src/main/python/ml/aft_survival_regression.py\n",
            "spark-3.3.1-bin-hadoop3/examples/src/main/python/ml/als_example.py\n",
            "spark-3.3.1-bin-hadoop3/examples/src/main/python/ml/binarizer_example.py\n",
            "spark-3.3.1-bin-hadoop3/examples/src/main/python/ml/bisecting_k_means_example.py\n",
            "spark-3.3.1-bin-hadoop3/examples/src/main/python/ml/bucketed_random_projection_lsh_example.py\n",
            "spark-3.3.1-bin-hadoop3/examples/src/main/python/ml/bucketizer_example.py\n",
            "spark-3.3.1-bin-hadoop3/examples/src/main/python/ml/chi_square_test_example.py\n",
            "spark-3.3.1-bin-hadoop3/examples/src/main/python/ml/chisq_selector_example.py\n",
            "spark-3.3.1-bin-hadoop3/examples/src/main/python/ml/correlation_example.py\n",
            "spark-3.3.1-bin-hadoop3/examples/src/main/python/ml/count_vectorizer_example.py\n",
            "spark-3.3.1-bin-hadoop3/examples/src/main/python/ml/cross_validator.py\n",
            "spark-3.3.1-bin-hadoop3/examples/src/main/python/ml/dataframe_example.py\n",
            "spark-3.3.1-bin-hadoop3/examples/src/main/python/ml/dct_example.py\n",
            "spark-3.3.1-bin-hadoop3/examples/src/main/python/ml/decision_tree_classification_example.py\n",
            "spark-3.3.1-bin-hadoop3/examples/src/main/python/ml/decision_tree_regression_example.py\n",
            "spark-3.3.1-bin-hadoop3/examples/src/main/python/ml/elementwise_product_example.py\n",
            "spark-3.3.1-bin-hadoop3/examples/src/main/python/ml/estimator_transformer_param_example.py\n",
            "spark-3.3.1-bin-hadoop3/examples/src/main/python/ml/feature_hasher_example.py\n",
            "spark-3.3.1-bin-hadoop3/examples/src/main/python/ml/fm_classifier_example.py\n",
            "spark-3.3.1-bin-hadoop3/examples/src/main/python/ml/fm_regressor_example.py\n",
            "spark-3.3.1-bin-hadoop3/examples/src/main/python/ml/fpgrowth_example.py\n",
            "spark-3.3.1-bin-hadoop3/examples/src/main/python/ml/gaussian_mixture_example.py\n",
            "spark-3.3.1-bin-hadoop3/examples/src/main/python/ml/generalized_linear_regression_example.py\n",
            "spark-3.3.1-bin-hadoop3/examples/src/main/python/ml/gradient_boosted_tree_classifier_example.py\n",
            "spark-3.3.1-bin-hadoop3/examples/src/main/python/ml/gradient_boosted_tree_regressor_example.py\n",
            "spark-3.3.1-bin-hadoop3/examples/src/main/python/ml/imputer_example.py\n",
            "spark-3.3.1-bin-hadoop3/examples/src/main/python/ml/index_to_string_example.py\n",
            "spark-3.3.1-bin-hadoop3/examples/src/main/python/ml/interaction_example.py\n",
            "spark-3.3.1-bin-hadoop3/examples/src/main/python/ml/isotonic_regression_example.py\n",
            "spark-3.3.1-bin-hadoop3/examples/src/main/python/ml/kmeans_example.py\n",
            "spark-3.3.1-bin-hadoop3/examples/src/main/python/ml/lda_example.py\n",
            "spark-3.3.1-bin-hadoop3/examples/src/main/python/ml/linear_regression_with_elastic_net.py\n",
            "spark-3.3.1-bin-hadoop3/examples/src/main/python/ml/linearsvc.py\n",
            "spark-3.3.1-bin-hadoop3/examples/src/main/python/ml/logistic_regression_summary_example.py\n",
            "spark-3.3.1-bin-hadoop3/examples/src/main/python/ml/logistic_regression_with_elastic_net.py\n",
            "spark-3.3.1-bin-hadoop3/examples/src/main/python/ml/max_abs_scaler_example.py\n",
            "spark-3.3.1-bin-hadoop3/examples/src/main/python/ml/min_hash_lsh_example.py\n",
            "spark-3.3.1-bin-hadoop3/examples/src/main/python/ml/min_max_scaler_example.py\n",
            "spark-3.3.1-bin-hadoop3/examples/src/main/python/ml/multiclass_logistic_regression_with_elastic_net.py\n",
            "spark-3.3.1-bin-hadoop3/examples/src/main/python/ml/multilayer_perceptron_classification.py\n",
            "spark-3.3.1-bin-hadoop3/examples/src/main/python/ml/n_gram_example.py\n",
            "spark-3.3.1-bin-hadoop3/examples/src/main/python/ml/naive_bayes_example.py\n",
            "spark-3.3.1-bin-hadoop3/examples/src/main/python/ml/normalizer_example.py\n",
            "spark-3.3.1-bin-hadoop3/examples/src/main/python/ml/one_vs_rest_example.py\n",
            "spark-3.3.1-bin-hadoop3/examples/src/main/python/ml/onehot_encoder_example.py\n",
            "spark-3.3.1-bin-hadoop3/examples/src/main/python/ml/pca_example.py\n",
            "spark-3.3.1-bin-hadoop3/examples/src/main/python/ml/pipeline_example.py\n",
            "spark-3.3.1-bin-hadoop3/examples/src/main/python/ml/polynomial_expansion_example.py\n",
            "spark-3.3.1-bin-hadoop3/examples/src/main/python/ml/power_iteration_clustering_example.py\n",
            "spark-3.3.1-bin-hadoop3/examples/src/main/python/ml/prefixspan_example.py\n",
            "spark-3.3.1-bin-hadoop3/examples/src/main/python/ml/quantile_discretizer_example.py\n",
            "spark-3.3.1-bin-hadoop3/examples/src/main/python/ml/random_forest_classifier_example.py\n",
            "spark-3.3.1-bin-hadoop3/examples/src/main/python/ml/random_forest_regressor_example.py\n",
            "spark-3.3.1-bin-hadoop3/examples/src/main/python/ml/rformula_example.py\n",
            "spark-3.3.1-bin-hadoop3/examples/src/main/python/ml/robust_scaler_example.py\n",
            "spark-3.3.1-bin-hadoop3/examples/src/main/python/ml/sql_transformer.py\n",
            "spark-3.3.1-bin-hadoop3/examples/src/main/python/ml/standard_scaler_example.py\n",
            "spark-3.3.1-bin-hadoop3/examples/src/main/python/ml/stopwords_remover_example.py\n",
            "spark-3.3.1-bin-hadoop3/examples/src/main/python/ml/string_indexer_example.py\n",
            "spark-3.3.1-bin-hadoop3/examples/src/main/python/ml/summarizer_example.py\n",
            "spark-3.3.1-bin-hadoop3/examples/src/main/python/ml/tf_idf_example.py\n",
            "spark-3.3.1-bin-hadoop3/examples/src/main/python/ml/tokenizer_example.py\n",
            "spark-3.3.1-bin-hadoop3/examples/src/main/python/ml/train_validation_split.py\n",
            "spark-3.3.1-bin-hadoop3/examples/src/main/python/ml/univariate_feature_selector_example.py\n",
            "spark-3.3.1-bin-hadoop3/examples/src/main/python/ml/variance_threshold_selector_example.py\n",
            "spark-3.3.1-bin-hadoop3/examples/src/main/python/ml/vector_assembler_example.py\n",
            "spark-3.3.1-bin-hadoop3/examples/src/main/python/ml/vector_indexer_example.py\n",
            "spark-3.3.1-bin-hadoop3/examples/src/main/python/ml/vector_size_hint_example.py\n",
            "spark-3.3.1-bin-hadoop3/examples/src/main/python/ml/vector_slicer_example.py\n",
            "spark-3.3.1-bin-hadoop3/examples/src/main/python/ml/word2vec_example.py\n",
            "spark-3.3.1-bin-hadoop3/examples/src/main/python/mllib/\n",
            "spark-3.3.1-bin-hadoop3/examples/src/main/python/mllib/__init__.py\n",
            "spark-3.3.1-bin-hadoop3/examples/src/main/python/mllib/binary_classification_metrics_example.py\n",
            "spark-3.3.1-bin-hadoop3/examples/src/main/python/mllib/bisecting_k_means_example.py\n",
            "spark-3.3.1-bin-hadoop3/examples/src/main/python/mllib/correlations.py\n",
            "spark-3.3.1-bin-hadoop3/examples/src/main/python/mllib/correlations_example.py\n",
            "spark-3.3.1-bin-hadoop3/examples/src/main/python/mllib/decision_tree_classification_example.py\n",
            "spark-3.3.1-bin-hadoop3/examples/src/main/python/mllib/decision_tree_regression_example.py\n",
            "spark-3.3.1-bin-hadoop3/examples/src/main/python/mllib/elementwise_product_example.py\n",
            "spark-3.3.1-bin-hadoop3/examples/src/main/python/mllib/fpgrowth_example.py\n",
            "spark-3.3.1-bin-hadoop3/examples/src/main/python/mllib/gaussian_mixture_example.py\n",
            "spark-3.3.1-bin-hadoop3/examples/src/main/python/mllib/gaussian_mixture_model.py\n",
            "spark-3.3.1-bin-hadoop3/examples/src/main/python/mllib/gradient_boosting_classification_example.py\n",
            "spark-3.3.1-bin-hadoop3/examples/src/main/python/mllib/gradient_boosting_regression_example.py\n",
            "spark-3.3.1-bin-hadoop3/examples/src/main/python/mllib/hypothesis_testing_example.py\n",
            "spark-3.3.1-bin-hadoop3/examples/src/main/python/mllib/hypothesis_testing_kolmogorov_smirnov_test_example.py\n",
            "spark-3.3.1-bin-hadoop3/examples/src/main/python/mllib/isotonic_regression_example.py\n",
            "spark-3.3.1-bin-hadoop3/examples/src/main/python/mllib/k_means_example.py\n",
            "spark-3.3.1-bin-hadoop3/examples/src/main/python/mllib/kernel_density_estimation_example.py\n",
            "spark-3.3.1-bin-hadoop3/examples/src/main/python/mllib/kmeans.py\n",
            "spark-3.3.1-bin-hadoop3/examples/src/main/python/mllib/latent_dirichlet_allocation_example.py\n",
            "spark-3.3.1-bin-hadoop3/examples/src/main/python/mllib/linear_regression_with_sgd_example.py\n",
            "spark-3.3.1-bin-hadoop3/examples/src/main/python/mllib/logistic_regression.py\n",
            "spark-3.3.1-bin-hadoop3/examples/src/main/python/mllib/logistic_regression_with_lbfgs_example.py\n",
            "spark-3.3.1-bin-hadoop3/examples/src/main/python/mllib/multi_class_metrics_example.py\n",
            "spark-3.3.1-bin-hadoop3/examples/src/main/python/mllib/multi_label_metrics_example.py\n",
            "spark-3.3.1-bin-hadoop3/examples/src/main/python/mllib/naive_bayes_example.py\n",
            "spark-3.3.1-bin-hadoop3/examples/src/main/python/mllib/normalizer_example.py\n",
            "spark-3.3.1-bin-hadoop3/examples/src/main/python/mllib/pca_rowmatrix_example.py\n",
            "spark-3.3.1-bin-hadoop3/examples/src/main/python/mllib/power_iteration_clustering_example.py\n",
            "spark-3.3.1-bin-hadoop3/examples/src/main/python/mllib/random_forest_classification_example.py\n",
            "spark-3.3.1-bin-hadoop3/examples/src/main/python/mllib/random_forest_regression_example.py\n",
            "spark-3.3.1-bin-hadoop3/examples/src/main/python/mllib/random_rdd_generation.py\n",
            "spark-3.3.1-bin-hadoop3/examples/src/main/python/mllib/ranking_metrics_example.py\n",
            "spark-3.3.1-bin-hadoop3/examples/src/main/python/mllib/recommendation_example.py\n",
            "spark-3.3.1-bin-hadoop3/examples/src/main/python/mllib/regression_metrics_example.py\n",
            "spark-3.3.1-bin-hadoop3/examples/src/main/python/mllib/sampled_rdds.py\n",
            "spark-3.3.1-bin-hadoop3/examples/src/main/python/mllib/standard_scaler_example.py\n",
            "spark-3.3.1-bin-hadoop3/examples/src/main/python/mllib/stratified_sampling_example.py\n",
            "spark-3.3.1-bin-hadoop3/examples/src/main/python/mllib/streaming_k_means_example.py\n",
            "spark-3.3.1-bin-hadoop3/examples/src/main/python/mllib/streaming_linear_regression_example.py\n",
            "spark-3.3.1-bin-hadoop3/examples/src/main/python/mllib/summary_statistics_example.py\n",
            "spark-3.3.1-bin-hadoop3/examples/src/main/python/mllib/svd_example.py\n",
            "spark-3.3.1-bin-hadoop3/examples/src/main/python/mllib/svm_with_sgd_example.py\n",
            "spark-3.3.1-bin-hadoop3/examples/src/main/python/mllib/tf_idf_example.py\n",
            "spark-3.3.1-bin-hadoop3/examples/src/main/python/mllib/word2vec.py\n",
            "spark-3.3.1-bin-hadoop3/examples/src/main/python/mllib/word2vec_example.py\n",
            "spark-3.3.1-bin-hadoop3/examples/src/main/python/pagerank.py\n",
            "spark-3.3.1-bin-hadoop3/examples/src/main/python/parquet_inputformat.py\n",
            "spark-3.3.1-bin-hadoop3/examples/src/main/python/pi.py\n",
            "spark-3.3.1-bin-hadoop3/examples/src/main/python/sort.py\n",
            "spark-3.3.1-bin-hadoop3/examples/src/main/python/sql/\n",
            "spark-3.3.1-bin-hadoop3/examples/src/main/python/sql/__init__.py\n",
            "spark-3.3.1-bin-hadoop3/examples/src/main/python/sql/arrow.py\n",
            "spark-3.3.1-bin-hadoop3/examples/src/main/python/sql/basic.py\n",
            "spark-3.3.1-bin-hadoop3/examples/src/main/python/sql/datasource.py\n",
            "spark-3.3.1-bin-hadoop3/examples/src/main/python/sql/hive.py\n",
            "spark-3.3.1-bin-hadoop3/examples/src/main/python/sql/streaming/\n",
            "spark-3.3.1-bin-hadoop3/examples/src/main/python/sql/streaming/__init__,py\n",
            "spark-3.3.1-bin-hadoop3/examples/src/main/python/sql/streaming/structured_kafka_wordcount.py\n",
            "spark-3.3.1-bin-hadoop3/examples/src/main/python/sql/streaming/structured_network_wordcount.py\n",
            "spark-3.3.1-bin-hadoop3/examples/src/main/python/sql/streaming/structured_network_wordcount_windowed.py\n",
            "spark-3.3.1-bin-hadoop3/examples/src/main/python/sql/streaming/structured_sessionization.py\n",
            "spark-3.3.1-bin-hadoop3/examples/src/main/python/status_api_demo.py\n",
            "spark-3.3.1-bin-hadoop3/examples/src/main/python/streaming/\n",
            "spark-3.3.1-bin-hadoop3/examples/src/main/python/streaming/__init__.py\n",
            "spark-3.3.1-bin-hadoop3/examples/src/main/python/streaming/hdfs_wordcount.py\n",
            "spark-3.3.1-bin-hadoop3/examples/src/main/python/streaming/network_wordcount.py\n",
            "spark-3.3.1-bin-hadoop3/examples/src/main/python/streaming/network_wordjoinsentiments.py\n",
            "spark-3.3.1-bin-hadoop3/examples/src/main/python/streaming/queue_stream.py\n",
            "spark-3.3.1-bin-hadoop3/examples/src/main/python/streaming/recoverable_network_wordcount.py\n",
            "spark-3.3.1-bin-hadoop3/examples/src/main/python/streaming/sql_network_wordcount.py\n",
            "spark-3.3.1-bin-hadoop3/examples/src/main/python/streaming/stateful_network_wordcount.py\n",
            "spark-3.3.1-bin-hadoop3/examples/src/main/python/transitive_closure.py\n",
            "spark-3.3.1-bin-hadoop3/examples/src/main/python/wordcount.py\n",
            "spark-3.3.1-bin-hadoop3/examples/src/main/r/\n",
            "spark-3.3.1-bin-hadoop3/examples/src/main/r/RSparkSQLExample.R\n",
            "spark-3.3.1-bin-hadoop3/examples/src/main/r/data-manipulation.R\n",
            "spark-3.3.1-bin-hadoop3/examples/src/main/r/dataframe.R\n",
            "spark-3.3.1-bin-hadoop3/examples/src/main/r/ml/\n",
            "spark-3.3.1-bin-hadoop3/examples/src/main/r/ml/als.R\n",
            "spark-3.3.1-bin-hadoop3/examples/src/main/r/ml/bisectingKmeans.R\n",
            "spark-3.3.1-bin-hadoop3/examples/src/main/r/ml/decisionTree.R\n",
            "spark-3.3.1-bin-hadoop3/examples/src/main/r/ml/fmClassifier.R\n",
            "spark-3.3.1-bin-hadoop3/examples/src/main/r/ml/fmRegressor.R\n",
            "spark-3.3.1-bin-hadoop3/examples/src/main/r/ml/fpm.R\n",
            "spark-3.3.1-bin-hadoop3/examples/src/main/r/ml/gaussianMixture.R\n",
            "spark-3.3.1-bin-hadoop3/examples/src/main/r/ml/gbt.R\n",
            "spark-3.3.1-bin-hadoop3/examples/src/main/r/ml/glm.R\n",
            "spark-3.3.1-bin-hadoop3/examples/src/main/r/ml/isoreg.R\n",
            "spark-3.3.1-bin-hadoop3/examples/src/main/r/ml/kmeans.R\n",
            "spark-3.3.1-bin-hadoop3/examples/src/main/r/ml/kstest.R\n",
            "spark-3.3.1-bin-hadoop3/examples/src/main/r/ml/lda.R\n",
            "spark-3.3.1-bin-hadoop3/examples/src/main/r/ml/lm_with_elastic_net.R\n",
            "spark-3.3.1-bin-hadoop3/examples/src/main/r/ml/logit.R\n",
            "spark-3.3.1-bin-hadoop3/examples/src/main/r/ml/ml.R\n",
            "spark-3.3.1-bin-hadoop3/examples/src/main/r/ml/mlp.R\n",
            "spark-3.3.1-bin-hadoop3/examples/src/main/r/ml/naiveBayes.R\n",
            "spark-3.3.1-bin-hadoop3/examples/src/main/r/ml/powerIterationClustering.R\n",
            "spark-3.3.1-bin-hadoop3/examples/src/main/r/ml/prefixSpan.R\n",
            "spark-3.3.1-bin-hadoop3/examples/src/main/r/ml/randomForest.R\n",
            "spark-3.3.1-bin-hadoop3/examples/src/main/r/ml/survreg.R\n",
            "spark-3.3.1-bin-hadoop3/examples/src/main/r/ml/svmLinear.R\n",
            "spark-3.3.1-bin-hadoop3/examples/src/main/r/streaming/\n",
            "spark-3.3.1-bin-hadoop3/examples/src/main/r/streaming/structured_network_wordcount.R\n",
            "spark-3.3.1-bin-hadoop3/examples/src/main/resources/\n",
            "spark-3.3.1-bin-hadoop3/examples/src/main/resources/META-INF/\n",
            "spark-3.3.1-bin-hadoop3/examples/src/main/resources/META-INF/services/\n",
            "spark-3.3.1-bin-hadoop3/examples/src/main/resources/META-INF/services/org.apache.spark.sql.SparkSessionExtensionsProvider\n",
            "spark-3.3.1-bin-hadoop3/examples/src/main/resources/META-INF/services/org.apache.spark.sql.jdbc.JdbcConnectionProvider\n",
            "spark-3.3.1-bin-hadoop3/examples/src/main/resources/dir1/\n",
            "spark-3.3.1-bin-hadoop3/examples/src/main/resources/dir1/dir2/\n",
            "spark-3.3.1-bin-hadoop3/examples/src/main/resources/dir1/dir2/file2.parquet\n",
            "spark-3.3.1-bin-hadoop3/examples/src/main/resources/dir1/file1.parquet\n",
            "spark-3.3.1-bin-hadoop3/examples/src/main/resources/dir1/file3.json\n",
            "spark-3.3.1-bin-hadoop3/examples/src/main/resources/employees.json\n",
            "spark-3.3.1-bin-hadoop3/examples/src/main/resources/full_user.avsc\n",
            "spark-3.3.1-bin-hadoop3/examples/src/main/resources/kv1.txt\n",
            "spark-3.3.1-bin-hadoop3/examples/src/main/resources/people.csv\n",
            "spark-3.3.1-bin-hadoop3/examples/src/main/resources/people.json\n",
            "spark-3.3.1-bin-hadoop3/examples/src/main/resources/people.txt\n",
            "spark-3.3.1-bin-hadoop3/examples/src/main/resources/user.avsc\n",
            "spark-3.3.1-bin-hadoop3/examples/src/main/resources/users.avro\n",
            "spark-3.3.1-bin-hadoop3/examples/src/main/resources/users.orc\n",
            "spark-3.3.1-bin-hadoop3/examples/src/main/resources/users.parquet\n",
            "spark-3.3.1-bin-hadoop3/examples/src/main/scala/\n",
            "spark-3.3.1-bin-hadoop3/examples/src/main/scala/org/\n",
            "spark-3.3.1-bin-hadoop3/examples/src/main/scala/org/apache/\n",
            "spark-3.3.1-bin-hadoop3/examples/src/main/scala/org/apache/spark/\n",
            "spark-3.3.1-bin-hadoop3/examples/src/main/scala/org/apache/spark/examples/\n",
            "spark-3.3.1-bin-hadoop3/examples/src/main/scala/org/apache/spark/examples/AccumulatorMetricsTest.scala\n",
            "spark-3.3.1-bin-hadoop3/examples/src/main/scala/org/apache/spark/examples/BroadcastTest.scala\n",
            "spark-3.3.1-bin-hadoop3/examples/src/main/scala/org/apache/spark/examples/DFSReadWriteTest.scala\n",
            "spark-3.3.1-bin-hadoop3/examples/src/main/scala/org/apache/spark/examples/DriverSubmissionTest.scala\n",
            "spark-3.3.1-bin-hadoop3/examples/src/main/scala/org/apache/spark/examples/ExceptionHandlingTest.scala\n",
            "spark-3.3.1-bin-hadoop3/examples/src/main/scala/org/apache/spark/examples/GroupByTest.scala\n",
            "spark-3.3.1-bin-hadoop3/examples/src/main/scala/org/apache/spark/examples/HdfsTest.scala\n",
            "spark-3.3.1-bin-hadoop3/examples/src/main/scala/org/apache/spark/examples/LocalALS.scala\n",
            "spark-3.3.1-bin-hadoop3/examples/src/main/scala/org/apache/spark/examples/LocalFileLR.scala\n",
            "spark-3.3.1-bin-hadoop3/examples/src/main/scala/org/apache/spark/examples/LocalKMeans.scala\n",
            "spark-3.3.1-bin-hadoop3/examples/src/main/scala/org/apache/spark/examples/LocalLR.scala\n",
            "spark-3.3.1-bin-hadoop3/examples/src/main/scala/org/apache/spark/examples/LocalPi.scala\n",
            "spark-3.3.1-bin-hadoop3/examples/src/main/scala/org/apache/spark/examples/LogQuery.scala\n",
            "spark-3.3.1-bin-hadoop3/examples/src/main/scala/org/apache/spark/examples/MiniReadWriteTest.scala\n",
            "spark-3.3.1-bin-hadoop3/examples/src/main/scala/org/apache/spark/examples/MultiBroadcastTest.scala\n",
            "spark-3.3.1-bin-hadoop3/examples/src/main/scala/org/apache/spark/examples/SimpleSkewedGroupByTest.scala\n",
            "spark-3.3.1-bin-hadoop3/examples/src/main/scala/org/apache/spark/examples/SkewedGroupByTest.scala\n",
            "spark-3.3.1-bin-hadoop3/examples/src/main/scala/org/apache/spark/examples/SparkALS.scala\n",
            "spark-3.3.1-bin-hadoop3/examples/src/main/scala/org/apache/spark/examples/SparkHdfsLR.scala\n",
            "spark-3.3.1-bin-hadoop3/examples/src/main/scala/org/apache/spark/examples/SparkKMeans.scala\n",
            "spark-3.3.1-bin-hadoop3/examples/src/main/scala/org/apache/spark/examples/SparkLR.scala\n",
            "spark-3.3.1-bin-hadoop3/examples/src/main/scala/org/apache/spark/examples/SparkPageRank.scala\n",
            "spark-3.3.1-bin-hadoop3/examples/src/main/scala/org/apache/spark/examples/SparkPi.scala\n",
            "spark-3.3.1-bin-hadoop3/examples/src/main/scala/org/apache/spark/examples/SparkRemoteFileTest.scala\n",
            "spark-3.3.1-bin-hadoop3/examples/src/main/scala/org/apache/spark/examples/SparkTC.scala\n",
            "spark-3.3.1-bin-hadoop3/examples/src/main/scala/org/apache/spark/examples/extensions/\n",
            "spark-3.3.1-bin-hadoop3/examples/src/main/scala/org/apache/spark/examples/extensions/AgeExample.scala\n",
            "spark-3.3.1-bin-hadoop3/examples/src/main/scala/org/apache/spark/examples/extensions/SessionExtensionsWithLoader.scala\n",
            "spark-3.3.1-bin-hadoop3/examples/src/main/scala/org/apache/spark/examples/extensions/SessionExtensionsWithoutLoader.scala\n",
            "spark-3.3.1-bin-hadoop3/examples/src/main/scala/org/apache/spark/examples/extensions/SparkSessionExtensionsTest.scala\n",
            "spark-3.3.1-bin-hadoop3/examples/src/main/scala/org/apache/spark/examples/graphx/\n",
            "spark-3.3.1-bin-hadoop3/examples/src/main/scala/org/apache/spark/examples/graphx/AggregateMessagesExample.scala\n",
            "spark-3.3.1-bin-hadoop3/examples/src/main/scala/org/apache/spark/examples/graphx/Analytics.scala\n",
            "spark-3.3.1-bin-hadoop3/examples/src/main/scala/org/apache/spark/examples/graphx/ComprehensiveExample.scala\n",
            "spark-3.3.1-bin-hadoop3/examples/src/main/scala/org/apache/spark/examples/graphx/ConnectedComponentsExample.scala\n",
            "spark-3.3.1-bin-hadoop3/examples/src/main/scala/org/apache/spark/examples/graphx/LiveJournalPageRank.scala\n",
            "spark-3.3.1-bin-hadoop3/examples/src/main/scala/org/apache/spark/examples/graphx/PageRankExample.scala\n",
            "spark-3.3.1-bin-hadoop3/examples/src/main/scala/org/apache/spark/examples/graphx/SSSPExample.scala\n",
            "spark-3.3.1-bin-hadoop3/examples/src/main/scala/org/apache/spark/examples/graphx/SynthBenchmark.scala\n",
            "spark-3.3.1-bin-hadoop3/examples/src/main/scala/org/apache/spark/examples/graphx/TriangleCountingExample.scala\n",
            "spark-3.3.1-bin-hadoop3/examples/src/main/scala/org/apache/spark/examples/ml/\n",
            "spark-3.3.1-bin-hadoop3/examples/src/main/scala/org/apache/spark/examples/ml/AFTSurvivalRegressionExample.scala\n",
            "spark-3.3.1-bin-hadoop3/examples/src/main/scala/org/apache/spark/examples/ml/ALSExample.scala\n",
            "spark-3.3.1-bin-hadoop3/examples/src/main/scala/org/apache/spark/examples/ml/BinarizerExample.scala\n",
            "spark-3.3.1-bin-hadoop3/examples/src/main/scala/org/apache/spark/examples/ml/BisectingKMeansExample.scala\n",
            "spark-3.3.1-bin-hadoop3/examples/src/main/scala/org/apache/spark/examples/ml/BucketedRandomProjectionLSHExample.scala\n",
            "spark-3.3.1-bin-hadoop3/examples/src/main/scala/org/apache/spark/examples/ml/BucketizerExample.scala\n",
            "spark-3.3.1-bin-hadoop3/examples/src/main/scala/org/apache/spark/examples/ml/ChiSqSelectorExample.scala\n",
            "spark-3.3.1-bin-hadoop3/examples/src/main/scala/org/apache/spark/examples/ml/ChiSquareTestExample.scala\n",
            "spark-3.3.1-bin-hadoop3/examples/src/main/scala/org/apache/spark/examples/ml/CorrelationExample.scala\n",
            "spark-3.3.1-bin-hadoop3/examples/src/main/scala/org/apache/spark/examples/ml/CountVectorizerExample.scala\n",
            "spark-3.3.1-bin-hadoop3/examples/src/main/scala/org/apache/spark/examples/ml/DCTExample.scala\n",
            "spark-3.3.1-bin-hadoop3/examples/src/main/scala/org/apache/spark/examples/ml/DataFrameExample.scala\n",
            "spark-3.3.1-bin-hadoop3/examples/src/main/scala/org/apache/spark/examples/ml/DecisionTreeClassificationExample.scala\n",
            "spark-3.3.1-bin-hadoop3/examples/src/main/scala/org/apache/spark/examples/ml/DecisionTreeExample.scala\n",
            "spark-3.3.1-bin-hadoop3/examples/src/main/scala/org/apache/spark/examples/ml/DecisionTreeRegressionExample.scala\n",
            "spark-3.3.1-bin-hadoop3/examples/src/main/scala/org/apache/spark/examples/ml/DeveloperApiExample.scala\n",
            "spark-3.3.1-bin-hadoop3/examples/src/main/scala/org/apache/spark/examples/ml/ElementwiseProductExample.scala\n",
            "spark-3.3.1-bin-hadoop3/examples/src/main/scala/org/apache/spark/examples/ml/EstimatorTransformerParamExample.scala\n",
            "spark-3.3.1-bin-hadoop3/examples/src/main/scala/org/apache/spark/examples/ml/FMClassifierExample.scala\n",
            "spark-3.3.1-bin-hadoop3/examples/src/main/scala/org/apache/spark/examples/ml/FMRegressorExample.scala\n",
            "spark-3.3.1-bin-hadoop3/examples/src/main/scala/org/apache/spark/examples/ml/FPGrowthExample.scala\n",
            "spark-3.3.1-bin-hadoop3/examples/src/main/scala/org/apache/spark/examples/ml/FeatureHasherExample.scala\n",
            "spark-3.3.1-bin-hadoop3/examples/src/main/scala/org/apache/spark/examples/ml/GBTExample.scala\n",
            "spark-3.3.1-bin-hadoop3/examples/src/main/scala/org/apache/spark/examples/ml/GaussianMixtureExample.scala\n",
            "spark-3.3.1-bin-hadoop3/examples/src/main/scala/org/apache/spark/examples/ml/GeneralizedLinearRegressionExample.scala\n",
            "spark-3.3.1-bin-hadoop3/examples/src/main/scala/org/apache/spark/examples/ml/GradientBoostedTreeClassifierExample.scala\n",
            "spark-3.3.1-bin-hadoop3/examples/src/main/scala/org/apache/spark/examples/ml/GradientBoostedTreeRegressorExample.scala\n",
            "spark-3.3.1-bin-hadoop3/examples/src/main/scala/org/apache/spark/examples/ml/ImputerExample.scala\n",
            "spark-3.3.1-bin-hadoop3/examples/src/main/scala/org/apache/spark/examples/ml/IndexToStringExample.scala\n",
            "spark-3.3.1-bin-hadoop3/examples/src/main/scala/org/apache/spark/examples/ml/InteractionExample.scala\n",
            "spark-3.3.1-bin-hadoop3/examples/src/main/scala/org/apache/spark/examples/ml/IsotonicRegressionExample.scala\n",
            "spark-3.3.1-bin-hadoop3/examples/src/main/scala/org/apache/spark/examples/ml/KMeansExample.scala\n",
            "spark-3.3.1-bin-hadoop3/examples/src/main/scala/org/apache/spark/examples/ml/LDAExample.scala\n",
            "spark-3.3.1-bin-hadoop3/examples/src/main/scala/org/apache/spark/examples/ml/LinearRegressionExample.scala\n",
            "spark-3.3.1-bin-hadoop3/examples/src/main/scala/org/apache/spark/examples/ml/LinearRegressionWithElasticNetExample.scala\n",
            "spark-3.3.1-bin-hadoop3/examples/src/main/scala/org/apache/spark/examples/ml/LinearSVCExample.scala\n",
            "spark-3.3.1-bin-hadoop3/examples/src/main/scala/org/apache/spark/examples/ml/LogisticRegressionExample.scala\n",
            "spark-3.3.1-bin-hadoop3/examples/src/main/scala/org/apache/spark/examples/ml/LogisticRegressionSummaryExample.scala\n",
            "spark-3.3.1-bin-hadoop3/examples/src/main/scala/org/apache/spark/examples/ml/LogisticRegressionWithElasticNetExample.scala\n",
            "spark-3.3.1-bin-hadoop3/examples/src/main/scala/org/apache/spark/examples/ml/MaxAbsScalerExample.scala\n",
            "spark-3.3.1-bin-hadoop3/examples/src/main/scala/org/apache/spark/examples/ml/MinHashLSHExample.scala\n",
            "spark-3.3.1-bin-hadoop3/examples/src/main/scala/org/apache/spark/examples/ml/MinMaxScalerExample.scala\n",
            "spark-3.3.1-bin-hadoop3/examples/src/main/scala/org/apache/spark/examples/ml/ModelSelectionViaCrossValidationExample.scala\n",
            "spark-3.3.1-bin-hadoop3/examples/src/main/scala/org/apache/spark/examples/ml/ModelSelectionViaTrainValidationSplitExample.scala\n",
            "spark-3.3.1-bin-hadoop3/examples/src/main/scala/org/apache/spark/examples/ml/MulticlassLogisticRegressionWithElasticNetExample.scala\n",
            "spark-3.3.1-bin-hadoop3/examples/src/main/scala/org/apache/spark/examples/ml/MultilayerPerceptronClassifierExample.scala\n",
            "spark-3.3.1-bin-hadoop3/examples/src/main/scala/org/apache/spark/examples/ml/NGramExample.scala\n",
            "spark-3.3.1-bin-hadoop3/examples/src/main/scala/org/apache/spark/examples/ml/NaiveBayesExample.scala\n",
            "spark-3.3.1-bin-hadoop3/examples/src/main/scala/org/apache/spark/examples/ml/NormalizerExample.scala\n",
            "spark-3.3.1-bin-hadoop3/examples/src/main/scala/org/apache/spark/examples/ml/OneHotEncoderExample.scala\n",
            "spark-3.3.1-bin-hadoop3/examples/src/main/scala/org/apache/spark/examples/ml/OneVsRestExample.scala\n",
            "spark-3.3.1-bin-hadoop3/examples/src/main/scala/org/apache/spark/examples/ml/PCAExample.scala\n",
            "spark-3.3.1-bin-hadoop3/examples/src/main/scala/org/apache/spark/examples/ml/PipelineExample.scala\n",
            "spark-3.3.1-bin-hadoop3/examples/src/main/scala/org/apache/spark/examples/ml/PolynomialExpansionExample.scala\n",
            "spark-3.3.1-bin-hadoop3/examples/src/main/scala/org/apache/spark/examples/ml/PowerIterationClusteringExample.scala\n",
            "spark-3.3.1-bin-hadoop3/examples/src/main/scala/org/apache/spark/examples/ml/PrefixSpanExample.scala\n",
            "spark-3.3.1-bin-hadoop3/examples/src/main/scala/org/apache/spark/examples/ml/QuantileDiscretizerExample.scala\n",
            "spark-3.3.1-bin-hadoop3/examples/src/main/scala/org/apache/spark/examples/ml/RFormulaExample.scala\n",
            "spark-3.3.1-bin-hadoop3/examples/src/main/scala/org/apache/spark/examples/ml/RandomForestClassifierExample.scala\n",
            "spark-3.3.1-bin-hadoop3/examples/src/main/scala/org/apache/spark/examples/ml/RandomForestExample.scala\n",
            "spark-3.3.1-bin-hadoop3/examples/src/main/scala/org/apache/spark/examples/ml/RandomForestRegressorExample.scala\n",
            "spark-3.3.1-bin-hadoop3/examples/src/main/scala/org/apache/spark/examples/ml/RobustScalerExample.scala\n",
            "spark-3.3.1-bin-hadoop3/examples/src/main/scala/org/apache/spark/examples/ml/SQLTransformerExample.scala\n",
            "spark-3.3.1-bin-hadoop3/examples/src/main/scala/org/apache/spark/examples/ml/StandardScalerExample.scala\n",
            "spark-3.3.1-bin-hadoop3/examples/src/main/scala/org/apache/spark/examples/ml/StopWordsRemoverExample.scala\n",
            "spark-3.3.1-bin-hadoop3/examples/src/main/scala/org/apache/spark/examples/ml/StringIndexerExample.scala\n",
            "spark-3.3.1-bin-hadoop3/examples/src/main/scala/org/apache/spark/examples/ml/SummarizerExample.scala\n",
            "spark-3.3.1-bin-hadoop3/examples/src/main/scala/org/apache/spark/examples/ml/TfIdfExample.scala\n",
            "spark-3.3.1-bin-hadoop3/examples/src/main/scala/org/apache/spark/examples/ml/TokenizerExample.scala\n",
            "spark-3.3.1-bin-hadoop3/examples/src/main/scala/org/apache/spark/examples/ml/UnaryTransformerExample.scala\n",
            "spark-3.3.1-bin-hadoop3/examples/src/main/scala/org/apache/spark/examples/ml/UnivariateFeatureSelectorExample.scala\n",
            "spark-3.3.1-bin-hadoop3/examples/src/main/scala/org/apache/spark/examples/ml/VarianceThresholdSelectorExample.scala\n",
            "spark-3.3.1-bin-hadoop3/examples/src/main/scala/org/apache/spark/examples/ml/VectorAssemblerExample.scala\n",
            "spark-3.3.1-bin-hadoop3/examples/src/main/scala/org/apache/spark/examples/ml/VectorIndexerExample.scala\n",
            "spark-3.3.1-bin-hadoop3/examples/src/main/scala/org/apache/spark/examples/ml/VectorSizeHintExample.scala\n",
            "spark-3.3.1-bin-hadoop3/examples/src/main/scala/org/apache/spark/examples/ml/VectorSlicerExample.scala\n",
            "spark-3.3.1-bin-hadoop3/examples/src/main/scala/org/apache/spark/examples/ml/Word2VecExample.scala\n",
            "spark-3.3.1-bin-hadoop3/examples/src/main/scala/org/apache/spark/examples/mllib/\n",
            "spark-3.3.1-bin-hadoop3/examples/src/main/scala/org/apache/spark/examples/mllib/AbstractParams.scala\n",
            "spark-3.3.1-bin-hadoop3/examples/src/main/scala/org/apache/spark/examples/mllib/AssociationRulesExample.scala\n",
            "spark-3.3.1-bin-hadoop3/examples/src/main/scala/org/apache/spark/examples/mllib/BinaryClassification.scala\n",
            "spark-3.3.1-bin-hadoop3/examples/src/main/scala/org/apache/spark/examples/mllib/BinaryClassificationMetricsExample.scala\n",
            "spark-3.3.1-bin-hadoop3/examples/src/main/scala/org/apache/spark/examples/mllib/BisectingKMeansExample.scala\n",
            "spark-3.3.1-bin-hadoop3/examples/src/main/scala/org/apache/spark/examples/mllib/ChiSqSelectorExample.scala\n",
            "spark-3.3.1-bin-hadoop3/examples/src/main/scala/org/apache/spark/examples/mllib/Correlations.scala\n",
            "spark-3.3.1-bin-hadoop3/examples/src/main/scala/org/apache/spark/examples/mllib/CorrelationsExample.scala\n",
            "spark-3.3.1-bin-hadoop3/examples/src/main/scala/org/apache/spark/examples/mllib/CosineSimilarity.scala\n",
            "spark-3.3.1-bin-hadoop3/examples/src/main/scala/org/apache/spark/examples/mllib/DecisionTreeClassificationExample.scala\n",
            "spark-3.3.1-bin-hadoop3/examples/src/main/scala/org/apache/spark/examples/mllib/DecisionTreeRegressionExample.scala\n",
            "spark-3.3.1-bin-hadoop3/examples/src/main/scala/org/apache/spark/examples/mllib/DecisionTreeRunner.scala\n",
            "spark-3.3.1-bin-hadoop3/examples/src/main/scala/org/apache/spark/examples/mllib/DenseKMeans.scala\n",
            "spark-3.3.1-bin-hadoop3/examples/src/main/scala/org/apache/spark/examples/mllib/ElementwiseProductExample.scala\n",
            "spark-3.3.1-bin-hadoop3/examples/src/main/scala/org/apache/spark/examples/mllib/FPGrowthExample.scala\n",
            "spark-3.3.1-bin-hadoop3/examples/src/main/scala/org/apache/spark/examples/mllib/GaussianMixtureExample.scala\n",
            "spark-3.3.1-bin-hadoop3/examples/src/main/scala/org/apache/spark/examples/mllib/GradientBoostedTreesRunner.scala\n",
            "spark-3.3.1-bin-hadoop3/examples/src/main/scala/org/apache/spark/examples/mllib/GradientBoostingClassificationExample.scala\n",
            "spark-3.3.1-bin-hadoop3/examples/src/main/scala/org/apache/spark/examples/mllib/GradientBoostingRegressionExample.scala\n",
            "spark-3.3.1-bin-hadoop3/examples/src/main/scala/org/apache/spark/examples/mllib/HypothesisTestingExample.scala\n",
            "spark-3.3.1-bin-hadoop3/examples/src/main/scala/org/apache/spark/examples/mllib/HypothesisTestingKolmogorovSmirnovTestExample.scala\n",
            "spark-3.3.1-bin-hadoop3/examples/src/main/scala/org/apache/spark/examples/mllib/IsotonicRegressionExample.scala\n",
            "spark-3.3.1-bin-hadoop3/examples/src/main/scala/org/apache/spark/examples/mllib/KMeansExample.scala\n",
            "spark-3.3.1-bin-hadoop3/examples/src/main/scala/org/apache/spark/examples/mllib/KernelDensityEstimationExample.scala\n",
            "spark-3.3.1-bin-hadoop3/examples/src/main/scala/org/apache/spark/examples/mllib/LBFGSExample.scala\n",
            "spark-3.3.1-bin-hadoop3/examples/src/main/scala/org/apache/spark/examples/mllib/LDAExample.scala\n",
            "spark-3.3.1-bin-hadoop3/examples/src/main/scala/org/apache/spark/examples/mllib/LatentDirichletAllocationExample.scala\n",
            "spark-3.3.1-bin-hadoop3/examples/src/main/scala/org/apache/spark/examples/mllib/LogisticRegressionWithLBFGSExample.scala\n",
            "spark-3.3.1-bin-hadoop3/examples/src/main/scala/org/apache/spark/examples/mllib/MovieLensALS.scala\n",
            "spark-3.3.1-bin-hadoop3/examples/src/main/scala/org/apache/spark/examples/mllib/MultiLabelMetricsExample.scala\n",
            "spark-3.3.1-bin-hadoop3/examples/src/main/scala/org/apache/spark/examples/mllib/MulticlassMetricsExample.scala\n",
            "spark-3.3.1-bin-hadoop3/examples/src/main/scala/org/apache/spark/examples/mllib/MultivariateSummarizer.scala\n",
            "spark-3.3.1-bin-hadoop3/examples/src/main/scala/org/apache/spark/examples/mllib/NaiveBayesExample.scala\n",
            "spark-3.3.1-bin-hadoop3/examples/src/main/scala/org/apache/spark/examples/mllib/NormalizerExample.scala\n",
            "spark-3.3.1-bin-hadoop3/examples/src/main/scala/org/apache/spark/examples/mllib/PCAOnRowMatrixExample.scala\n",
            "spark-3.3.1-bin-hadoop3/examples/src/main/scala/org/apache/spark/examples/mllib/PCAOnSourceVectorExample.scala\n",
            "spark-3.3.1-bin-hadoop3/examples/src/main/scala/org/apache/spark/examples/mllib/PMMLModelExportExample.scala\n",
            "spark-3.3.1-bin-hadoop3/examples/src/main/scala/org/apache/spark/examples/mllib/PowerIterationClusteringExample.scala\n",
            "spark-3.3.1-bin-hadoop3/examples/src/main/scala/org/apache/spark/examples/mllib/PrefixSpanExample.scala\n",
            "spark-3.3.1-bin-hadoop3/examples/src/main/scala/org/apache/spark/examples/mllib/RandomForestClassificationExample.scala\n",
            "spark-3.3.1-bin-hadoop3/examples/src/main/scala/org/apache/spark/examples/mllib/RandomForestRegressionExample.scala\n",
            "spark-3.3.1-bin-hadoop3/examples/src/main/scala/org/apache/spark/examples/mllib/RandomRDDGeneration.scala\n",
            "spark-3.3.1-bin-hadoop3/examples/src/main/scala/org/apache/spark/examples/mllib/RankingMetricsExample.scala\n",
            "spark-3.3.1-bin-hadoop3/examples/src/main/scala/org/apache/spark/examples/mllib/RecommendationExample.scala\n",
            "spark-3.3.1-bin-hadoop3/examples/src/main/scala/org/apache/spark/examples/mllib/SVDExample.scala\n",
            "spark-3.3.1-bin-hadoop3/examples/src/main/scala/org/apache/spark/examples/mllib/SVMWithSGDExample.scala\n",
            "spark-3.3.1-bin-hadoop3/examples/src/main/scala/org/apache/spark/examples/mllib/SampledRDDs.scala\n",
            "spark-3.3.1-bin-hadoop3/examples/src/main/scala/org/apache/spark/examples/mllib/SimpleFPGrowth.scala\n",
            "spark-3.3.1-bin-hadoop3/examples/src/main/scala/org/apache/spark/examples/mllib/SparseNaiveBayes.scala\n",
            "spark-3.3.1-bin-hadoop3/examples/src/main/scala/org/apache/spark/examples/mllib/StandardScalerExample.scala\n",
            "spark-3.3.1-bin-hadoop3/examples/src/main/scala/org/apache/spark/examples/mllib/StratifiedSamplingExample.scala\n",
            "spark-3.3.1-bin-hadoop3/examples/src/main/scala/org/apache/spark/examples/mllib/StreamingKMeansExample.scala\n",
            "spark-3.3.1-bin-hadoop3/examples/src/main/scala/org/apache/spark/examples/mllib/StreamingLinearRegressionExample.scala\n",
            "spark-3.3.1-bin-hadoop3/examples/src/main/scala/org/apache/spark/examples/mllib/StreamingLogisticRegression.scala\n",
            "spark-3.3.1-bin-hadoop3/examples/src/main/scala/org/apache/spark/examples/mllib/StreamingTestExample.scala\n",
            "spark-3.3.1-bin-hadoop3/examples/src/main/scala/org/apache/spark/examples/mllib/SummaryStatisticsExample.scala\n",
            "spark-3.3.1-bin-hadoop3/examples/src/main/scala/org/apache/spark/examples/mllib/TFIDFExample.scala\n",
            "spark-3.3.1-bin-hadoop3/examples/src/main/scala/org/apache/spark/examples/mllib/TallSkinnyPCA.scala\n",
            "spark-3.3.1-bin-hadoop3/examples/src/main/scala/org/apache/spark/examples/mllib/TallSkinnySVD.scala\n",
            "spark-3.3.1-bin-hadoop3/examples/src/main/scala/org/apache/spark/examples/mllib/Word2VecExample.scala\n",
            "spark-3.3.1-bin-hadoop3/examples/src/main/scala/org/apache/spark/examples/pythonconverters/\n",
            "spark-3.3.1-bin-hadoop3/examples/src/main/scala/org/apache/spark/examples/pythonconverters/AvroConverters.scala\n",
            "spark-3.3.1-bin-hadoop3/examples/src/main/scala/org/apache/spark/examples/sql/\n",
            "spark-3.3.1-bin-hadoop3/examples/src/main/scala/org/apache/spark/examples/sql/RDDRelation.scala\n",
            "spark-3.3.1-bin-hadoop3/examples/src/main/scala/org/apache/spark/examples/sql/SQLDataSourceExample.scala\n",
            "spark-3.3.1-bin-hadoop3/examples/src/main/scala/org/apache/spark/examples/sql/SimpleTypedAggregator.scala\n",
            "spark-3.3.1-bin-hadoop3/examples/src/main/scala/org/apache/spark/examples/sql/SparkSQLExample.scala\n",
            "spark-3.3.1-bin-hadoop3/examples/src/main/scala/org/apache/spark/examples/sql/UserDefinedScalar.scala\n",
            "spark-3.3.1-bin-hadoop3/examples/src/main/scala/org/apache/spark/examples/sql/UserDefinedTypedAggregation.scala\n",
            "spark-3.3.1-bin-hadoop3/examples/src/main/scala/org/apache/spark/examples/sql/UserDefinedUntypedAggregation.scala\n",
            "spark-3.3.1-bin-hadoop3/examples/src/main/scala/org/apache/spark/examples/sql/hive/\n",
            "spark-3.3.1-bin-hadoop3/examples/src/main/scala/org/apache/spark/examples/sql/hive/SparkHiveExample.scala\n",
            "spark-3.3.1-bin-hadoop3/examples/src/main/scala/org/apache/spark/examples/sql/jdbc/\n",
            "spark-3.3.1-bin-hadoop3/examples/src/main/scala/org/apache/spark/examples/sql/jdbc/ExampleJdbcConnectionProvider.scala\n",
            "spark-3.3.1-bin-hadoop3/examples/src/main/scala/org/apache/spark/examples/sql/streaming/\n",
            "spark-3.3.1-bin-hadoop3/examples/src/main/scala/org/apache/spark/examples/sql/streaming/StructuredComplexSessionization.scala\n",
            "spark-3.3.1-bin-hadoop3/examples/src/main/scala/org/apache/spark/examples/sql/streaming/StructuredKafkaWordCount.scala\n",
            "spark-3.3.1-bin-hadoop3/examples/src/main/scala/org/apache/spark/examples/sql/streaming/StructuredKerberizedKafkaWordCount.scala\n",
            "spark-3.3.1-bin-hadoop3/examples/src/main/scala/org/apache/spark/examples/sql/streaming/StructuredNetworkWordCount.scala\n",
            "spark-3.3.1-bin-hadoop3/examples/src/main/scala/org/apache/spark/examples/sql/streaming/StructuredNetworkWordCountWindowed.scala\n",
            "spark-3.3.1-bin-hadoop3/examples/src/main/scala/org/apache/spark/examples/sql/streaming/StructuredSessionization.scala\n",
            "spark-3.3.1-bin-hadoop3/examples/src/main/scala/org/apache/spark/examples/streaming/\n",
            "spark-3.3.1-bin-hadoop3/examples/src/main/scala/org/apache/spark/examples/streaming/CustomReceiver.scala\n",
            "spark-3.3.1-bin-hadoop3/examples/src/main/scala/org/apache/spark/examples/streaming/DirectKafkaWordCount.scala\n",
            "spark-3.3.1-bin-hadoop3/examples/src/main/scala/org/apache/spark/examples/streaming/DirectKerberizedKafkaWordCount.scala\n",
            "spark-3.3.1-bin-hadoop3/examples/src/main/scala/org/apache/spark/examples/streaming/HdfsWordCount.scala\n",
            "spark-3.3.1-bin-hadoop3/examples/src/main/scala/org/apache/spark/examples/streaming/NetworkWordCount.scala\n",
            "spark-3.3.1-bin-hadoop3/examples/src/main/scala/org/apache/spark/examples/streaming/QueueStream.scala\n",
            "spark-3.3.1-bin-hadoop3/examples/src/main/scala/org/apache/spark/examples/streaming/RawNetworkGrep.scala\n",
            "spark-3.3.1-bin-hadoop3/examples/src/main/scala/org/apache/spark/examples/streaming/RecoverableNetworkWordCount.scala\n",
            "spark-3.3.1-bin-hadoop3/examples/src/main/scala/org/apache/spark/examples/streaming/SqlNetworkWordCount.scala\n",
            "spark-3.3.1-bin-hadoop3/examples/src/main/scala/org/apache/spark/examples/streaming/StatefulNetworkWordCount.scala\n",
            "spark-3.3.1-bin-hadoop3/examples/src/main/scala/org/apache/spark/examples/streaming/StreamingExamples.scala\n",
            "spark-3.3.1-bin-hadoop3/examples/src/main/scala/org/apache/spark/examples/streaming/clickstream/\n",
            "spark-3.3.1-bin-hadoop3/examples/src/main/scala/org/apache/spark/examples/streaming/clickstream/PageViewGenerator.scala\n",
            "spark-3.3.1-bin-hadoop3/examples/src/main/scala/org/apache/spark/examples/streaming/clickstream/PageViewStream.scala\n",
            "spark-3.3.1-bin-hadoop3/examples/src/main/scripts/\n",
            "spark-3.3.1-bin-hadoop3/examples/src/main/scripts/getGpusResources.sh\n",
            "spark-3.3.1-bin-hadoop3/jars/\n",
            "spark-3.3.1-bin-hadoop3/jars/HikariCP-2.5.1.jar\n",
            "spark-3.3.1-bin-hadoop3/jars/JLargeArrays-1.5.jar\n",
            "spark-3.3.1-bin-hadoop3/jars/JTransforms-3.1.jar\n",
            "spark-3.3.1-bin-hadoop3/jars/RoaringBitmap-0.9.25.jar\n",
            "spark-3.3.1-bin-hadoop3/jars/ST4-4.0.4.jar\n",
            "spark-3.3.1-bin-hadoop3/jars/activation-1.1.1.jar\n",
            "spark-3.3.1-bin-hadoop3/jars/aircompressor-0.21.jar\n",
            "spark-3.3.1-bin-hadoop3/jars/algebra_2.12-2.0.1.jar\n",
            "spark-3.3.1-bin-hadoop3/jars/annotations-17.0.0.jar\n",
            "spark-3.3.1-bin-hadoop3/jars/antlr-runtime-3.5.2.jar\n",
            "spark-3.3.1-bin-hadoop3/jars/antlr4-runtime-4.8.jar\n",
            "spark-3.3.1-bin-hadoop3/jars/aopalliance-repackaged-2.6.1.jar\n",
            "spark-3.3.1-bin-hadoop3/jars/arpack-2.2.1.jar\n",
            "spark-3.3.1-bin-hadoop3/jars/arpack_combined_all-0.1.jar\n",
            "spark-3.3.1-bin-hadoop3/jars/arrow-format-7.0.0.jar\n",
            "spark-3.3.1-bin-hadoop3/jars/arrow-memory-core-7.0.0.jar\n",
            "spark-3.3.1-bin-hadoop3/jars/arrow-memory-netty-7.0.0.jar\n",
            "spark-3.3.1-bin-hadoop3/jars/arrow-vector-7.0.0.jar\n",
            "spark-3.3.1-bin-hadoop3/jars/audience-annotations-0.5.0.jar\n",
            "spark-3.3.1-bin-hadoop3/jars/automaton-1.11-8.jar\n",
            "spark-3.3.1-bin-hadoop3/jars/avro-1.11.0.jar\n",
            "spark-3.3.1-bin-hadoop3/jars/avro-ipc-1.11.0.jar\n",
            "spark-3.3.1-bin-hadoop3/jars/avro-mapred-1.11.0.jar\n",
            "spark-3.3.1-bin-hadoop3/jars/blas-2.2.1.jar\n",
            "spark-3.3.1-bin-hadoop3/jars/bonecp-0.8.0.RELEASE.jar\n",
            "spark-3.3.1-bin-hadoop3/jars/breeze-macros_2.12-1.2.jar\n",
            "spark-3.3.1-bin-hadoop3/jars/breeze_2.12-1.2.jar\n",
            "spark-3.3.1-bin-hadoop3/jars/cats-kernel_2.12-2.1.1.jar\n",
            "spark-3.3.1-bin-hadoop3/jars/chill-java-0.10.0.jar\n",
            "spark-3.3.1-bin-hadoop3/jars/chill_2.12-0.10.0.jar\n",
            "spark-3.3.1-bin-hadoop3/jars/commons-cli-1.5.0.jar\n",
            "spark-3.3.1-bin-hadoop3/jars/commons-codec-1.15.jar\n",
            "spark-3.3.1-bin-hadoop3/jars/commons-collections-3.2.2.jar\n",
            "spark-3.3.1-bin-hadoop3/jars/commons-collections4-4.4.jar\n",
            "spark-3.3.1-bin-hadoop3/jars/commons-compiler-3.0.16.jar\n",
            "spark-3.3.1-bin-hadoop3/jars/commons-compress-1.21.jar\n",
            "spark-3.3.1-bin-hadoop3/jars/commons-crypto-1.1.0.jar\n",
            "spark-3.3.1-bin-hadoop3/jars/commons-dbcp-1.4.jar\n",
            "spark-3.3.1-bin-hadoop3/jars/commons-io-2.11.0.jar\n",
            "spark-3.3.1-bin-hadoop3/jars/commons-lang-2.6.jar\n",
            "spark-3.3.1-bin-hadoop3/jars/commons-lang3-3.12.0.jar\n",
            "spark-3.3.1-bin-hadoop3/jars/commons-logging-1.1.3.jar\n",
            "spark-3.3.1-bin-hadoop3/jars/commons-math3-3.6.1.jar\n",
            "spark-3.3.1-bin-hadoop3/jars/commons-pool-1.5.4.jar\n",
            "spark-3.3.1-bin-hadoop3/jars/commons-text-1.9.jar\n",
            "spark-3.3.1-bin-hadoop3/jars/compress-lzf-1.1.jar\n",
            "spark-3.3.1-bin-hadoop3/jars/core-1.1.2.jar\n",
            "spark-3.3.1-bin-hadoop3/jars/curator-client-2.13.0.jar\n",
            "spark-3.3.1-bin-hadoop3/jars/curator-framework-2.13.0.jar\n",
            "spark-3.3.1-bin-hadoop3/jars/curator-recipes-2.13.0.jar\n",
            "spark-3.3.1-bin-hadoop3/jars/datanucleus-api-jdo-4.2.4.jar\n",
            "spark-3.3.1-bin-hadoop3/jars/datanucleus-core-4.1.17.jar\n",
            "spark-3.3.1-bin-hadoop3/jars/datanucleus-rdbms-4.1.19.jar\n",
            "spark-3.3.1-bin-hadoop3/jars/derby-10.14.2.0.jar\n",
            "spark-3.3.1-bin-hadoop3/jars/dropwizard-metrics-hadoop-metrics2-reporter-0.1.2.jar\n",
            "spark-3.3.1-bin-hadoop3/jars/flatbuffers-java-1.12.0.jar\n",
            "spark-3.3.1-bin-hadoop3/jars/generex-1.0.2.jar\n",
            "spark-3.3.1-bin-hadoop3/jars/gson-2.2.4.jar\n",
            "spark-3.3.1-bin-hadoop3/jars/guava-14.0.1.jar\n",
            "spark-3.3.1-bin-hadoop3/jars/hadoop-client-api-3.3.2.jar\n",
            "spark-3.3.1-bin-hadoop3/jars/hadoop-client-runtime-3.3.2.jar\n",
            "spark-3.3.1-bin-hadoop3/jars/hadoop-shaded-guava-1.1.1.jar\n",
            "spark-3.3.1-bin-hadoop3/jars/hadoop-yarn-server-web-proxy-3.3.2.jar\n",
            "spark-3.3.1-bin-hadoop3/jars/hive-beeline-2.3.9.jar\n",
            "spark-3.3.1-bin-hadoop3/jars/hive-cli-2.3.9.jar\n",
            "spark-3.3.1-bin-hadoop3/jars/hive-common-2.3.9.jar\n",
            "spark-3.3.1-bin-hadoop3/jars/hive-exec-2.3.9-core.jar\n",
            "spark-3.3.1-bin-hadoop3/jars/hive-jdbc-2.3.9.jar\n",
            "spark-3.3.1-bin-hadoop3/jars/hive-llap-common-2.3.9.jar\n",
            "spark-3.3.1-bin-hadoop3/jars/hive-metastore-2.3.9.jar\n",
            "spark-3.3.1-bin-hadoop3/jars/hive-serde-2.3.9.jar\n",
            "spark-3.3.1-bin-hadoop3/jars/hive-service-rpc-3.1.2.jar\n",
            "spark-3.3.1-bin-hadoop3/jars/hive-shims-0.23-2.3.9.jar\n",
            "spark-3.3.1-bin-hadoop3/jars/hive-shims-2.3.9.jar\n",
            "spark-3.3.1-bin-hadoop3/jars/hive-shims-common-2.3.9.jar\n",
            "spark-3.3.1-bin-hadoop3/jars/hive-shims-scheduler-2.3.9.jar\n",
            "spark-3.3.1-bin-hadoop3/jars/hive-storage-api-2.7.2.jar\n",
            "spark-3.3.1-bin-hadoop3/jars/hive-vector-code-gen-2.3.9.jar\n",
            "spark-3.3.1-bin-hadoop3/jars/hk2-api-2.6.1.jar\n",
            "spark-3.3.1-bin-hadoop3/jars/hk2-locator-2.6.1.jar\n",
            "spark-3.3.1-bin-hadoop3/jars/hk2-utils-2.6.1.jar\n",
            "spark-3.3.1-bin-hadoop3/jars/httpclient-4.5.13.jar\n",
            "spark-3.3.1-bin-hadoop3/jars/httpcore-4.4.14.jar\n",
            "spark-3.3.1-bin-hadoop3/jars/istack-commons-runtime-3.0.8.jar\n",
            "spark-3.3.1-bin-hadoop3/jars/ivy-2.5.0.jar\n",
            "spark-3.3.1-bin-hadoop3/jars/jackson-annotations-2.13.4.jar\n",
            "spark-3.3.1-bin-hadoop3/jars/jackson-core-2.13.4.jar\n",
            "spark-3.3.1-bin-hadoop3/jars/jackson-core-asl-1.9.13.jar\n",
            "spark-3.3.1-bin-hadoop3/jars/jackson-databind-2.13.4.1.jar\n",
            "spark-3.3.1-bin-hadoop3/jars/jackson-dataformat-yaml-2.13.4.jar\n",
            "spark-3.3.1-bin-hadoop3/jars/jackson-datatype-jsr310-2.13.4.jar\n",
            "spark-3.3.1-bin-hadoop3/jars/jackson-mapper-asl-1.9.13.jar\n",
            "spark-3.3.1-bin-hadoop3/jars/jackson-module-scala_2.12-2.13.4.jar\n",
            "spark-3.3.1-bin-hadoop3/jars/jakarta.annotation-api-1.3.5.jar\n",
            "spark-3.3.1-bin-hadoop3/jars/jakarta.inject-2.6.1.jar\n",
            "spark-3.3.1-bin-hadoop3/jars/jakarta.servlet-api-4.0.3.jar\n",
            "spark-3.3.1-bin-hadoop3/jars/jakarta.validation-api-2.0.2.jar\n",
            "spark-3.3.1-bin-hadoop3/jars/jakarta.ws.rs-api-2.1.6.jar\n",
            "spark-3.3.1-bin-hadoop3/jars/jakarta.xml.bind-api-2.3.2.jar\n",
            "spark-3.3.1-bin-hadoop3/jars/janino-3.0.16.jar\n",
            "spark-3.3.1-bin-hadoop3/jars/javassist-3.25.0-GA.jar\n",
            "spark-3.3.1-bin-hadoop3/jars/javax.jdo-3.2.0-m3.jar\n",
            "spark-3.3.1-bin-hadoop3/jars/javolution-5.5.1.jar\n",
            "spark-3.3.1-bin-hadoop3/jars/jaxb-runtime-2.3.2.jar\n",
            "spark-3.3.1-bin-hadoop3/jars/jcl-over-slf4j-1.7.32.jar\n",
            "spark-3.3.1-bin-hadoop3/jars/jdo-api-3.0.1.jar\n",
            "spark-3.3.1-bin-hadoop3/jars/jersey-client-2.36.jar\n",
            "spark-3.3.1-bin-hadoop3/jars/jersey-common-2.36.jar\n",
            "spark-3.3.1-bin-hadoop3/jars/jersey-container-servlet-2.36.jar\n",
            "spark-3.3.1-bin-hadoop3/jars/jersey-container-servlet-core-2.36.jar\n",
            "spark-3.3.1-bin-hadoop3/jars/jersey-hk2-2.36.jar\n",
            "spark-3.3.1-bin-hadoop3/jars/jersey-server-2.36.jar\n",
            "spark-3.3.1-bin-hadoop3/jars/jline-2.14.6.jar\n",
            "spark-3.3.1-bin-hadoop3/jars/joda-time-2.10.13.jar\n",
            "spark-3.3.1-bin-hadoop3/jars/jodd-core-3.5.2.jar\n",
            "spark-3.3.1-bin-hadoop3/jars/jpam-1.1.jar\n",
            "spark-3.3.1-bin-hadoop3/jars/json-1.8.jar\n",
            "spark-3.3.1-bin-hadoop3/jars/json4s-ast_2.12-3.7.0-M11.jar\n",
            "spark-3.3.1-bin-hadoop3/jars/json4s-core_2.12-3.7.0-M11.jar\n",
            "spark-3.3.1-bin-hadoop3/jars/json4s-jackson_2.12-3.7.0-M11.jar\n",
            "spark-3.3.1-bin-hadoop3/jars/json4s-scalap_2.12-3.7.0-M11.jar\n",
            "spark-3.3.1-bin-hadoop3/jars/jsr305-3.0.0.jar\n",
            "spark-3.3.1-bin-hadoop3/jars/jta-1.1.jar\n",
            "spark-3.3.1-bin-hadoop3/jars/jul-to-slf4j-1.7.32.jar\n",
            "spark-3.3.1-bin-hadoop3/jars/kryo-shaded-4.0.2.jar\n",
            "spark-3.3.1-bin-hadoop3/jars/kubernetes-client-5.12.2.jar\n",
            "spark-3.3.1-bin-hadoop3/jars/kubernetes-model-admissionregistration-5.12.2.jar\n",
            "spark-3.3.1-bin-hadoop3/jars/kubernetes-model-apiextensions-5.12.2.jar\n",
            "spark-3.3.1-bin-hadoop3/jars/kubernetes-model-apps-5.12.2.jar\n",
            "spark-3.3.1-bin-hadoop3/jars/kubernetes-model-autoscaling-5.12.2.jar\n",
            "spark-3.3.1-bin-hadoop3/jars/kubernetes-model-batch-5.12.2.jar\n",
            "spark-3.3.1-bin-hadoop3/jars/kubernetes-model-certificates-5.12.2.jar\n",
            "spark-3.3.1-bin-hadoop3/jars/kubernetes-model-common-5.12.2.jar\n",
            "spark-3.3.1-bin-hadoop3/jars/kubernetes-model-coordination-5.12.2.jar\n",
            "spark-3.3.1-bin-hadoop3/jars/kubernetes-model-core-5.12.2.jar\n",
            "spark-3.3.1-bin-hadoop3/jars/kubernetes-model-discovery-5.12.2.jar\n",
            "spark-3.3.1-bin-hadoop3/jars/kubernetes-model-events-5.12.2.jar\n",
            "spark-3.3.1-bin-hadoop3/jars/kubernetes-model-extensions-5.12.2.jar\n",
            "spark-3.3.1-bin-hadoop3/jars/kubernetes-model-flowcontrol-5.12.2.jar\n",
            "spark-3.3.1-bin-hadoop3/jars/kubernetes-model-metrics-5.12.2.jar\n",
            "spark-3.3.1-bin-hadoop3/jars/kubernetes-model-networking-5.12.2.jar\n",
            "spark-3.3.1-bin-hadoop3/jars/kubernetes-model-node-5.12.2.jar\n",
            "spark-3.3.1-bin-hadoop3/jars/kubernetes-model-policy-5.12.2.jar\n",
            "spark-3.3.1-bin-hadoop3/jars/kubernetes-model-rbac-5.12.2.jar\n",
            "spark-3.3.1-bin-hadoop3/jars/kubernetes-model-scheduling-5.12.2.jar\n",
            "spark-3.3.1-bin-hadoop3/jars/kubernetes-model-storageclass-5.12.2.jar\n",
            "spark-3.3.1-bin-hadoop3/jars/lapack-2.2.1.jar\n",
            "spark-3.3.1-bin-hadoop3/jars/leveldbjni-all-1.8.jar\n",
            "spark-3.3.1-bin-hadoop3/jars/libfb303-0.9.3.jar\n",
            "spark-3.3.1-bin-hadoop3/jars/libthrift-0.12.0.jar\n",
            "spark-3.3.1-bin-hadoop3/jars/log4j-1.2-api-2.17.2.jar\n",
            "spark-3.3.1-bin-hadoop3/jars/log4j-api-2.17.2.jar\n",
            "spark-3.3.1-bin-hadoop3/jars/log4j-core-2.17.2.jar\n",
            "spark-3.3.1-bin-hadoop3/jars/log4j-slf4j-impl-2.17.2.jar\n",
            "spark-3.3.1-bin-hadoop3/jars/logging-interceptor-3.12.12.jar\n",
            "spark-3.3.1-bin-hadoop3/jars/lz4-java-1.8.0.jar\n",
            "spark-3.3.1-bin-hadoop3/jars/mesos-1.4.3-shaded-protobuf.jar\n",
            "spark-3.3.1-bin-hadoop3/jars/metrics-core-4.2.7.jar\n",
            "spark-3.3.1-bin-hadoop3/jars/metrics-graphite-4.2.7.jar\n",
            "spark-3.3.1-bin-hadoop3/jars/metrics-jmx-4.2.7.jar\n",
            "spark-3.3.1-bin-hadoop3/jars/metrics-json-4.2.7.jar\n",
            "spark-3.3.1-bin-hadoop3/jars/metrics-jvm-4.2.7.jar\n",
            "spark-3.3.1-bin-hadoop3/jars/minlog-1.3.0.jar\n",
            "spark-3.3.1-bin-hadoop3/jars/netty-all-4.1.74.Final.jar\n",
            "spark-3.3.1-bin-hadoop3/jars/netty-buffer-4.1.74.Final.jar\n",
            "spark-3.3.1-bin-hadoop3/jars/netty-codec-4.1.74.Final.jar\n",
            "spark-3.3.1-bin-hadoop3/jars/netty-common-4.1.74.Final.jar\n",
            "spark-3.3.1-bin-hadoop3/jars/netty-handler-4.1.74.Final.jar\n",
            "spark-3.3.1-bin-hadoop3/jars/netty-resolver-4.1.74.Final.jar\n",
            "spark-3.3.1-bin-hadoop3/jars/netty-tcnative-classes-2.0.48.Final.jar\n",
            "spark-3.3.1-bin-hadoop3/jars/netty-transport-4.1.74.Final.jar\n",
            "spark-3.3.1-bin-hadoop3/jars/netty-transport-classes-epoll-4.1.74.Final.jar\n",
            "spark-3.3.1-bin-hadoop3/jars/netty-transport-classes-kqueue-4.1.74.Final.jar\n",
            "spark-3.3.1-bin-hadoop3/jars/netty-transport-native-epoll-4.1.74.Final-linux-aarch_64.jar\n",
            "spark-3.3.1-bin-hadoop3/jars/netty-transport-native-epoll-4.1.74.Final-linux-x86_64.jar\n",
            "spark-3.3.1-bin-hadoop3/jars/netty-transport-native-kqueue-4.1.74.Final-osx-aarch_64.jar\n",
            "spark-3.3.1-bin-hadoop3/jars/netty-transport-native-kqueue-4.1.74.Final-osx-x86_64.jar\n",
            "spark-3.3.1-bin-hadoop3/jars/netty-transport-native-unix-common-4.1.74.Final.jar\n",
            "spark-3.3.1-bin-hadoop3/jars/objenesis-3.2.jar\n",
            "spark-3.3.1-bin-hadoop3/jars/okhttp-3.12.12.jar\n",
            "spark-3.3.1-bin-hadoop3/jars/okio-1.14.0.jar\n",
            "spark-3.3.1-bin-hadoop3/jars/opencsv-2.3.jar\n",
            "spark-3.3.1-bin-hadoop3/jars/orc-core-1.7.6.jar\n",
            "spark-3.3.1-bin-hadoop3/jars/orc-mapreduce-1.7.6.jar\n",
            "spark-3.3.1-bin-hadoop3/jars/orc-shims-1.7.6.jar\n",
            "spark-3.3.1-bin-hadoop3/jars/oro-2.0.8.jar\n",
            "spark-3.3.1-bin-hadoop3/jars/osgi-resource-locator-1.0.3.jar\n",
            "spark-3.3.1-bin-hadoop3/jars/paranamer-2.8.jar\n",
            "spark-3.3.1-bin-hadoop3/jars/parquet-column-1.12.2.jar\n",
            "spark-3.3.1-bin-hadoop3/jars/parquet-common-1.12.2.jar\n",
            "spark-3.3.1-bin-hadoop3/jars/parquet-encoding-1.12.2.jar\n",
            "spark-3.3.1-bin-hadoop3/jars/parquet-format-structures-1.12.2.jar\n",
            "spark-3.3.1-bin-hadoop3/jars/parquet-hadoop-1.12.2.jar\n",
            "spark-3.3.1-bin-hadoop3/jars/parquet-jackson-1.12.2.jar\n",
            "spark-3.3.1-bin-hadoop3/jars/pickle-1.2.jar\n",
            "spark-3.3.1-bin-hadoop3/jars/protobuf-java-2.5.0.jar\n",
            "spark-3.3.1-bin-hadoop3/jars/py4j-0.10.9.5.jar\n",
            "spark-3.3.1-bin-hadoop3/jars/rocksdbjni-6.20.3.jar\n",
            "spark-3.3.1-bin-hadoop3/jars/scala-collection-compat_2.12-2.1.1.jar\n",
            "spark-3.3.1-bin-hadoop3/jars/scala-compiler-2.12.15.jar\n",
            "spark-3.3.1-bin-hadoop3/jars/scala-library-2.12.15.jar\n",
            "spark-3.3.1-bin-hadoop3/jars/scala-parser-combinators_2.12-1.1.2.jar\n",
            "spark-3.3.1-bin-hadoop3/jars/scala-reflect-2.12.15.jar\n",
            "spark-3.3.1-bin-hadoop3/jars/scala-xml_2.12-1.2.0.jar\n",
            "spark-3.3.1-bin-hadoop3/jars/shapeless_2.12-2.3.7.jar\n",
            "spark-3.3.1-bin-hadoop3/jars/shims-0.9.25.jar\n",
            "spark-3.3.1-bin-hadoop3/jars/slf4j-api-1.7.32.jar\n",
            "spark-3.3.1-bin-hadoop3/jars/snakeyaml-1.31.jar\n",
            "spark-3.3.1-bin-hadoop3/jars/snappy-java-1.1.8.4.jar\n",
            "spark-3.3.1-bin-hadoop3/jars/spark-catalyst_2.12-3.3.1.jar\n",
            "spark-3.3.1-bin-hadoop3/jars/spark-core_2.12-3.3.1.jar\n",
            "spark-3.3.1-bin-hadoop3/jars/spark-graphx_2.12-3.3.1.jar\n",
            "spark-3.3.1-bin-hadoop3/jars/spark-hive-thriftserver_2.12-3.3.1.jar\n",
            "spark-3.3.1-bin-hadoop3/jars/spark-hive_2.12-3.3.1.jar\n",
            "spark-3.3.1-bin-hadoop3/jars/spark-kubernetes_2.12-3.3.1.jar\n",
            "spark-3.3.1-bin-hadoop3/jars/spark-kvstore_2.12-3.3.1.jar\n",
            "spark-3.3.1-bin-hadoop3/jars/spark-launcher_2.12-3.3.1.jar\n",
            "spark-3.3.1-bin-hadoop3/jars/spark-mesos_2.12-3.3.1.jar\n",
            "spark-3.3.1-bin-hadoop3/jars/spark-mllib-local_2.12-3.3.1.jar\n",
            "spark-3.3.1-bin-hadoop3/jars/spark-mllib_2.12-3.3.1.jar\n",
            "spark-3.3.1-bin-hadoop3/jars/spark-network-common_2.12-3.3.1.jar\n",
            "spark-3.3.1-bin-hadoop3/jars/spark-network-shuffle_2.12-3.3.1.jar\n",
            "spark-3.3.1-bin-hadoop3/jars/spark-repl_2.12-3.3.1.jar\n",
            "spark-3.3.1-bin-hadoop3/jars/spark-sketch_2.12-3.3.1.jar\n",
            "spark-3.3.1-bin-hadoop3/jars/spark-sql_2.12-3.3.1.jar\n",
            "spark-3.3.1-bin-hadoop3/jars/spark-streaming_2.12-3.3.1.jar\n",
            "spark-3.3.1-bin-hadoop3/jars/spark-tags_2.12-3.3.1-tests.jar\n",
            "spark-3.3.1-bin-hadoop3/jars/spark-tags_2.12-3.3.1.jar\n",
            "spark-3.3.1-bin-hadoop3/jars/spark-unsafe_2.12-3.3.1.jar\n",
            "spark-3.3.1-bin-hadoop3/jars/spark-yarn_2.12-3.3.1.jar\n",
            "spark-3.3.1-bin-hadoop3/jars/spire-macros_2.12-0.17.0.jar\n",
            "spark-3.3.1-bin-hadoop3/jars/spire-platform_2.12-0.17.0.jar\n",
            "spark-3.3.1-bin-hadoop3/jars/spire-util_2.12-0.17.0.jar\n",
            "spark-3.3.1-bin-hadoop3/jars/spire_2.12-0.17.0.jar\n",
            "spark-3.3.1-bin-hadoop3/jars/stax-api-1.0.1.jar\n",
            "spark-3.3.1-bin-hadoop3/jars/stream-2.9.6.jar\n",
            "spark-3.3.1-bin-hadoop3/jars/super-csv-2.2.0.jar\n",
            "spark-3.3.1-bin-hadoop3/jars/threeten-extra-1.5.0.jar\n",
            "spark-3.3.1-bin-hadoop3/jars/tink-1.6.1.jar\n",
            "spark-3.3.1-bin-hadoop3/jars/transaction-api-1.1.jar\n",
            "spark-3.3.1-bin-hadoop3/jars/univocity-parsers-2.9.1.jar\n",
            "spark-3.3.1-bin-hadoop3/jars/velocity-1.5.jar\n",
            "spark-3.3.1-bin-hadoop3/jars/xbean-asm9-shaded-4.20.jar\n",
            "spark-3.3.1-bin-hadoop3/jars/xz-1.8.jar\n",
            "spark-3.3.1-bin-hadoop3/jars/zjsonpatch-0.3.0.jar\n",
            "spark-3.3.1-bin-hadoop3/jars/zookeeper-3.6.2.jar\n",
            "spark-3.3.1-bin-hadoop3/jars/zookeeper-jute-3.6.2.jar\n",
            "spark-3.3.1-bin-hadoop3/jars/zstd-jni-1.5.2-1.jar\n",
            "spark-3.3.1-bin-hadoop3/kubernetes/\n",
            "spark-3.3.1-bin-hadoop3/kubernetes/dockerfiles/\n",
            "spark-3.3.1-bin-hadoop3/kubernetes/dockerfiles/spark/\n",
            "spark-3.3.1-bin-hadoop3/kubernetes/dockerfiles/spark/Dockerfile\n",
            "spark-3.3.1-bin-hadoop3/kubernetes/dockerfiles/spark/Dockerfile.java17\n",
            "spark-3.3.1-bin-hadoop3/kubernetes/dockerfiles/spark/bindings/\n",
            "spark-3.3.1-bin-hadoop3/kubernetes/dockerfiles/spark/bindings/R/\n",
            "spark-3.3.1-bin-hadoop3/kubernetes/dockerfiles/spark/bindings/R/Dockerfile\n",
            "spark-3.3.1-bin-hadoop3/kubernetes/dockerfiles/spark/bindings/python/\n",
            "spark-3.3.1-bin-hadoop3/kubernetes/dockerfiles/spark/bindings/python/Dockerfile\n",
            "spark-3.3.1-bin-hadoop3/kubernetes/dockerfiles/spark/decom.sh\n",
            "spark-3.3.1-bin-hadoop3/kubernetes/dockerfiles/spark/entrypoint.sh\n",
            "spark-3.3.1-bin-hadoop3/kubernetes/tests/\n",
            "spark-3.3.1-bin-hadoop3/kubernetes/tests/autoscale.py\n",
            "spark-3.3.1-bin-hadoop3/kubernetes/tests/decommissioning.py\n",
            "spark-3.3.1-bin-hadoop3/kubernetes/tests/decommissioning_cleanup.py\n",
            "spark-3.3.1-bin-hadoop3/kubernetes/tests/py_container_checks.py\n",
            "spark-3.3.1-bin-hadoop3/kubernetes/tests/pyfiles.py\n",
            "spark-3.3.1-bin-hadoop3/kubernetes/tests/python_executable_check.py\n",
            "spark-3.3.1-bin-hadoop3/kubernetes/tests/worker_memory_check.py\n",
            "spark-3.3.1-bin-hadoop3/licenses/\n",
            "spark-3.3.1-bin-hadoop3/licenses/LICENSE-AnchorJS.txt\n",
            "spark-3.3.1-bin-hadoop3/licenses/LICENSE-CC0.txt\n",
            "spark-3.3.1-bin-hadoop3/licenses/LICENSE-JLargeArrays.txt\n",
            "spark-3.3.1-bin-hadoop3/licenses/LICENSE-JTransforms.txt\n",
            "spark-3.3.1-bin-hadoop3/licenses/LICENSE-antlr.txt\n",
            "spark-3.3.1-bin-hadoop3/licenses/LICENSE-arpack.txt\n",
            "spark-3.3.1-bin-hadoop3/licenses/LICENSE-automaton.txt\n",
            "spark-3.3.1-bin-hadoop3/licenses/LICENSE-blas.txt\n",
            "spark-3.3.1-bin-hadoop3/licenses/LICENSE-bootstrap.txt\n",
            "spark-3.3.1-bin-hadoop3/licenses/LICENSE-cloudpickle.txt\n",
            "spark-3.3.1-bin-hadoop3/licenses/LICENSE-d3.min.js.txt\n",
            "spark-3.3.1-bin-hadoop3/licenses/LICENSE-dagre-d3.txt\n",
            "spark-3.3.1-bin-hadoop3/licenses/LICENSE-datatables.txt\n",
            "spark-3.3.1-bin-hadoop3/licenses/LICENSE-dnsjava.txt\n",
            "spark-3.3.1-bin-hadoop3/licenses/LICENSE-f2j.txt\n",
            "spark-3.3.1-bin-hadoop3/licenses/LICENSE-graphlib-dot.txt\n",
            "spark-3.3.1-bin-hadoop3/licenses/LICENSE-istack-commons-runtime.txt\n",
            "spark-3.3.1-bin-hadoop3/licenses/LICENSE-jakarta-annotation-api\n",
            "spark-3.3.1-bin-hadoop3/licenses/LICENSE-jakarta-ws-rs-api\n",
            "spark-3.3.1-bin-hadoop3/licenses/LICENSE-jakarta.activation-api.txt\n",
            "spark-3.3.1-bin-hadoop3/licenses/LICENSE-jakarta.xml.bind-api.txt\n",
            "spark-3.3.1-bin-hadoop3/licenses/LICENSE-janino.txt\n",
            "spark-3.3.1-bin-hadoop3/licenses/LICENSE-javassist.html\n",
            "spark-3.3.1-bin-hadoop3/licenses/LICENSE-javax-transaction-transaction-api.txt\n",
            "spark-3.3.1-bin-hadoop3/licenses/LICENSE-javolution.txt\n",
            "spark-3.3.1-bin-hadoop3/licenses/LICENSE-jaxb-runtime.txt\n",
            "spark-3.3.1-bin-hadoop3/licenses/LICENSE-jline.txt\n",
            "spark-3.3.1-bin-hadoop3/licenses/LICENSE-jodd.txt\n",
            "spark-3.3.1-bin-hadoop3/licenses/LICENSE-join.txt\n",
            "spark-3.3.1-bin-hadoop3/licenses/LICENSE-jquery.txt\n",
            "spark-3.3.1-bin-hadoop3/licenses/LICENSE-json-formatter.txt\n",
            "spark-3.3.1-bin-hadoop3/licenses/LICENSE-jsp-api.txt\n",
            "spark-3.3.1-bin-hadoop3/licenses/LICENSE-kryo.txt\n",
            "spark-3.3.1-bin-hadoop3/licenses/LICENSE-leveldbjni.txt\n",
            "spark-3.3.1-bin-hadoop3/licenses/LICENSE-machinist.txt\n",
            "spark-3.3.1-bin-hadoop3/licenses/LICENSE-matchMedia-polyfill.txt\n",
            "spark-3.3.1-bin-hadoop3/licenses/LICENSE-minlog.txt\n",
            "spark-3.3.1-bin-hadoop3/licenses/LICENSE-modernizr.txt\n",
            "spark-3.3.1-bin-hadoop3/licenses/LICENSE-mustache.txt\n",
            "spark-3.3.1-bin-hadoop3/licenses/LICENSE-netlib.txt\n",
            "spark-3.3.1-bin-hadoop3/licenses/LICENSE-paranamer.txt\n",
            "spark-3.3.1-bin-hadoop3/licenses/LICENSE-pmml-model.txt\n",
            "spark-3.3.1-bin-hadoop3/licenses/LICENSE-protobuf.txt\n",
            "spark-3.3.1-bin-hadoop3/licenses/LICENSE-py4j.txt\n",
            "spark-3.3.1-bin-hadoop3/licenses/LICENSE-pyrolite.txt\n",
            "spark-3.3.1-bin-hadoop3/licenses/LICENSE-re2j.txt\n",
            "spark-3.3.1-bin-hadoop3/licenses/LICENSE-reflectasm.txt\n",
            "spark-3.3.1-bin-hadoop3/licenses/LICENSE-respond.txt\n",
            "spark-3.3.1-bin-hadoop3/licenses/LICENSE-sbt-launch-lib.txt\n",
            "spark-3.3.1-bin-hadoop3/licenses/LICENSE-scala.txt\n",
            "spark-3.3.1-bin-hadoop3/licenses/LICENSE-scopt.txt\n",
            "spark-3.3.1-bin-hadoop3/licenses/LICENSE-slf4j.txt\n",
            "spark-3.3.1-bin-hadoop3/licenses/LICENSE-sorttable.js.txt\n",
            "spark-3.3.1-bin-hadoop3/licenses/LICENSE-spire.txt\n",
            "spark-3.3.1-bin-hadoop3/licenses/LICENSE-vis-timeline.txt\n",
            "spark-3.3.1-bin-hadoop3/licenses/LICENSE-xmlenc.txt\n",
            "spark-3.3.1-bin-hadoop3/licenses/LICENSE-zstd-jni.txt\n",
            "spark-3.3.1-bin-hadoop3/licenses/LICENSE-zstd.txt\n",
            "spark-3.3.1-bin-hadoop3/python/\n",
            "spark-3.3.1-bin-hadoop3/python/.coveragerc\n",
            "spark-3.3.1-bin-hadoop3/python/.gitignore\n",
            "spark-3.3.1-bin-hadoop3/python/MANIFEST.in\n",
            "spark-3.3.1-bin-hadoop3/python/README.md\n",
            "spark-3.3.1-bin-hadoop3/python/dist/\n",
            "spark-3.3.1-bin-hadoop3/python/docs/\n",
            "spark-3.3.1-bin-hadoop3/python/docs/Makefile\n",
            "spark-3.3.1-bin-hadoop3/python/docs/make.bat\n",
            "spark-3.3.1-bin-hadoop3/python/docs/make2.bat\n",
            "spark-3.3.1-bin-hadoop3/python/docs/source/\n",
            "spark-3.3.1-bin-hadoop3/python/docs/source/_static/\n",
            "spark-3.3.1-bin-hadoop3/python/docs/source/_static/copybutton.js\n",
            "spark-3.3.1-bin-hadoop3/python/docs/source/_static/css/\n",
            "spark-3.3.1-bin-hadoop3/python/docs/source/_static/css/pyspark.css\n",
            "spark-3.3.1-bin-hadoop3/python/docs/source/_templates/\n",
            "spark-3.3.1-bin-hadoop3/python/docs/source/_templates/autosummary/\n",
            "spark-3.3.1-bin-hadoop3/python/docs/source/_templates/autosummary/class.rst\n",
            "spark-3.3.1-bin-hadoop3/python/docs/source/_templates/autosummary/class_with_docs.rst\n",
            "spark-3.3.1-bin-hadoop3/python/docs/source/conf.py\n",
            "spark-3.3.1-bin-hadoop3/python/docs/source/development/\n",
            "spark-3.3.1-bin-hadoop3/python/docs/source/development/contributing.rst\n",
            "spark-3.3.1-bin-hadoop3/python/docs/source/development/debugging.rst\n",
            "spark-3.3.1-bin-hadoop3/python/docs/source/development/index.rst\n",
            "spark-3.3.1-bin-hadoop3/python/docs/source/development/setting_ide.rst\n",
            "spark-3.3.1-bin-hadoop3/python/docs/source/development/testing.rst\n",
            "spark-3.3.1-bin-hadoop3/python/docs/source/getting_started/\n",
            "spark-3.3.1-bin-hadoop3/python/docs/source/getting_started/index.rst\n",
            "spark-3.3.1-bin-hadoop3/python/docs/source/getting_started/install.rst\n",
            "spark-3.3.1-bin-hadoop3/python/docs/source/getting_started/quickstart_df.ipynb\n",
            "spark-3.3.1-bin-hadoop3/python/docs/source/getting_started/quickstart_ps.ipynb\n",
            "spark-3.3.1-bin-hadoop3/python/docs/source/index.rst\n",
            "spark-3.3.1-bin-hadoop3/python/docs/source/migration_guide/\n",
            "spark-3.3.1-bin-hadoop3/python/docs/source/migration_guide/index.rst\n",
            "spark-3.3.1-bin-hadoop3/python/docs/source/migration_guide/koalas_to_pyspark.rst\n",
            "spark-3.3.1-bin-hadoop3/python/docs/source/migration_guide/pyspark_1.0_1.2_to_1.3.rst\n",
            "spark-3.3.1-bin-hadoop3/python/docs/source/migration_guide/pyspark_1.4_to_1.5.rst\n",
            "spark-3.3.1-bin-hadoop3/python/docs/source/migration_guide/pyspark_2.2_to_2.3.rst\n",
            "spark-3.3.1-bin-hadoop3/python/docs/source/migration_guide/pyspark_2.3.0_to_2.3.1_above.rst\n",
            "spark-3.3.1-bin-hadoop3/python/docs/source/migration_guide/pyspark_2.3_to_2.4.rst\n",
            "spark-3.3.1-bin-hadoop3/python/docs/source/migration_guide/pyspark_2.4_to_3.0.rst\n",
            "spark-3.3.1-bin-hadoop3/python/docs/source/migration_guide/pyspark_3.1_to_3.2.rst\n",
            "spark-3.3.1-bin-hadoop3/python/docs/source/migration_guide/pyspark_3.2_to_3.3.rst\n",
            "spark-3.3.1-bin-hadoop3/python/docs/source/reference/\n",
            "spark-3.3.1-bin-hadoop3/python/docs/source/reference/index.rst\n",
            "spark-3.3.1-bin-hadoop3/python/docs/source/reference/pyspark.ml.rst\n",
            "spark-3.3.1-bin-hadoop3/python/docs/source/reference/pyspark.mllib.rst\n",
            "spark-3.3.1-bin-hadoop3/python/docs/source/reference/pyspark.pandas/\n",
            "spark-3.3.1-bin-hadoop3/python/docs/source/reference/pyspark.pandas/extensions.rst\n",
            "spark-3.3.1-bin-hadoop3/python/docs/source/reference/pyspark.pandas/frame.rst\n",
            "spark-3.3.1-bin-hadoop3/python/docs/source/reference/pyspark.pandas/general_functions.rst\n",
            "spark-3.3.1-bin-hadoop3/python/docs/source/reference/pyspark.pandas/groupby.rst\n",
            "spark-3.3.1-bin-hadoop3/python/docs/source/reference/pyspark.pandas/index.rst\n",
            "spark-3.3.1-bin-hadoop3/python/docs/source/reference/pyspark.pandas/indexing.rst\n",
            "spark-3.3.1-bin-hadoop3/python/docs/source/reference/pyspark.pandas/io.rst\n",
            "spark-3.3.1-bin-hadoop3/python/docs/source/reference/pyspark.pandas/ml.rst\n",
            "spark-3.3.1-bin-hadoop3/python/docs/source/reference/pyspark.pandas/series.rst\n",
            "spark-3.3.1-bin-hadoop3/python/docs/source/reference/pyspark.pandas/window.rst\n",
            "spark-3.3.1-bin-hadoop3/python/docs/source/reference/pyspark.resource.rst\n",
            "spark-3.3.1-bin-hadoop3/python/docs/source/reference/pyspark.rst\n",
            "spark-3.3.1-bin-hadoop3/python/docs/source/reference/pyspark.sql/\n",
            "spark-3.3.1-bin-hadoop3/python/docs/source/reference/pyspark.sql/avro.rst\n",
            "spark-3.3.1-bin-hadoop3/python/docs/source/reference/pyspark.sql/catalog.rst\n",
            "spark-3.3.1-bin-hadoop3/python/docs/source/reference/pyspark.sql/column.rst\n",
            "spark-3.3.1-bin-hadoop3/python/docs/source/reference/pyspark.sql/configuration.rst\n",
            "spark-3.3.1-bin-hadoop3/python/docs/source/reference/pyspark.sql/core_classes.rst\n",
            "spark-3.3.1-bin-hadoop3/python/docs/source/reference/pyspark.sql/data_types.rst\n",
            "spark-3.3.1-bin-hadoop3/python/docs/source/reference/pyspark.sql/dataframe.rst\n",
            "spark-3.3.1-bin-hadoop3/python/docs/source/reference/pyspark.sql/functions.rst\n",
            "spark-3.3.1-bin-hadoop3/python/docs/source/reference/pyspark.sql/grouping.rst\n",
            "spark-3.3.1-bin-hadoop3/python/docs/source/reference/pyspark.sql/index.rst\n",
            "spark-3.3.1-bin-hadoop3/python/docs/source/reference/pyspark.sql/io.rst\n",
            "spark-3.3.1-bin-hadoop3/python/docs/source/reference/pyspark.sql/observation.rst\n",
            "spark-3.3.1-bin-hadoop3/python/docs/source/reference/pyspark.sql/row.rst\n",
            "spark-3.3.1-bin-hadoop3/python/docs/source/reference/pyspark.sql/spark_session.rst\n",
            "spark-3.3.1-bin-hadoop3/python/docs/source/reference/pyspark.sql/window.rst\n",
            "spark-3.3.1-bin-hadoop3/python/docs/source/reference/pyspark.ss/\n",
            "spark-3.3.1-bin-hadoop3/python/docs/source/reference/pyspark.ss/core_classes.rst\n",
            "spark-3.3.1-bin-hadoop3/python/docs/source/reference/pyspark.ss/index.rst\n",
            "spark-3.3.1-bin-hadoop3/python/docs/source/reference/pyspark.ss/io.rst\n",
            "spark-3.3.1-bin-hadoop3/python/docs/source/reference/pyspark.ss/query_management.rst\n",
            "spark-3.3.1-bin-hadoop3/python/docs/source/reference/pyspark.streaming.rst\n",
            "spark-3.3.1-bin-hadoop3/python/docs/source/user_guide/\n",
            "spark-3.3.1-bin-hadoop3/python/docs/source/user_guide/arrow_pandas.rst\n",
            "spark-3.3.1-bin-hadoop3/python/docs/source/user_guide/index.rst\n",
            "spark-3.3.1-bin-hadoop3/python/docs/source/user_guide/pandas_on_spark/\n",
            "spark-3.3.1-bin-hadoop3/python/docs/source/user_guide/pandas_on_spark/best_practices.rst\n",
            "spark-3.3.1-bin-hadoop3/python/docs/source/user_guide/pandas_on_spark/faq.rst\n",
            "spark-3.3.1-bin-hadoop3/python/docs/source/user_guide/pandas_on_spark/from_to_dbms.rst\n",
            "spark-3.3.1-bin-hadoop3/python/docs/source/user_guide/pandas_on_spark/index.rst\n",
            "spark-3.3.1-bin-hadoop3/python/docs/source/user_guide/pandas_on_spark/options.rst\n",
            "spark-3.3.1-bin-hadoop3/python/docs/source/user_guide/pandas_on_spark/pandas_pyspark.rst\n",
            "spark-3.3.1-bin-hadoop3/python/docs/source/user_guide/pandas_on_spark/supported_pandas_api.rst\n",
            "spark-3.3.1-bin-hadoop3/python/docs/source/user_guide/pandas_on_spark/transform_apply.rst\n",
            "spark-3.3.1-bin-hadoop3/python/docs/source/user_guide/pandas_on_spark/typehints.rst\n",
            "spark-3.3.1-bin-hadoop3/python/docs/source/user_guide/pandas_on_spark/types.rst\n",
            "spark-3.3.1-bin-hadoop3/python/docs/source/user_guide/python_packaging.rst\n",
            "spark-3.3.1-bin-hadoop3/python/docs/source/user_guide/sql/\n",
            "spark-3.3.1-bin-hadoop3/python/docs/source/user_guide/sql/arrow_pandas.rst\n",
            "spark-3.3.1-bin-hadoop3/python/docs/source/user_guide/sql/index.rst\n",
            "spark-3.3.1-bin-hadoop3/python/lib/\n",
            "spark-3.3.1-bin-hadoop3/python/lib/PY4J_LICENSE.txt\n",
            "spark-3.3.1-bin-hadoop3/python/lib/py4j-0.10.9.5-src.zip\n",
            "spark-3.3.1-bin-hadoop3/python/lib/pyspark.zip\n",
            "spark-3.3.1-bin-hadoop3/python/mypy.ini\n",
            "spark-3.3.1-bin-hadoop3/python/pyspark/\n",
            "spark-3.3.1-bin-hadoop3/python/pyspark/__init__.py\n",
            "spark-3.3.1-bin-hadoop3/python/pyspark/__pycache__/\n",
            "spark-3.3.1-bin-hadoop3/python/pyspark/__pycache__/install.cpython-38.pyc\n",
            "spark-3.3.1-bin-hadoop3/python/pyspark/_globals.py\n",
            "spark-3.3.1-bin-hadoop3/python/pyspark/_typing.pyi\n",
            "spark-3.3.1-bin-hadoop3/python/pyspark/accumulators.py\n",
            "spark-3.3.1-bin-hadoop3/python/pyspark/broadcast.py\n",
            "spark-3.3.1-bin-hadoop3/python/pyspark/cloudpickle/\n",
            "spark-3.3.1-bin-hadoop3/python/pyspark/cloudpickle/__init__.py\n",
            "spark-3.3.1-bin-hadoop3/python/pyspark/cloudpickle/cloudpickle.py\n",
            "spark-3.3.1-bin-hadoop3/python/pyspark/cloudpickle/cloudpickle_fast.py\n",
            "spark-3.3.1-bin-hadoop3/python/pyspark/cloudpickle/compat.py\n",
            "spark-3.3.1-bin-hadoop3/python/pyspark/conf.py\n",
            "spark-3.3.1-bin-hadoop3/python/pyspark/context.py\n",
            "spark-3.3.1-bin-hadoop3/python/pyspark/daemon.py\n",
            "spark-3.3.1-bin-hadoop3/python/pyspark/files.py\n",
            "spark-3.3.1-bin-hadoop3/python/pyspark/find_spark_home.py\n",
            "spark-3.3.1-bin-hadoop3/python/pyspark/install.py\n",
            "spark-3.3.1-bin-hadoop3/python/pyspark/instrumentation_utils.py\n",
            "spark-3.3.1-bin-hadoop3/python/pyspark/java_gateway.py\n",
            "spark-3.3.1-bin-hadoop3/python/pyspark/join.py\n",
            "spark-3.3.1-bin-hadoop3/python/pyspark/ml/\n",
            "spark-3.3.1-bin-hadoop3/python/pyspark/ml/__init__.py\n",
            "spark-3.3.1-bin-hadoop3/python/pyspark/ml/_typing.pyi\n",
            "spark-3.3.1-bin-hadoop3/python/pyspark/ml/base.py\n",
            "spark-3.3.1-bin-hadoop3/python/pyspark/ml/classification.py\n",
            "spark-3.3.1-bin-hadoop3/python/pyspark/ml/clustering.py\n",
            "spark-3.3.1-bin-hadoop3/python/pyspark/ml/common.py\n",
            "spark-3.3.1-bin-hadoop3/python/pyspark/ml/evaluation.py\n",
            "spark-3.3.1-bin-hadoop3/python/pyspark/ml/feature.py\n",
            "spark-3.3.1-bin-hadoop3/python/pyspark/ml/fpm.py\n",
            "spark-3.3.1-bin-hadoop3/python/pyspark/ml/functions.py\n",
            "spark-3.3.1-bin-hadoop3/python/pyspark/ml/image.py\n",
            "spark-3.3.1-bin-hadoop3/python/pyspark/ml/linalg/\n",
            "spark-3.3.1-bin-hadoop3/python/pyspark/ml/linalg/__init__.py\n",
            "spark-3.3.1-bin-hadoop3/python/pyspark/ml/param/\n",
            "spark-3.3.1-bin-hadoop3/python/pyspark/ml/param/__init__.py\n",
            "spark-3.3.1-bin-hadoop3/python/pyspark/ml/param/_shared_params_code_gen.py\n",
            "spark-3.3.1-bin-hadoop3/python/pyspark/ml/param/shared.py\n",
            "spark-3.3.1-bin-hadoop3/python/pyspark/ml/pipeline.py\n",
            "spark-3.3.1-bin-hadoop3/python/pyspark/ml/recommendation.py\n",
            "spark-3.3.1-bin-hadoop3/python/pyspark/ml/regression.py\n",
            "spark-3.3.1-bin-hadoop3/python/pyspark/ml/stat.py\n",
            "spark-3.3.1-bin-hadoop3/python/pyspark/ml/tests/\n",
            "spark-3.3.1-bin-hadoop3/python/pyspark/ml/tests/__init__.py\n",
            "spark-3.3.1-bin-hadoop3/python/pyspark/ml/tests/test_algorithms.py\n",
            "spark-3.3.1-bin-hadoop3/python/pyspark/ml/tests/test_base.py\n",
            "spark-3.3.1-bin-hadoop3/python/pyspark/ml/tests/test_evaluation.py\n",
            "spark-3.3.1-bin-hadoop3/python/pyspark/ml/tests/test_feature.py\n",
            "spark-3.3.1-bin-hadoop3/python/pyspark/ml/tests/test_image.py\n",
            "spark-3.3.1-bin-hadoop3/python/pyspark/ml/tests/test_linalg.py\n",
            "spark-3.3.1-bin-hadoop3/python/pyspark/ml/tests/test_param.py\n",
            "spark-3.3.1-bin-hadoop3/python/pyspark/ml/tests/test_persistence.py\n",
            "spark-3.3.1-bin-hadoop3/python/pyspark/ml/tests/test_pipeline.py\n",
            "spark-3.3.1-bin-hadoop3/python/pyspark/ml/tests/test_stat.py\n",
            "spark-3.3.1-bin-hadoop3/python/pyspark/ml/tests/test_training_summary.py\n",
            "spark-3.3.1-bin-hadoop3/python/pyspark/ml/tests/test_tuning.py\n",
            "spark-3.3.1-bin-hadoop3/python/pyspark/ml/tests/test_util.py\n",
            "spark-3.3.1-bin-hadoop3/python/pyspark/ml/tests/test_wrapper.py\n",
            "spark-3.3.1-bin-hadoop3/python/pyspark/ml/tests/typing/\n",
            "spark-3.3.1-bin-hadoop3/python/pyspark/ml/tests/typing/test_classification.yml\n",
            "spark-3.3.1-bin-hadoop3/python/pyspark/ml/tests/typing/test_clustering.yaml\n",
            "spark-3.3.1-bin-hadoop3/python/pyspark/ml/tests/typing/test_evaluation.yml\n",
            "spark-3.3.1-bin-hadoop3/python/pyspark/ml/tests/typing/test_feature.yml\n",
            "spark-3.3.1-bin-hadoop3/python/pyspark/ml/tests/typing/test_param.yml\n",
            "spark-3.3.1-bin-hadoop3/python/pyspark/ml/tests/typing/test_readable.yml\n",
            "spark-3.3.1-bin-hadoop3/python/pyspark/ml/tests/typing/test_regression.yml\n",
            "spark-3.3.1-bin-hadoop3/python/pyspark/ml/tree.py\n",
            "spark-3.3.1-bin-hadoop3/python/pyspark/ml/tuning.py\n",
            "spark-3.3.1-bin-hadoop3/python/pyspark/ml/util.py\n",
            "spark-3.3.1-bin-hadoop3/python/pyspark/ml/wrapper.py\n",
            "spark-3.3.1-bin-hadoop3/python/pyspark/mllib/\n",
            "spark-3.3.1-bin-hadoop3/python/pyspark/mllib/__init__.py\n",
            "spark-3.3.1-bin-hadoop3/python/pyspark/mllib/_typing.pyi\n",
            "spark-3.3.1-bin-hadoop3/python/pyspark/mllib/classification.py\n",
            "spark-3.3.1-bin-hadoop3/python/pyspark/mllib/clustering.py\n",
            "spark-3.3.1-bin-hadoop3/python/pyspark/mllib/common.py\n",
            "spark-3.3.1-bin-hadoop3/python/pyspark/mllib/evaluation.py\n",
            "spark-3.3.1-bin-hadoop3/python/pyspark/mllib/feature.py\n",
            "spark-3.3.1-bin-hadoop3/python/pyspark/mllib/fpm.py\n",
            "spark-3.3.1-bin-hadoop3/python/pyspark/mllib/linalg/\n",
            "spark-3.3.1-bin-hadoop3/python/pyspark/mllib/linalg/__init__.py\n",
            "spark-3.3.1-bin-hadoop3/python/pyspark/mllib/linalg/distributed.py\n",
            "spark-3.3.1-bin-hadoop3/python/pyspark/mllib/random.py\n",
            "spark-3.3.1-bin-hadoop3/python/pyspark/mllib/random.pyi\n",
            "spark-3.3.1-bin-hadoop3/python/pyspark/mllib/recommendation.py\n",
            "spark-3.3.1-bin-hadoop3/python/pyspark/mllib/recommendation.pyi\n",
            "spark-3.3.1-bin-hadoop3/python/pyspark/mllib/regression.py\n",
            "spark-3.3.1-bin-hadoop3/python/pyspark/mllib/stat/\n",
            "spark-3.3.1-bin-hadoop3/python/pyspark/mllib/stat/KernelDensity.py\n",
            "spark-3.3.1-bin-hadoop3/python/pyspark/mllib/stat/__init__.py\n",
            "spark-3.3.1-bin-hadoop3/python/pyspark/mllib/stat/_statistics.py\n",
            "spark-3.3.1-bin-hadoop3/python/pyspark/mllib/stat/distribution.py\n",
            "spark-3.3.1-bin-hadoop3/python/pyspark/mllib/stat/test.py\n",
            "spark-3.3.1-bin-hadoop3/python/pyspark/mllib/tests/\n",
            "spark-3.3.1-bin-hadoop3/python/pyspark/mllib/tests/__init__.py\n",
            "spark-3.3.1-bin-hadoop3/python/pyspark/mllib/tests/test_algorithms.py\n",
            "spark-3.3.1-bin-hadoop3/python/pyspark/mllib/tests/test_feature.py\n",
            "spark-3.3.1-bin-hadoop3/python/pyspark/mllib/tests/test_linalg.py\n",
            "spark-3.3.1-bin-hadoop3/python/pyspark/mllib/tests/test_stat.py\n",
            "spark-3.3.1-bin-hadoop3/python/pyspark/mllib/tests/test_streaming_algorithms.py\n",
            "spark-3.3.1-bin-hadoop3/python/pyspark/mllib/tests/test_util.py\n",
            "spark-3.3.1-bin-hadoop3/python/pyspark/mllib/tree.py\n",
            "spark-3.3.1-bin-hadoop3/python/pyspark/mllib/util.py\n",
            "spark-3.3.1-bin-hadoop3/python/pyspark/pandas/\n",
            "spark-3.3.1-bin-hadoop3/python/pyspark/pandas/__init__.py\n",
            "spark-3.3.1-bin-hadoop3/python/pyspark/pandas/_typing.py\n",
            "spark-3.3.1-bin-hadoop3/python/pyspark/pandas/accessors.py\n",
            "spark-3.3.1-bin-hadoop3/python/pyspark/pandas/base.py\n",
            "spark-3.3.1-bin-hadoop3/python/pyspark/pandas/categorical.py\n",
            "spark-3.3.1-bin-hadoop3/python/pyspark/pandas/config.py\n",
            "spark-3.3.1-bin-hadoop3/python/pyspark/pandas/data_type_ops/\n",
            "spark-3.3.1-bin-hadoop3/python/pyspark/pandas/data_type_ops/__init__.py\n",
            "spark-3.3.1-bin-hadoop3/python/pyspark/pandas/data_type_ops/base.py\n",
            "spark-3.3.1-bin-hadoop3/python/pyspark/pandas/data_type_ops/binary_ops.py\n",
            "spark-3.3.1-bin-hadoop3/python/pyspark/pandas/data_type_ops/boolean_ops.py\n",
            "spark-3.3.1-bin-hadoop3/python/pyspark/pandas/data_type_ops/categorical_ops.py\n",
            "spark-3.3.1-bin-hadoop3/python/pyspark/pandas/data_type_ops/complex_ops.py\n",
            "spark-3.3.1-bin-hadoop3/python/pyspark/pandas/data_type_ops/date_ops.py\n",
            "spark-3.3.1-bin-hadoop3/python/pyspark/pandas/data_type_ops/datetime_ops.py\n",
            "spark-3.3.1-bin-hadoop3/python/pyspark/pandas/data_type_ops/null_ops.py\n",
            "spark-3.3.1-bin-hadoop3/python/pyspark/pandas/data_type_ops/num_ops.py\n",
            "spark-3.3.1-bin-hadoop3/python/pyspark/pandas/data_type_ops/string_ops.py\n",
            "spark-3.3.1-bin-hadoop3/python/pyspark/pandas/data_type_ops/timedelta_ops.py\n",
            "spark-3.3.1-bin-hadoop3/python/pyspark/pandas/data_type_ops/udt_ops.py\n",
            "spark-3.3.1-bin-hadoop3/python/pyspark/pandas/datetimes.py\n",
            "spark-3.3.1-bin-hadoop3/python/pyspark/pandas/exceptions.py\n",
            "spark-3.3.1-bin-hadoop3/python/pyspark/pandas/extensions.py\n",
            "spark-3.3.1-bin-hadoop3/python/pyspark/pandas/frame.py\n",
            "spark-3.3.1-bin-hadoop3/python/pyspark/pandas/generic.py\n",
            "spark-3.3.1-bin-hadoop3/python/pyspark/pandas/groupby.py\n",
            "spark-3.3.1-bin-hadoop3/python/pyspark/pandas/indexes/\n",
            "spark-3.3.1-bin-hadoop3/python/pyspark/pandas/indexes/__init__.py\n",
            "spark-3.3.1-bin-hadoop3/python/pyspark/pandas/indexes/base.py\n",
            "spark-3.3.1-bin-hadoop3/python/pyspark/pandas/indexes/category.py\n",
            "spark-3.3.1-bin-hadoop3/python/pyspark/pandas/indexes/datetimes.py\n",
            "spark-3.3.1-bin-hadoop3/python/pyspark/pandas/indexes/multi.py\n",
            "spark-3.3.1-bin-hadoop3/python/pyspark/pandas/indexes/numeric.py\n",
            "spark-3.3.1-bin-hadoop3/python/pyspark/pandas/indexes/timedelta.py\n",
            "spark-3.3.1-bin-hadoop3/python/pyspark/pandas/indexing.py\n",
            "spark-3.3.1-bin-hadoop3/python/pyspark/pandas/internal.py\n",
            "spark-3.3.1-bin-hadoop3/python/pyspark/pandas/missing/\n",
            "spark-3.3.1-bin-hadoop3/python/pyspark/pandas/missing/__init__.py\n",
            "spark-3.3.1-bin-hadoop3/python/pyspark/pandas/missing/common.py\n",
            "spark-3.3.1-bin-hadoop3/python/pyspark/pandas/missing/frame.py\n",
            "spark-3.3.1-bin-hadoop3/python/pyspark/pandas/missing/general_functions.py\n",
            "spark-3.3.1-bin-hadoop3/python/pyspark/pandas/missing/groupby.py\n",
            "spark-3.3.1-bin-hadoop3/python/pyspark/pandas/missing/indexes.py\n",
            "spark-3.3.1-bin-hadoop3/python/pyspark/pandas/missing/series.py\n",
            "spark-3.3.1-bin-hadoop3/python/pyspark/pandas/missing/window.py\n",
            "spark-3.3.1-bin-hadoop3/python/pyspark/pandas/ml.py\n",
            "spark-3.3.1-bin-hadoop3/python/pyspark/pandas/mlflow.py\n",
            "spark-3.3.1-bin-hadoop3/python/pyspark/pandas/namespace.py\n",
            "spark-3.3.1-bin-hadoop3/python/pyspark/pandas/numpy_compat.py\n",
            "spark-3.3.1-bin-hadoop3/python/pyspark/pandas/plot/\n",
            "spark-3.3.1-bin-hadoop3/python/pyspark/pandas/plot/__init__.py\n",
            "spark-3.3.1-bin-hadoop3/python/pyspark/pandas/plot/core.py\n",
            "spark-3.3.1-bin-hadoop3/python/pyspark/pandas/plot/matplotlib.py\n",
            "spark-3.3.1-bin-hadoop3/python/pyspark/pandas/plot/plotly.py\n",
            "spark-3.3.1-bin-hadoop3/python/pyspark/pandas/series.py\n",
            "spark-3.3.1-bin-hadoop3/python/pyspark/pandas/spark/\n",
            "spark-3.3.1-bin-hadoop3/python/pyspark/pandas/spark/__init__.py\n",
            "spark-3.3.1-bin-hadoop3/python/pyspark/pandas/spark/accessors.py\n",
            "spark-3.3.1-bin-hadoop3/python/pyspark/pandas/spark/functions.py\n",
            "spark-3.3.1-bin-hadoop3/python/pyspark/pandas/spark/utils.py\n",
            "spark-3.3.1-bin-hadoop3/python/pyspark/pandas/sql_formatter.py\n",
            "spark-3.3.1-bin-hadoop3/python/pyspark/pandas/sql_processor.py\n",
            "spark-3.3.1-bin-hadoop3/python/pyspark/pandas/strings.py\n",
            "spark-3.3.1-bin-hadoop3/python/pyspark/pandas/tests/\n",
            "spark-3.3.1-bin-hadoop3/python/pyspark/pandas/tests/__init__.py\n",
            "spark-3.3.1-bin-hadoop3/python/pyspark/pandas/tests/data_type_ops/\n",
            "spark-3.3.1-bin-hadoop3/python/pyspark/pandas/tests/data_type_ops/__init__.py\n",
            "spark-3.3.1-bin-hadoop3/python/pyspark/pandas/tests/data_type_ops/test_base.py\n",
            "spark-3.3.1-bin-hadoop3/python/pyspark/pandas/tests/data_type_ops/test_binary_ops.py\n",
            "spark-3.3.1-bin-hadoop3/python/pyspark/pandas/tests/data_type_ops/test_boolean_ops.py\n",
            "spark-3.3.1-bin-hadoop3/python/pyspark/pandas/tests/data_type_ops/test_categorical_ops.py\n",
            "spark-3.3.1-bin-hadoop3/python/pyspark/pandas/tests/data_type_ops/test_complex_ops.py\n",
            "spark-3.3.1-bin-hadoop3/python/pyspark/pandas/tests/data_type_ops/test_date_ops.py\n",
            "spark-3.3.1-bin-hadoop3/python/pyspark/pandas/tests/data_type_ops/test_datetime_ops.py\n",
            "spark-3.3.1-bin-hadoop3/python/pyspark/pandas/tests/data_type_ops/test_null_ops.py\n",
            "spark-3.3.1-bin-hadoop3/python/pyspark/pandas/tests/data_type_ops/test_num_ops.py\n",
            "spark-3.3.1-bin-hadoop3/python/pyspark/pandas/tests/data_type_ops/test_string_ops.py\n",
            "spark-3.3.1-bin-hadoop3/python/pyspark/pandas/tests/data_type_ops/test_timedelta_ops.py\n",
            "spark-3.3.1-bin-hadoop3/python/pyspark/pandas/tests/data_type_ops/test_udt_ops.py\n",
            "spark-3.3.1-bin-hadoop3/python/pyspark/pandas/tests/data_type_ops/testing_utils.py\n",
            "spark-3.3.1-bin-hadoop3/python/pyspark/pandas/tests/indexes/\n",
            "spark-3.3.1-bin-hadoop3/python/pyspark/pandas/tests/indexes/__init__.py\n",
            "spark-3.3.1-bin-hadoop3/python/pyspark/pandas/tests/indexes/test_base.py\n",
            "spark-3.3.1-bin-hadoop3/python/pyspark/pandas/tests/indexes/test_category.py\n",
            "spark-3.3.1-bin-hadoop3/python/pyspark/pandas/tests/indexes/test_datetime.py\n",
            "spark-3.3.1-bin-hadoop3/python/pyspark/pandas/tests/indexes/test_timedelta.py\n",
            "spark-3.3.1-bin-hadoop3/python/pyspark/pandas/tests/plot/\n",
            "spark-3.3.1-bin-hadoop3/python/pyspark/pandas/tests/plot/__init__.py\n",
            "spark-3.3.1-bin-hadoop3/python/pyspark/pandas/tests/plot/test_frame_plot.py\n",
            "spark-3.3.1-bin-hadoop3/python/pyspark/pandas/tests/plot/test_frame_plot_matplotlib.py\n",
            "spark-3.3.1-bin-hadoop3/python/pyspark/pandas/tests/plot/test_frame_plot_plotly.py\n",
            "spark-3.3.1-bin-hadoop3/python/pyspark/pandas/tests/plot/test_series_plot.py\n",
            "spark-3.3.1-bin-hadoop3/python/pyspark/pandas/tests/plot/test_series_plot_matplotlib.py\n",
            "spark-3.3.1-bin-hadoop3/python/pyspark/pandas/tests/plot/test_series_plot_plotly.py\n",
            "spark-3.3.1-bin-hadoop3/python/pyspark/pandas/tests/test_categorical.py\n",
            "spark-3.3.1-bin-hadoop3/python/pyspark/pandas/tests/test_config.py\n",
            "spark-3.3.1-bin-hadoop3/python/pyspark/pandas/tests/test_csv.py\n",
            "spark-3.3.1-bin-hadoop3/python/pyspark/pandas/tests/test_dataframe.py\n",
            "spark-3.3.1-bin-hadoop3/python/pyspark/pandas/tests/test_dataframe_conversion.py\n",
            "spark-3.3.1-bin-hadoop3/python/pyspark/pandas/tests/test_dataframe_spark_io.py\n",
            "spark-3.3.1-bin-hadoop3/python/pyspark/pandas/tests/test_default_index.py\n",
            "spark-3.3.1-bin-hadoop3/python/pyspark/pandas/tests/test_expanding.py\n",
            "spark-3.3.1-bin-hadoop3/python/pyspark/pandas/tests/test_extension.py\n",
            "spark-3.3.1-bin-hadoop3/python/pyspark/pandas/tests/test_frame_spark.py\n",
            "spark-3.3.1-bin-hadoop3/python/pyspark/pandas/tests/test_groupby.py\n",
            "spark-3.3.1-bin-hadoop3/python/pyspark/pandas/tests/test_indexing.py\n",
            "spark-3.3.1-bin-hadoop3/python/pyspark/pandas/tests/test_indexops_spark.py\n",
            "spark-3.3.1-bin-hadoop3/python/pyspark/pandas/tests/test_internal.py\n",
            "spark-3.3.1-bin-hadoop3/python/pyspark/pandas/tests/test_namespace.py\n",
            "spark-3.3.1-bin-hadoop3/python/pyspark/pandas/tests/test_numpy_compat.py\n",
            "spark-3.3.1-bin-hadoop3/python/pyspark/pandas/tests/test_ops_on_diff_frames.py\n",
            "spark-3.3.1-bin-hadoop3/python/pyspark/pandas/tests/test_ops_on_diff_frames_groupby.py\n",
            "spark-3.3.1-bin-hadoop3/python/pyspark/pandas/tests/test_ops_on_diff_frames_groupby_expanding.py\n",
            "spark-3.3.1-bin-hadoop3/python/pyspark/pandas/tests/test_ops_on_diff_frames_groupby_rolling.py\n",
            "spark-3.3.1-bin-hadoop3/python/pyspark/pandas/tests/test_repr.py\n",
            "spark-3.3.1-bin-hadoop3/python/pyspark/pandas/tests/test_reshape.py\n",
            "spark-3.3.1-bin-hadoop3/python/pyspark/pandas/tests/test_rolling.py\n",
            "spark-3.3.1-bin-hadoop3/python/pyspark/pandas/tests/test_series.py\n",
            "spark-3.3.1-bin-hadoop3/python/pyspark/pandas/tests/test_series_conversion.py\n",
            "spark-3.3.1-bin-hadoop3/python/pyspark/pandas/tests/test_series_datetime.py\n",
            "spark-3.3.1-bin-hadoop3/python/pyspark/pandas/tests/test_series_string.py\n",
            "spark-3.3.1-bin-hadoop3/python/pyspark/pandas/tests/test_spark_functions.py\n",
            "spark-3.3.1-bin-hadoop3/python/pyspark/pandas/tests/test_sql.py\n",
            "spark-3.3.1-bin-hadoop3/python/pyspark/pandas/tests/test_stats.py\n",
            "spark-3.3.1-bin-hadoop3/python/pyspark/pandas/tests/test_typedef.py\n",
            "spark-3.3.1-bin-hadoop3/python/pyspark/pandas/tests/test_utils.py\n",
            "spark-3.3.1-bin-hadoop3/python/pyspark/pandas/tests/test_window.py\n",
            "spark-3.3.1-bin-hadoop3/python/pyspark/pandas/typedef/\n",
            "spark-3.3.1-bin-hadoop3/python/pyspark/pandas/typedef/__init__.py\n",
            "spark-3.3.1-bin-hadoop3/python/pyspark/pandas/typedef/typehints.py\n",
            "spark-3.3.1-bin-hadoop3/python/pyspark/pandas/usage_logging/\n",
            "spark-3.3.1-bin-hadoop3/python/pyspark/pandas/usage_logging/__init__.py\n",
            "spark-3.3.1-bin-hadoop3/python/pyspark/pandas/usage_logging/usage_logger.py\n",
            "spark-3.3.1-bin-hadoop3/python/pyspark/pandas/utils.py\n",
            "spark-3.3.1-bin-hadoop3/python/pyspark/pandas/window.py\n",
            "spark-3.3.1-bin-hadoop3/python/pyspark/profiler.py\n",
            "spark-3.3.1-bin-hadoop3/python/pyspark/py.typed\n",
            "spark-3.3.1-bin-hadoop3/python/pyspark/python/\n",
            "spark-3.3.1-bin-hadoop3/python/pyspark/python/pyspark/\n",
            "spark-3.3.1-bin-hadoop3/python/pyspark/python/pyspark/shell.py\n",
            "spark-3.3.1-bin-hadoop3/python/pyspark/rdd.py\n",
            "spark-3.3.1-bin-hadoop3/python/pyspark/rddsampler.py\n",
            "spark-3.3.1-bin-hadoop3/python/pyspark/resource/\n",
            "spark-3.3.1-bin-hadoop3/python/pyspark/resource/__init__.py\n",
            "spark-3.3.1-bin-hadoop3/python/pyspark/resource/information.py\n",
            "spark-3.3.1-bin-hadoop3/python/pyspark/resource/profile.py\n",
            "spark-3.3.1-bin-hadoop3/python/pyspark/resource/requests.py\n",
            "spark-3.3.1-bin-hadoop3/python/pyspark/resource/tests/\n",
            "spark-3.3.1-bin-hadoop3/python/pyspark/resource/tests/__init__.py\n",
            "spark-3.3.1-bin-hadoop3/python/pyspark/resource/tests/test_resources.py\n",
            "spark-3.3.1-bin-hadoop3/python/pyspark/resultiterable.py\n",
            "spark-3.3.1-bin-hadoop3/python/pyspark/serializers.py\n",
            "spark-3.3.1-bin-hadoop3/python/pyspark/shell.py\n",
            "spark-3.3.1-bin-hadoop3/python/pyspark/shuffle.py\n",
            "spark-3.3.1-bin-hadoop3/python/pyspark/sql/\n",
            "spark-3.3.1-bin-hadoop3/python/pyspark/sql/__init__.py\n",
            "spark-3.3.1-bin-hadoop3/python/pyspark/sql/_typing.pyi\n",
            "spark-3.3.1-bin-hadoop3/python/pyspark/sql/avro/\n",
            "spark-3.3.1-bin-hadoop3/python/pyspark/sql/avro/__init__.py\n",
            "spark-3.3.1-bin-hadoop3/python/pyspark/sql/avro/functions.py\n",
            "spark-3.3.1-bin-hadoop3/python/pyspark/sql/catalog.py\n",
            "spark-3.3.1-bin-hadoop3/python/pyspark/sql/column.py\n",
            "spark-3.3.1-bin-hadoop3/python/pyspark/sql/conf.py\n",
            "spark-3.3.1-bin-hadoop3/python/pyspark/sql/context.py\n",
            "spark-3.3.1-bin-hadoop3/python/pyspark/sql/dataframe.py\n",
            "spark-3.3.1-bin-hadoop3/python/pyspark/sql/functions.py\n",
            "spark-3.3.1-bin-hadoop3/python/pyspark/sql/group.py\n",
            "spark-3.3.1-bin-hadoop3/python/pyspark/sql/observation.py\n",
            "spark-3.3.1-bin-hadoop3/python/pyspark/sql/pandas/\n",
            "spark-3.3.1-bin-hadoop3/python/pyspark/sql/pandas/__init__.py\n",
            "spark-3.3.1-bin-hadoop3/python/pyspark/sql/pandas/_typing/\n",
            "spark-3.3.1-bin-hadoop3/python/pyspark/sql/pandas/_typing/__init__.pyi\n",
            "spark-3.3.1-bin-hadoop3/python/pyspark/sql/pandas/_typing/protocols/\n",
            "spark-3.3.1-bin-hadoop3/python/pyspark/sql/pandas/_typing/protocols/__init__.pyi\n",
            "spark-3.3.1-bin-hadoop3/python/pyspark/sql/pandas/_typing/protocols/frame.pyi\n",
            "spark-3.3.1-bin-hadoop3/python/pyspark/sql/pandas/_typing/protocols/series.pyi\n",
            "spark-3.3.1-bin-hadoop3/python/pyspark/sql/pandas/conversion.py\n",
            "spark-3.3.1-bin-hadoop3/python/pyspark/sql/pandas/functions.py\n",
            "spark-3.3.1-bin-hadoop3/python/pyspark/sql/pandas/functions.pyi\n",
            "spark-3.3.1-bin-hadoop3/python/pyspark/sql/pandas/group_ops.py\n",
            "spark-3.3.1-bin-hadoop3/python/pyspark/sql/pandas/map_ops.py\n",
            "spark-3.3.1-bin-hadoop3/python/pyspark/sql/pandas/serializers.py\n",
            "spark-3.3.1-bin-hadoop3/python/pyspark/sql/pandas/typehints.py\n",
            "spark-3.3.1-bin-hadoop3/python/pyspark/sql/pandas/types.py\n",
            "spark-3.3.1-bin-hadoop3/python/pyspark/sql/pandas/utils.py\n",
            "spark-3.3.1-bin-hadoop3/python/pyspark/sql/readwriter.py\n",
            "spark-3.3.1-bin-hadoop3/python/pyspark/sql/session.py\n",
            "spark-3.3.1-bin-hadoop3/python/pyspark/sql/sql_formatter.py\n",
            "spark-3.3.1-bin-hadoop3/python/pyspark/sql/streaming.py\n",
            "spark-3.3.1-bin-hadoop3/python/pyspark/sql/tests/\n",
            "spark-3.3.1-bin-hadoop3/python/pyspark/sql/tests/__init__.py\n",
            "spark-3.3.1-bin-hadoop3/python/pyspark/sql/tests/test_arrow.py\n",
            "spark-3.3.1-bin-hadoop3/python/pyspark/sql/tests/test_arrow_map.py\n",
            "spark-3.3.1-bin-hadoop3/python/pyspark/sql/tests/test_catalog.py\n",
            "spark-3.3.1-bin-hadoop3/python/pyspark/sql/tests/test_column.py\n",
            "spark-3.3.1-bin-hadoop3/python/pyspark/sql/tests/test_conf.py\n",
            "spark-3.3.1-bin-hadoop3/python/pyspark/sql/tests/test_context.py\n",
            "spark-3.3.1-bin-hadoop3/python/pyspark/sql/tests/test_dataframe.py\n",
            "spark-3.3.1-bin-hadoop3/python/pyspark/sql/tests/test_datasources.py\n",
            "spark-3.3.1-bin-hadoop3/python/pyspark/sql/tests/test_functions.py\n",
            "spark-3.3.1-bin-hadoop3/python/pyspark/sql/tests/test_group.py\n",
            "spark-3.3.1-bin-hadoop3/python/pyspark/sql/tests/test_pandas_cogrouped_map.py\n",
            "spark-3.3.1-bin-hadoop3/python/pyspark/sql/tests/test_pandas_grouped_map.py\n",
            "spark-3.3.1-bin-hadoop3/python/pyspark/sql/tests/test_pandas_map.py\n",
            "spark-3.3.1-bin-hadoop3/python/pyspark/sql/tests/test_pandas_udf.py\n",
            "spark-3.3.1-bin-hadoop3/python/pyspark/sql/tests/test_pandas_udf_grouped_agg.py\n",
            "spark-3.3.1-bin-hadoop3/python/pyspark/sql/tests/test_pandas_udf_scalar.py\n",
            "spark-3.3.1-bin-hadoop3/python/pyspark/sql/tests/test_pandas_udf_typehints.py\n",
            "spark-3.3.1-bin-hadoop3/python/pyspark/sql/tests/test_pandas_udf_typehints_with_future_annotations.py\n",
            "spark-3.3.1-bin-hadoop3/python/pyspark/sql/tests/test_pandas_udf_window.py\n",
            "spark-3.3.1-bin-hadoop3/python/pyspark/sql/tests/test_readwriter.py\n",
            "spark-3.3.1-bin-hadoop3/python/pyspark/sql/tests/test_serde.py\n",
            "spark-3.3.1-bin-hadoop3/python/pyspark/sql/tests/test_session.py\n",
            "spark-3.3.1-bin-hadoop3/python/pyspark/sql/tests/test_streaming.py\n",
            "spark-3.3.1-bin-hadoop3/python/pyspark/sql/tests/test_types.py\n",
            "spark-3.3.1-bin-hadoop3/python/pyspark/sql/tests/test_udf.py\n",
            "spark-3.3.1-bin-hadoop3/python/pyspark/sql/tests/test_udf_profiler.py\n",
            "spark-3.3.1-bin-hadoop3/python/pyspark/sql/tests/test_utils.py\n",
            "spark-3.3.1-bin-hadoop3/python/pyspark/sql/tests/typing/\n",
            "spark-3.3.1-bin-hadoop3/python/pyspark/sql/tests/typing/test_column.yml\n",
            "spark-3.3.1-bin-hadoop3/python/pyspark/sql/tests/typing/test_dataframe.yml\n",
            "spark-3.3.1-bin-hadoop3/python/pyspark/sql/tests/typing/test_functions.yml\n",
            "spark-3.3.1-bin-hadoop3/python/pyspark/sql/tests/typing/test_readwriter.yml\n",
            "spark-3.3.1-bin-hadoop3/python/pyspark/sql/tests/typing/test_session.yml\n",
            "spark-3.3.1-bin-hadoop3/python/pyspark/sql/tests/typing/test_udf.yml\n",
            "spark-3.3.1-bin-hadoop3/python/pyspark/sql/types.py\n",
            "spark-3.3.1-bin-hadoop3/python/pyspark/sql/udf.py\n",
            "spark-3.3.1-bin-hadoop3/python/pyspark/sql/utils.py\n",
            "spark-3.3.1-bin-hadoop3/python/pyspark/sql/window.py\n",
            "spark-3.3.1-bin-hadoop3/python/pyspark/statcounter.py\n",
            "spark-3.3.1-bin-hadoop3/python/pyspark/status.py\n",
            "spark-3.3.1-bin-hadoop3/python/pyspark/storagelevel.py\n",
            "spark-3.3.1-bin-hadoop3/python/pyspark/streaming/\n",
            "spark-3.3.1-bin-hadoop3/python/pyspark/streaming/__init__.py\n",
            "spark-3.3.1-bin-hadoop3/python/pyspark/streaming/context.py\n",
            "spark-3.3.1-bin-hadoop3/python/pyspark/streaming/dstream.py\n",
            "spark-3.3.1-bin-hadoop3/python/pyspark/streaming/kinesis.py\n",
            "spark-3.3.1-bin-hadoop3/python/pyspark/streaming/listener.py\n",
            "spark-3.3.1-bin-hadoop3/python/pyspark/streaming/tests/\n",
            "spark-3.3.1-bin-hadoop3/python/pyspark/streaming/tests/__init__.py\n",
            "spark-3.3.1-bin-hadoop3/python/pyspark/streaming/tests/test_context.py\n",
            "spark-3.3.1-bin-hadoop3/python/pyspark/streaming/tests/test_dstream.py\n",
            "spark-3.3.1-bin-hadoop3/python/pyspark/streaming/tests/test_kinesis.py\n",
            "spark-3.3.1-bin-hadoop3/python/pyspark/streaming/tests/test_listener.py\n",
            "spark-3.3.1-bin-hadoop3/python/pyspark/streaming/util.py\n",
            "spark-3.3.1-bin-hadoop3/python/pyspark/taskcontext.py\n",
            "spark-3.3.1-bin-hadoop3/python/pyspark/testing/\n",
            "spark-3.3.1-bin-hadoop3/python/pyspark/testing/__init__.py\n",
            "spark-3.3.1-bin-hadoop3/python/pyspark/testing/mllibutils.py\n",
            "spark-3.3.1-bin-hadoop3/python/pyspark/testing/mlutils.py\n",
            "spark-3.3.1-bin-hadoop3/python/pyspark/testing/pandasutils.py\n",
            "spark-3.3.1-bin-hadoop3/python/pyspark/testing/sqlutils.py\n",
            "spark-3.3.1-bin-hadoop3/python/pyspark/testing/streamingutils.py\n",
            "spark-3.3.1-bin-hadoop3/python/pyspark/testing/utils.py\n",
            "spark-3.3.1-bin-hadoop3/python/pyspark/tests/\n",
            "spark-3.3.1-bin-hadoop3/python/pyspark/tests/__init__.py\n",
            "spark-3.3.1-bin-hadoop3/python/pyspark/tests/test_appsubmit.py\n",
            "spark-3.3.1-bin-hadoop3/python/pyspark/tests/test_broadcast.py\n",
            "spark-3.3.1-bin-hadoop3/python/pyspark/tests/test_conf.py\n",
            "spark-3.3.1-bin-hadoop3/python/pyspark/tests/test_context.py\n",
            "spark-3.3.1-bin-hadoop3/python/pyspark/tests/test_daemon.py\n",
            "spark-3.3.1-bin-hadoop3/python/pyspark/tests/test_install_spark.py\n",
            "spark-3.3.1-bin-hadoop3/python/pyspark/tests/test_join.py\n",
            "spark-3.3.1-bin-hadoop3/python/pyspark/tests/test_pin_thread.py\n",
            "spark-3.3.1-bin-hadoop3/python/pyspark/tests/test_profiler.py\n",
            "spark-3.3.1-bin-hadoop3/python/pyspark/tests/test_rdd.py\n",
            "spark-3.3.1-bin-hadoop3/python/pyspark/tests/test_rddbarrier.py\n",
            "spark-3.3.1-bin-hadoop3/python/pyspark/tests/test_readwrite.py\n",
            "spark-3.3.1-bin-hadoop3/python/pyspark/tests/test_serializers.py\n",
            "spark-3.3.1-bin-hadoop3/python/pyspark/tests/test_shuffle.py\n",
            "spark-3.3.1-bin-hadoop3/python/pyspark/tests/test_statcounter.py\n",
            "spark-3.3.1-bin-hadoop3/python/pyspark/tests/test_taskcontext.py\n",
            "spark-3.3.1-bin-hadoop3/python/pyspark/tests/test_util.py\n",
            "spark-3.3.1-bin-hadoop3/python/pyspark/tests/test_worker.py\n",
            "spark-3.3.1-bin-hadoop3/python/pyspark/tests/typing/\n",
            "spark-3.3.1-bin-hadoop3/python/pyspark/tests/typing/test_context.yml\n",
            "spark-3.3.1-bin-hadoop3/python/pyspark/tests/typing/test_core.yml\n",
            "spark-3.3.1-bin-hadoop3/python/pyspark/tests/typing/test_rdd.yml\n",
            "spark-3.3.1-bin-hadoop3/python/pyspark/tests/typing/test_resultiterable.yml\n",
            "spark-3.3.1-bin-hadoop3/python/pyspark/traceback_utils.py\n",
            "spark-3.3.1-bin-hadoop3/python/pyspark/util.py\n",
            "spark-3.3.1-bin-hadoop3/python/pyspark/version.py\n",
            "spark-3.3.1-bin-hadoop3/python/pyspark/worker.py\n",
            "spark-3.3.1-bin-hadoop3/python/pyspark.egg-info/\n",
            "spark-3.3.1-bin-hadoop3/python/pyspark.egg-info/PKG-INFO\n",
            "spark-3.3.1-bin-hadoop3/python/pyspark.egg-info/SOURCES.txt\n",
            "spark-3.3.1-bin-hadoop3/python/pyspark.egg-info/dependency_links.txt\n",
            "spark-3.3.1-bin-hadoop3/python/pyspark.egg-info/requires.txt\n",
            "spark-3.3.1-bin-hadoop3/python/pyspark.egg-info/top_level.txt\n",
            "spark-3.3.1-bin-hadoop3/python/run-tests\n",
            "spark-3.3.1-bin-hadoop3/python/run-tests-with-coverage\n",
            "spark-3.3.1-bin-hadoop3/python/run-tests.py\n",
            "spark-3.3.1-bin-hadoop3/python/setup.cfg\n",
            "spark-3.3.1-bin-hadoop3/python/setup.py\n",
            "spark-3.3.1-bin-hadoop3/python/test_coverage/\n",
            "spark-3.3.1-bin-hadoop3/python/test_coverage/conf/\n",
            "spark-3.3.1-bin-hadoop3/python/test_coverage/conf/spark-defaults.conf\n",
            "spark-3.3.1-bin-hadoop3/python/test_coverage/coverage_daemon.py\n",
            "spark-3.3.1-bin-hadoop3/python/test_coverage/sitecustomize.py\n",
            "spark-3.3.1-bin-hadoop3/python/test_support/\n",
            "spark-3.3.1-bin-hadoop3/python/test_support/SimpleHTTPServer.py\n",
            "spark-3.3.1-bin-hadoop3/python/test_support/hello/\n",
            "spark-3.3.1-bin-hadoop3/python/test_support/hello/hello.txt\n",
            "spark-3.3.1-bin-hadoop3/python/test_support/hello/sub_hello/\n",
            "spark-3.3.1-bin-hadoop3/python/test_support/hello/sub_hello/sub_hello.txt\n",
            "spark-3.3.1-bin-hadoop3/python/test_support/sql/\n",
            "spark-3.3.1-bin-hadoop3/python/test_support/sql/ages.csv\n",
            "spark-3.3.1-bin-hadoop3/python/test_support/sql/ages_newlines.csv\n",
            "spark-3.3.1-bin-hadoop3/python/test_support/sql/orc_partitioned/\n",
            "spark-3.3.1-bin-hadoop3/python/test_support/sql/orc_partitioned/_SUCCESS\n",
            "spark-3.3.1-bin-hadoop3/python/test_support/sql/orc_partitioned/b=0/\n",
            "spark-3.3.1-bin-hadoop3/python/test_support/sql/orc_partitioned/b=0/c=0/\n",
            "spark-3.3.1-bin-hadoop3/python/test_support/sql/orc_partitioned/b=0/c=0/.part-r-00000-829af031-b970-49d6-ad39-30460a0be2c8.orc.crc\n",
            "spark-3.3.1-bin-hadoop3/python/test_support/sql/orc_partitioned/b=0/c=0/part-r-00000-829af031-b970-49d6-ad39-30460a0be2c8.orc\n",
            "spark-3.3.1-bin-hadoop3/python/test_support/sql/orc_partitioned/b=1/\n",
            "spark-3.3.1-bin-hadoop3/python/test_support/sql/orc_partitioned/b=1/c=1/\n",
            "spark-3.3.1-bin-hadoop3/python/test_support/sql/orc_partitioned/b=1/c=1/.part-r-00000-829af031-b970-49d6-ad39-30460a0be2c8.orc.crc\n",
            "spark-3.3.1-bin-hadoop3/python/test_support/sql/orc_partitioned/b=1/c=1/part-r-00000-829af031-b970-49d6-ad39-30460a0be2c8.orc\n",
            "spark-3.3.1-bin-hadoop3/python/test_support/sql/parquet_partitioned/\n",
            "spark-3.3.1-bin-hadoop3/python/test_support/sql/parquet_partitioned/_SUCCESS\n",
            "spark-3.3.1-bin-hadoop3/python/test_support/sql/parquet_partitioned/_common_metadata\n",
            "spark-3.3.1-bin-hadoop3/python/test_support/sql/parquet_partitioned/_metadata\n",
            "spark-3.3.1-bin-hadoop3/python/test_support/sql/parquet_partitioned/year=2014/\n",
            "spark-3.3.1-bin-hadoop3/python/test_support/sql/parquet_partitioned/year=2014/month=9/\n",
            "spark-3.3.1-bin-hadoop3/python/test_support/sql/parquet_partitioned/year=2014/month=9/day=1/\n",
            "spark-3.3.1-bin-hadoop3/python/test_support/sql/parquet_partitioned/year=2014/month=9/day=1/.part-r-00008.gz.parquet.crc\n",
            "spark-3.3.1-bin-hadoop3/python/test_support/sql/parquet_partitioned/year=2014/month=9/day=1/part-r-00008.gz.parquet\n",
            "spark-3.3.1-bin-hadoop3/python/test_support/sql/parquet_partitioned/year=2015/\n",
            "spark-3.3.1-bin-hadoop3/python/test_support/sql/parquet_partitioned/year=2015/month=10/\n",
            "spark-3.3.1-bin-hadoop3/python/test_support/sql/parquet_partitioned/year=2015/month=10/day=25/\n",
            "spark-3.3.1-bin-hadoop3/python/test_support/sql/parquet_partitioned/year=2015/month=10/day=25/.part-r-00002.gz.parquet.crc\n",
            "spark-3.3.1-bin-hadoop3/python/test_support/sql/parquet_partitioned/year=2015/month=10/day=25/.part-r-00004.gz.parquet.crc\n",
            "spark-3.3.1-bin-hadoop3/python/test_support/sql/parquet_partitioned/year=2015/month=10/day=25/part-r-00002.gz.parquet\n",
            "spark-3.3.1-bin-hadoop3/python/test_support/sql/parquet_partitioned/year=2015/month=10/day=25/part-r-00004.gz.parquet\n",
            "spark-3.3.1-bin-hadoop3/python/test_support/sql/parquet_partitioned/year=2015/month=10/day=26/\n",
            "spark-3.3.1-bin-hadoop3/python/test_support/sql/parquet_partitioned/year=2015/month=10/day=26/.part-r-00005.gz.parquet.crc\n",
            "spark-3.3.1-bin-hadoop3/python/test_support/sql/parquet_partitioned/year=2015/month=10/day=26/part-r-00005.gz.parquet\n",
            "spark-3.3.1-bin-hadoop3/python/test_support/sql/parquet_partitioned/year=2015/month=9/\n",
            "spark-3.3.1-bin-hadoop3/python/test_support/sql/parquet_partitioned/year=2015/month=9/day=1/\n",
            "spark-3.3.1-bin-hadoop3/python/test_support/sql/parquet_partitioned/year=2015/month=9/day=1/.part-r-00007.gz.parquet.crc\n",
            "spark-3.3.1-bin-hadoop3/python/test_support/sql/parquet_partitioned/year=2015/month=9/day=1/part-r-00007.gz.parquet\n",
            "spark-3.3.1-bin-hadoop3/python/test_support/sql/people.json\n",
            "spark-3.3.1-bin-hadoop3/python/test_support/sql/people1.json\n",
            "spark-3.3.1-bin-hadoop3/python/test_support/sql/people_array.json\n",
            "spark-3.3.1-bin-hadoop3/python/test_support/sql/people_array_utf16le.json\n",
            "spark-3.3.1-bin-hadoop3/python/test_support/sql/streaming/\n",
            "spark-3.3.1-bin-hadoop3/python/test_support/sql/streaming/text-test.txt\n",
            "spark-3.3.1-bin-hadoop3/python/test_support/sql/text-test.txt\n",
            "spark-3.3.1-bin-hadoop3/python/test_support/userlib-0.1.zip\n",
            "spark-3.3.1-bin-hadoop3/python/test_support/userlibrary.py\n",
            "spark-3.3.1-bin-hadoop3/sbin/\n",
            "spark-3.3.1-bin-hadoop3/sbin/decommission-slave.sh\n",
            "spark-3.3.1-bin-hadoop3/sbin/decommission-worker.sh\n",
            "spark-3.3.1-bin-hadoop3/sbin/slaves.sh\n",
            "spark-3.3.1-bin-hadoop3/sbin/spark-config.sh\n",
            "spark-3.3.1-bin-hadoop3/sbin/spark-daemon.sh\n",
            "spark-3.3.1-bin-hadoop3/sbin/spark-daemons.sh\n",
            "spark-3.3.1-bin-hadoop3/sbin/start-all.sh\n",
            "spark-3.3.1-bin-hadoop3/sbin/start-history-server.sh\n",
            "spark-3.3.1-bin-hadoop3/sbin/start-master.sh\n",
            "spark-3.3.1-bin-hadoop3/sbin/start-mesos-dispatcher.sh\n",
            "spark-3.3.1-bin-hadoop3/sbin/start-mesos-shuffle-service.sh\n",
            "spark-3.3.1-bin-hadoop3/sbin/start-slave.sh\n",
            "spark-3.3.1-bin-hadoop3/sbin/start-slaves.sh\n",
            "spark-3.3.1-bin-hadoop3/sbin/start-thriftserver.sh\n",
            "spark-3.3.1-bin-hadoop3/sbin/start-worker.sh\n",
            "spark-3.3.1-bin-hadoop3/sbin/start-workers.sh\n",
            "spark-3.3.1-bin-hadoop3/sbin/stop-all.sh\n",
            "spark-3.3.1-bin-hadoop3/sbin/stop-history-server.sh\n",
            "spark-3.3.1-bin-hadoop3/sbin/stop-master.sh\n",
            "spark-3.3.1-bin-hadoop3/sbin/stop-mesos-dispatcher.sh\n",
            "spark-3.3.1-bin-hadoop3/sbin/stop-mesos-shuffle-service.sh\n",
            "spark-3.3.1-bin-hadoop3/sbin/stop-slave.sh\n",
            "spark-3.3.1-bin-hadoop3/sbin/stop-slaves.sh\n",
            "spark-3.3.1-bin-hadoop3/sbin/stop-thriftserver.sh\n",
            "spark-3.3.1-bin-hadoop3/sbin/stop-worker.sh\n",
            "spark-3.3.1-bin-hadoop3/sbin/stop-workers.sh\n",
            "spark-3.3.1-bin-hadoop3/sbin/workers.sh\n",
            "spark-3.3.1-bin-hadoop3/yarn/\n",
            "spark-3.3.1-bin-hadoop3/yarn/spark-3.3.1-yarn-shuffle.jar\n"
          ]
        }
      ]
    },
    {
      "cell_type": "code",
      "source": [
        "!pip install findspark"
      ],
      "metadata": {
        "colab": {
          "base_uri": "https://localhost:8080/"
        },
        "id": "b-mbxv7SgzK5",
        "outputId": "7e73dc7d-3187-447d-a964-6fdade93f33d"
      },
      "execution_count": 8,
      "outputs": [
        {
          "output_type": "stream",
          "name": "stdout",
          "text": [
            "Looking in indexes: https://pypi.org/simple, https://us-python.pkg.dev/colab-wheels/public/simple/\n",
            "Collecting findspark\n",
            "  Downloading findspark-2.0.1-py2.py3-none-any.whl (4.4 kB)\n",
            "Installing collected packages: findspark\n",
            "Successfully installed findspark-2.0.1\n"
          ]
        }
      ]
    },
    {
      "cell_type": "code",
      "source": [
        "!ls"
      ],
      "metadata": {
        "colab": {
          "base_uri": "https://localhost:8080/"
        },
        "id": "dYC6twfeheIT",
        "outputId": "7a69e8b8-077e-40df-a5e7-7fdb31d83b75"
      },
      "execution_count": 9,
      "outputs": [
        {
          "output_type": "stream",
          "name": "stdout",
          "text": [
            "DataFile.csv   spark-3.3.1-bin-hadoop3\t    spark-3.3.1-bin-hadoop3.tgz.1\n",
            "project.ipynb  spark-3.3.1-bin-hadoop3.tgz\n"
          ]
        }
      ]
    },
    {
      "cell_type": "markdown",
      "source": [
        "## Initialize Spark"
      ],
      "metadata": {
        "id": "79DJkUmWalhH"
      }
    },
    {
      "cell_type": "code",
      "execution_count": 10,
      "metadata": {
        "id": "O2N_Vcvrgcqh"
      },
      "outputs": [],
      "source": [
        "import findspark\n",
        "findspark.init()"
      ]
    },
    {
      "cell_type": "code",
      "execution_count": 11,
      "metadata": {
        "colab": {
          "base_uri": "https://localhost:8080/",
          "height": 36
        },
        "id": "5ZLSh_A-gcqi",
        "outputId": "d2567eea-fa67-42b2-944e-c3e31c6febfe"
      },
      "outputs": [
        {
          "output_type": "execute_result",
          "data": {
            "text/plain": [
              "'/usr/local/lib/python3.8/dist-packages/pyspark'"
            ],
            "application/vnd.google.colaboratory.intrinsic+json": {
              "type": "string"
            }
          },
          "metadata": {},
          "execution_count": 11
        }
      ],
      "source": [
        "findspark.find()"
      ]
    },
    {
      "cell_type": "code",
      "execution_count": 12,
      "metadata": {
        "id": "h_OQDV1cgcqi"
      },
      "outputs": [],
      "source": [
        "import pyspark\n",
        "sc = pyspark.SparkContext(appName=\"Project\")\n"
      ]
    },
    {
      "cell_type": "code",
      "execution_count": 13,
      "metadata": {
        "colab": {
          "base_uri": "https://localhost:8080/",
          "height": 196
        },
        "id": "fYJ06Jmsgcqi",
        "outputId": "8e123e15-10f5-424a-c0d1-844ae2b2e06e"
      },
      "outputs": [
        {
          "output_type": "execute_result",
          "data": {
            "text/plain": [
              "<SparkContext master=local[*] appName=Project>"
            ],
            "text/html": [
              "\n",
              "        <div>\n",
              "            <p><b>SparkContext</b></p>\n",
              "\n",
              "            <p><a href=\"http://676722ac03a7:4040\">Spark UI</a></p>\n",
              "\n",
              "            <dl>\n",
              "              <dt>Version</dt>\n",
              "                <dd><code>v3.3.1</code></dd>\n",
              "              <dt>Master</dt>\n",
              "                <dd><code>local[*]</code></dd>\n",
              "              <dt>AppName</dt>\n",
              "                <dd><code>Project</code></dd>\n",
              "            </dl>\n",
              "        </div>\n",
              "        "
            ]
          },
          "metadata": {},
          "execution_count": 13
        }
      ],
      "source": [
        "sc"
      ]
    },
    {
      "cell_type": "code",
      "execution_count": 14,
      "metadata": {
        "colab": {
          "base_uri": "https://localhost:8080/",
          "height": 36
        },
        "id": "w3HUDTIMgcqi",
        "outputId": "931e97d6-5bb7-4a3d-bfa5-cfa847bed6b2"
      },
      "outputs": [
        {
          "output_type": "execute_result",
          "data": {
            "text/plain": [
              "'/content/drive/My Drive/Colab Notebooks/DataFile.csv'"
            ],
            "application/vnd.google.colaboratory.intrinsic+json": {
              "type": "string"
            }
          },
          "metadata": {},
          "execution_count": 14
        }
      ],
      "source": [
        "fileName1 = \"/content/drive/My Drive/Colab Notebooks/DataFile.csv\"\n",
        "fileName1\n"
      ]
    },
    {
      "cell_type": "markdown",
      "source": [
        "### Testing Read Dataset\n"
      ],
      "metadata": {
        "id": "3PigVplGaqtW"
      }
    },
    {
      "cell_type": "code",
      "source": [
        "from pyspark.sql import SparkSession\n",
        "\n",
        "\n",
        "spark = SparkSession.builder\\\n",
        "        .master(\"local\")\\\n",
        "        .appName(\"Colab\")\\\n",
        "        .config('spark.ui.port', '4050')\\\n",
        "        .getOrCreate()\n",
        "\n",
        "rdd = sc.textFile(fileName1)\n",
        "\n",
        "df = spark.read \\\n",
        "  .option(\"header\",\"True\") \\\n",
        "  .option(\"inferSchema\",\"True\") \\\n",
        "  .option(\"sep\",\",\") \\\n",
        "  .csv(rdd)"
      ],
      "metadata": {
        "id": "yQZmEpGo55eW"
      },
      "execution_count": 15,
      "outputs": []
    },
    {
      "cell_type": "code",
      "source": [
        "df.show()"
      ],
      "metadata": {
        "colab": {
          "base_uri": "https://localhost:8080/"
        },
        "id": "xDVYhOQb6J13",
        "outputId": "9a7c4e5a-94e2-4e1a-e7f0-f384d3e1840b"
      },
      "execution_count": 16,
      "outputs": [
        {
          "output_type": "stream",
          "name": "stdout",
          "text": [
            "+--------------------+------------------------+---------------------+---------------------+----------------------+----------------+---------------+-------------------+--------------------+---------------+------------------+--------------------+----------------+----------------------+-------------------+--------------------+-------------------+-----------------------+---------------------------+------------------------+----------------------------+---------------------+----------------------+---------------------+------------------------+-------------------------+---------------------+----------------------+---------------+------+------------+------------+------------+-----------+---------------------+----------------+-------------------+--------------+-------------------------------+-----------------------------------+--------------------------------------------+-----------------------------------+-----------------------------------------+---------------------------------------+----------------------------------------+--------------------------------------+-----------------------------------------+---------------------------------------+---------------------------------------+--------------------------------------+-----------------------------------+----------------------------------+--------------------------------------+---------------------------------+----------------------------------------+--------------------------------------+------------------------------------------+-----------------------------------------+--------------------------------------------+---------------------------------------+-----------------------------------------+------------------------------------+------------------------------------------+---------------------------------------+-----------------------------------------------+------------------------------------------------+----------------------------------------+---------------------------------------+------------------------------------------+-----------------------------+-----------------------------+-----------------------------------------+------------------------------------------+----------------------------------+---------------------------------+------------------------------------+------------------------------+---------------------------+----------------------------------+------------------------------+------------------------------------------+-----------------------------------------+----------------------------------+---------------------------------+------------------------------------+-------------------------------+---------------------------+-----------------------------+-------------------------+--------------------------+------------------------------+-----------------------------+-------------------------------+-------------------------------------+-------------------------------------+-----------------------------------------+------------------------------------------------+------------------------+-----------------------+------------------------------+------------------------------+------------------------------+------------------------------+----------------------------+------------------------------------+-------------------------------------+-----------------------------+----------------------------+-------------------------------+-----------------------------+------------------------------+------------------------------------+--------------------------+-------------------------------+-----------------------------------+--------------------------------------------+-----------------------------------+-----------------------------------------+---------------------------------------+----------------------------------------+--------------------------------------+-----------------------------------------+---------------------------------------+---------------------------------------+--------------------------------------+-----------------------------------+----------------------------------+--------------------------------------+---------------------------------+----------------------------------------+--------------------------------------+------------------------------------------+-----------------------------------------+--------------------------------------------+---------------------------------------+-----------------------------------------+------------------------------------+------------------------------------------+---------------------------------------+-----------------------------------------------+------------------------------------------------+----------------------------------------+---------------------------------------+------------------------------------------+-----------------------------+-----------------------------+-----------------------------------------+------------------------------------------+----------------------------------+---------------------------------+------------------------------------+--------------+-------------+----------------+------------------+------------+-----------+----------+------------+-------------------------+--------------------------+------------------+-----------------+--------------------+--------------------+--------------------------+------------------------+-----------------+------------------+\n",
            "|      repository_url|repository_has_downloads|repository_created_at|repository_has_issues|repository_description|repository_forks|repository_fork|repository_has_wiki| repository_homepage|repository_size|repository_private|     repository_name|repository_owner|repository_open_issues|repository_watchers|repository_pushed_at|repository_language|repository_organization|repository_integrate_branch|repository_master_branch|actor_attributes_gravatar_id|actor_attributes_type|actor_attributes_login|actor_attributes_name|actor_attributes_company|actor_attributes_location|actor_attributes_blog|actor_attributes_email|     created_at|public|       actor|payload_head|payload_size|payload_ref|payload_master_branch|payload_ref_type|payload_description|payload_number|payload_pull_request_head_label|payload_pull_request_head_repo_name|payload_pull_request_head_repo_master_branch|payload_pull_request_head_repo_size|payload_pull_request_head_repo_created_at|payload_pull_request_head_repo_has_wiki|payload_pull_request_head_repo_clone_url|payload_pull_request_head_repo_private|payload_pull_request_head_repo_updated_at|payload_pull_request_head_repo_watchers|payload_pull_request_head_repo_language|payload_pull_request_head_repo_ssh_url|payload_pull_request_head_repo_fork|payload_pull_request_head_repo_url|payload_pull_request_head_repo_git_url|payload_pull_request_head_repo_id|payload_pull_request_head_repo_pushed_at|payload_pull_request_head_repo_svn_url|payload_pull_request_head_repo_open_issues|payload_pull_request_head_repo_mirror_url|payload_pull_request_head_repo_has_downloads|payload_pull_request_head_repo_homepage|payload_pull_request_head_repo_has_issues|payload_pull_request_head_repo_forks|payload_pull_request_head_repo_description|payload_pull_request_head_repo_html_url|payload_pull_request_head_repo_owner_avatar_url|payload_pull_request_head_repo_owner_gravatar_id|payload_pull_request_head_repo_owner_url|payload_pull_request_head_repo_owner_id|payload_pull_request_head_repo_owner_login|payload_pull_request_head_sha|payload_pull_request_head_ref|payload_pull_request_head_user_avatar_url|payload_pull_request_head_user_gravatar_id|payload_pull_request_head_user_url|payload_pull_request_head_user_id|payload_pull_request_head_user_login|payload_pull_request_issue_url|payload_pull_request_number|payload_pull_request_changed_files|payload_pull_request_merged_by|payload_pull_request_merged_by_gravatar_id|payload_pull_request_merged_by_avatar_url|payload_pull_request_merged_by_url|payload_pull_request_merged_by_id|payload_pull_request_merged_by_login|payload_pull_request_created_at|payload_pull_request_merged|payload_pull_request_comments|payload_pull_request_body|payload_pull_request_title|payload_pull_request_additions|payload_pull_request_diff_url|payload_pull_request_updated_at|payload_pull_request__links_html_href|payload_pull_request__links_self_href|payload_pull_request__links_comments_href|payload_pull_request__links_review_comments_href|payload_pull_request_url|payload_pull_request_id|payload_pull_request_patch_url|payload_pull_request_mergeable|payload_pull_request_merged_at|payload_pull_request_closed_at|payload_pull_request_commits|payload_pull_request_user_avatar_url|payload_pull_request_user_gravatar_id|payload_pull_request_user_url|payload_pull_request_user_id|payload_pull_request_user_login|payload_pull_request_html_url|payload_pull_request_deletions|payload_pull_request_review_comments|payload_pull_request_state|payload_pull_request_base_label|payload_pull_request_base_repo_name|payload_pull_request_base_repo_master_branch|payload_pull_request_base_repo_size|payload_pull_request_base_repo_created_at|payload_pull_request_base_repo_has_wiki|payload_pull_request_base_repo_clone_url|payload_pull_request_base_repo_private|payload_pull_request_base_repo_updated_at|payload_pull_request_base_repo_watchers|payload_pull_request_base_repo_language|payload_pull_request_base_repo_ssh_url|payload_pull_request_base_repo_fork|payload_pull_request_base_repo_url|payload_pull_request_base_repo_git_url|payload_pull_request_base_repo_id|payload_pull_request_base_repo_pushed_at|payload_pull_request_base_repo_svn_url|payload_pull_request_base_repo_open_issues|payload_pull_request_base_repo_mirror_url|payload_pull_request_base_repo_has_downloads|payload_pull_request_base_repo_homepage|payload_pull_request_base_repo_has_issues|payload_pull_request_base_repo_forks|payload_pull_request_base_repo_description|payload_pull_request_base_repo_html_url|payload_pull_request_base_repo_owner_avatar_url|payload_pull_request_base_repo_owner_gravatar_id|payload_pull_request_base_repo_owner_url|payload_pull_request_base_repo_owner_id|payload_pull_request_base_repo_owner_login|payload_pull_request_base_sha|payload_pull_request_base_ref|payload_pull_request_base_user_avatar_url|payload_pull_request_base_user_gravatar_id|payload_pull_request_base_user_url|payload_pull_request_base_user_id|payload_pull_request_base_user_login|payload_action|payload_issue|payload_issue_id|payload_comment_id|payload_name|payload_url|payload_id|payload_desc|payload_member_avatar_url|payload_member_gravatar_id|payload_member_url|payload_member_id|payload_member_login|      payload_commit|payload_target_gravatar_id|payload_target_followers|payload_target_id|              type|\n",
            "+--------------------+------------------------+---------------------+---------------------+----------------------+----------------+---------------+-------------------+--------------------+---------------+------------------+--------------------+----------------+----------------------+-------------------+--------------------+-------------------+-----------------------+---------------------------+------------------------+----------------------------+---------------------+----------------------+---------------------+------------------------+-------------------------+---------------------+----------------------+---------------+------+------------+------------+------------+-----------+---------------------+----------------+-------------------+--------------+-------------------------------+-----------------------------------+--------------------------------------------+-----------------------------------+-----------------------------------------+---------------------------------------+----------------------------------------+--------------------------------------+-----------------------------------------+---------------------------------------+---------------------------------------+--------------------------------------+-----------------------------------+----------------------------------+--------------------------------------+---------------------------------+----------------------------------------+--------------------------------------+------------------------------------------+-----------------------------------------+--------------------------------------------+---------------------------------------+-----------------------------------------+------------------------------------+------------------------------------------+---------------------------------------+-----------------------------------------------+------------------------------------------------+----------------------------------------+---------------------------------------+------------------------------------------+-----------------------------+-----------------------------+-----------------------------------------+------------------------------------------+----------------------------------+---------------------------------+------------------------------------+------------------------------+---------------------------+----------------------------------+------------------------------+------------------------------------------+-----------------------------------------+----------------------------------+---------------------------------+------------------------------------+-------------------------------+---------------------------+-----------------------------+-------------------------+--------------------------+------------------------------+-----------------------------+-------------------------------+-------------------------------------+-------------------------------------+-----------------------------------------+------------------------------------------------+------------------------+-----------------------+------------------------------+------------------------------+------------------------------+------------------------------+----------------------------+------------------------------------+-------------------------------------+-----------------------------+----------------------------+-------------------------------+-----------------------------+------------------------------+------------------------------------+--------------------------+-------------------------------+-----------------------------------+--------------------------------------------+-----------------------------------+-----------------------------------------+---------------------------------------+----------------------------------------+--------------------------------------+-----------------------------------------+---------------------------------------+---------------------------------------+--------------------------------------+-----------------------------------+----------------------------------+--------------------------------------+---------------------------------+----------------------------------------+--------------------------------------+------------------------------------------+-----------------------------------------+--------------------------------------------+---------------------------------------+-----------------------------------------+------------------------------------+------------------------------------------+---------------------------------------+-----------------------------------------------+------------------------------------------------+----------------------------------------+---------------------------------------+------------------------------------------+-----------------------------+-----------------------------+-----------------------------------------+------------------------------------------+----------------------------------+---------------------------------+------------------------------------+--------------+-------------+----------------+------------------+------------+-----------+----------+------------+-------------------------+--------------------------+------------------+-----------------+--------------------+--------------------+--------------------------+------------------------+-----------------+------------------+\n",
            "|https://github.co...|                    true|       2010/8/8 21:13|                 true|      Vim distribution|             531|           TRUE|               TRUE|                null|            200|             FALSE|               janus|        carlhuda|                    26|               2997|      2012/3/5 21:11|               VimL|               carlhuda|                       null|                    null|        ab989bfcd6ed51d34...|                 User|             camelsong|                camel|                      kd|                 shenzhen|     http://rubyer.me|     neosoyn@gmail.com| 2012/3/11 8:03|  TRUE|   camelsong|        null|        null|       null|                 null|            null|               null|          null|                           null|                               null|                                        null|                               null|                                     null|                                   null|                                    null|                                  null|                                     null|                                   null|                                   null|                                  null|                               null|                              null|                                  null|                             null|                                    null|                                  null|                                      null|                                     null|                                        null|                                   null|                                     null|                                null|                                      null|                                   null|                                           null|                                            null|                                    null|                                   null|                                      null|                         null|                         null|                                     null|                                      null|                              null|                             null|                                null|                          null|                       null|                              null|                          null|                                      null|                                     null|                              null|                             null|                                null|                           null|                       null|                         null|                     null|                      null|                          null|                         null|                           null|                                 null|                                 null|                                     null|                                            null|                    null|                   null|                          null|                          null|                          null|                          null|                        null|                                null|                                 null|                         null|                        null|                           null|                         null|                          null|                                null|                      null|                           null|                               null|                                        null|                               null|                                     null|                                   null|                                    null|                                  null|                                     null|                                   null|                                   null|                                  null|                               null|                              null|                                  null|                             null|                                    null|                                  null|                                      null|                                     null|                                        null|                                   null|                                     null|                                null|                                      null|                                   null|                                           null|                                            null|                                    null|                                   null|                                      null|                         null|                         null|                                     null|                                      null|                              null|                             null|                                null|          null|         null|            null|           1070097|        null|       null|      null|        null|                     null|                      null|              null|             null|                null|57402f5593b1710a3...|                      null|                    null|             null|CommitCommentEvent|\n",
            "|https://github.co...|                    true|       2012/3/2 22:56|                false|  redis on AWS (RDS...|               0|           TRUE|               TRUE|                null|            132|             FALSE|               ReDiS|           numan|                     0|                  1|       2012/3/7 0:24|             Python|                   null|                       null|                    null|        b9deedcf319d6a3c8...|                 User|             truthtrap|       Jurg van Vliet|                   9Apps|     Amsterdam, Nether...| http://www.9apps....|    jurg@truthtrap.com| 2012/3/11 8:36|  TRUE|   truthtrap|        null|        null|       null|                 null|            null|               null|          null|                           null|                               null|                                        null|                               null|                                     null|                                   null|                                    null|                                  null|                                     null|                                   null|                                   null|                                  null|                               null|                              null|                                  null|                             null|                                    null|                                  null|                                      null|                                     null|                                        null|                                   null|                                     null|                                null|                                      null|                                   null|                                           null|                                            null|                                    null|                                   null|                                      null|                         null|                         null|                                     null|                                      null|                              null|                             null|                                null|                          null|                       null|                              null|                          null|                                      null|                                     null|                              null|                             null|                                null|                           null|                       null|                         null|                     null|                      null|                          null|                         null|                           null|                                 null|                                 null|                                     null|                                            null|                    null|                   null|                          null|                          null|                          null|                          null|                        null|                                null|                                 null|                         null|                        null|                           null|                         null|                          null|                                null|                      null|                           null|                               null|                                        null|                               null|                                     null|                                   null|                                    null|                                  null|                                     null|                                   null|                                   null|                                  null|                               null|                              null|                                  null|                             null|                                    null|                                  null|                                      null|                                     null|                                        null|                                   null|                                     null|                                null|                                      null|                                   null|                                           null|                                            null|                                    null|                                   null|                                      null|                         null|                         null|                                     null|                                      null|                              null|                             null|                                null|          null|         null|            null|           1070122|        null|       null|      null|        null|                     null|                      null|              null|             null|                null|51105d89d0b4e6c4b...|                      null|                    null|             null|CommitCommentEvent|\n",
            "|https://github.co...|                    true|      2011/3/24 18:38|                false|  A flexible 2D MMO...|               0|           TRUE|              FALSE|http://manasource...|            216|             FALSE|            manaserv|           bjorn|                     0|                  4|     2012/3/11 17:19|                C++|                   null|                       null|                    null|        0a02e88642d6b8c3e...|                 User|                  Ablu|       Erik Schilling|                    null|                  Germany|                 null|  ablu.erikschillin...|2012/3/11 17:22|  TRUE|        Ablu|        null|        null|       null|                 null|            null|               null|          null|                           null|                               null|                                        null|                               null|                                     null|                                   null|                                    null|                                  null|                                     null|                                   null|                                   null|                                  null|                               null|                              null|                                  null|                             null|                                    null|                                  null|                                      null|                                     null|                                        null|                                   null|                                     null|                                null|                                      null|                                   null|                                           null|                                            null|                                    null|                                   null|                                      null|                         null|                         null|                                     null|                                      null|                              null|                             null|                                null|                          null|                       null|                              null|                          null|                                      null|                                     null|                              null|                             null|                                null|                           null|                       null|                         null|                     null|                      null|                          null|                         null|                           null|                                 null|                                 null|                                     null|                                            null|                    null|                   null|                          null|                          null|                          null|                          null|                        null|                                null|                                 null|                         null|                        null|                           null|                         null|                          null|                                null|                      null|                           null|                               null|                                        null|                               null|                                     null|                                   null|                                    null|                                  null|                                     null|                                   null|                                   null|                                  null|                               null|                              null|                                  null|                             null|                                    null|                                  null|                                      null|                                     null|                                        null|                                   null|                                     null|                                null|                                      null|                                   null|                                           null|                                            null|                                    null|                                   null|                                      null|                         null|                         null|                                     null|                                      null|                              null|                             null|                                null|          null|         null|            null|           1070659|        null|       null|      null|        null|                     null|                      null|              null|             null|                null|9a8f890655852bcb7...|                      null|                    null|             null|CommitCommentEvent|\n",
            "|https://github.co...|                    true|       2012/2/9 21:50|                false|  A user-friendly, ...|               0|           TRUE|               TRUE|                null|            152|             FALSE|               Kotti|      chrneumann|                     0|                  1|     2012/3/10 13:15|             Python|                   null|                       null|                    null|        d01e5121a6f6c5edd...|                 User|               tomster|            Tom Lazar|                    null|          Berlin, Germany|  http://tomster.org/|       tom@tomster.org|2012/3/11 18:39|  TRUE|     tomster|        null|        null|       null|                 null|            null|               null|          null|                           null|                               null|                                        null|                               null|                                     null|                                   null|                                    null|                                  null|                                     null|                                   null|                                   null|                                  null|                               null|                              null|                                  null|                             null|                                    null|                                  null|                                      null|                                     null|                                        null|                                   null|                                     null|                                null|                                      null|                                   null|                                           null|                                            null|                                    null|                                   null|                                      null|                         null|                         null|                                     null|                                      null|                              null|                             null|                                null|                          null|                       null|                              null|                          null|                                      null|                                     null|                              null|                             null|                                null|                           null|                       null|                         null|                     null|                      null|                          null|                         null|                           null|                                 null|                                 null|                                     null|                                            null|                    null|                   null|                          null|                          null|                          null|                          null|                        null|                                null|                                 null|                         null|                        null|                           null|                         null|                          null|                                null|                      null|                           null|                               null|                                        null|                               null|                                     null|                                   null|                                    null|                                  null|                                     null|                                   null|                                   null|                                  null|                               null|                              null|                                  null|                             null|                                    null|                                  null|                                      null|                                     null|                                        null|                                   null|                                     null|                                null|                                      null|                                   null|                                           null|                                            null|                                    null|                                   null|                                      null|                         null|                         null|                                     null|                                      null|                              null|                             null|                                null|          null|         null|            null|           1070757|        null|       null|      null|        null|                     null|                      null|              null|             null|                null|8acdfcc81f22073ce...|                      null|                    null|             null|CommitCommentEvent|\n",
            "|https://github.co...|                    true|      2011/6/13 20:20|                false|  IPy are a Python ...|               0|           TRUE|               TRUE|                null|           1136|             FALSE|          python-ipy|       toofishes|                     0|                  1|     2011/6/13 21:19|             Python|                   null|                       null|                    null|        dee82a22b9a73f459...|                 User|              steffann|      Sander Steffann|            SJM Steffann|                Apeldoorn|                 null|    sander@steffann.nl|2012/3/11 22:45|  TRUE|    steffann|        null|        null|       null|                 null|            null|               null|          null|                           null|                               null|                                        null|                               null|                                     null|                                   null|                                    null|                                  null|                                     null|                                   null|                                   null|                                  null|                               null|                              null|                                  null|                             null|                                    null|                                  null|                                      null|                                     null|                                        null|                                   null|                                     null|                                null|                                      null|                                   null|                                           null|                                            null|                                    null|                                   null|                                      null|                         null|                         null|                                     null|                                      null|                              null|                             null|                                null|                          null|                       null|                              null|                          null|                                      null|                                     null|                              null|                             null|                                null|                           null|                       null|                         null|                     null|                      null|                          null|                         null|                           null|                                 null|                                 null|                                     null|                                            null|                    null|                   null|                          null|                          null|                          null|                          null|                        null|                                null|                                 null|                         null|                        null|                           null|                         null|                          null|                                null|                      null|                           null|                               null|                                        null|                               null|                                     null|                                   null|                                    null|                                  null|                                     null|                                   null|                                   null|                                  null|                               null|                              null|                                  null|                             null|                                    null|                                  null|                                      null|                                     null|                                        null|                                   null|                                     null|                                null|                                      null|                                   null|                                           null|                                            null|                                    null|                                   null|                                      null|                         null|                         null|                                     null|                                      null|                              null|                             null|                                null|          null|         null|            null|           1071095|        null|       null|      null|        null|                     null|                      null|              null|             null|                null|86db364bed40f26e9...|                      null|                    null|             null|CommitCommentEvent|\n",
            "|https://github.co...|                    true|      2012/1/29 23:49|                false|  Course files for ...|               0|           TRUE|               TRUE|http://helios.ham...|            132|             FALSE|    CS112-Spring2012|        maisun13|                     0|                  1|       2012/3/9 1:03|             Python|                   null|                       null|                    null|        c9315f734465f1906...|                 User|            alecgoebel|          Alec Goebel|    Sword and Spade S...|              Amherst, MA| www.swordandspade...|  agoebel@swordands...|2012/3/11 23:50|  TRUE|  alecgoebel|        null|        null|       null|                 null|            null|               null|          null|                           null|                               null|                                        null|                               null|                                     null|                                   null|                                    null|                                  null|                                     null|                                   null|                                   null|                                  null|                               null|                              null|                                  null|                             null|                                    null|                                  null|                                      null|                                     null|                                        null|                                   null|                                     null|                                null|                                      null|                                   null|                                           null|                                            null|                                    null|                                   null|                                      null|                         null|                         null|                                     null|                                      null|                              null|                             null|                                null|                          null|                       null|                              null|                          null|                                      null|                                     null|                              null|                             null|                                null|                           null|                       null|                         null|                     null|                      null|                          null|                         null|                           null|                                 null|                                 null|                                     null|                                            null|                    null|                   null|                          null|                          null|                          null|                          null|                        null|                                null|                                 null|                         null|                        null|                           null|                         null|                          null|                                null|                      null|                           null|                               null|                                        null|                               null|                                     null|                                   null|                                    null|                                  null|                                     null|                                   null|                                   null|                                  null|                               null|                              null|                                  null|                             null|                                    null|                                  null|                                      null|                                     null|                                        null|                                   null|                                     null|                                null|                                      null|                                   null|                                           null|                                            null|                                    null|                                   null|                                      null|                         null|                         null|                                     null|                                      null|                              null|                             null|                                null|          null|         null|            null|           1071168|        null|       null|      null|        null|                     null|                      null|              null|             null|                null|6a2cc2aeb27a3d448...|                      null|                    null|             null|CommitCommentEvent|\n",
            "|https://github.co...|                    true|       2011/5/22 5:58|                false|  intuitive search ...|               0|           TRUE|               TRUE|             not yet|            580|             FALSE|      sequenceserver|           wwood|                     0|                  3|     2012/3/10 23:34|               Ruby|                   null|                       null|                    null|        741c5fb89dcb8a120...|                 User|                 wwood|      Ben J Woodcroft|    University of Mel...|      Melbourne, Brisbane|                 null|                  null|2012/3/11 12:45|  TRUE|       wwood|        null|        null|       null|                 null|            null|               null|          null|                           null|                               null|                                        null|                               null|                                     null|                                   null|                                    null|                                  null|                                     null|                                   null|                                   null|                                  null|                               null|                              null|                                  null|                             null|                                    null|                                  null|                                      null|                                     null|                                        null|                                   null|                                     null|                                null|                                      null|                                   null|                                           null|                                            null|                                    null|                                   null|                                      null|                         null|                         null|                                     null|                                      null|                              null|                             null|                                null|                          null|                       null|                              null|                          null|                                      null|                                     null|                              null|                             null|                                null|                           null|                       null|                         null|                     null|                      null|                          null|                         null|                           null|                                 null|                                 null|                                     null|                                            null|                    null|                   null|                          null|                          null|                          null|                          null|                        null|                                null|                                 null|                         null|                        null|                           null|                         null|                          null|                                null|                      null|                           null|                               null|                                        null|                               null|                                     null|                                   null|                                    null|                                  null|                                     null|                                   null|                                   null|                                  null|                               null|                              null|                                  null|                             null|                                    null|                                  null|                                      null|                                     null|                                        null|                                   null|                                     null|                                null|                                      null|                                   null|                                           null|                                            null|                                    null|                                   null|                                      null|                         null|                         null|                                     null|                                      null|                              null|                             null|                                null|          null|         null|            null|           1070351|        null|       null|      null|        null|                     null|                      null|              null|             null|                null|ee4701d1891c4e007...|                      null|                    null|             null|CommitCommentEvent|\n",
            "|https://github.co...|                    true|        2011/3/7 1:18|                false|  OpenMW is an unof...|               0|           TRUE|               TRUE|http://openmw.com...|          32519|             FALSE|              openmw|        corristo|                     0|                  2|     2012/3/11 13:00|                C++|                   null|                       null|                    null|        d71ec2d5cdd3a43b8...|                 User|                 ace13| \"Alexander \"\"Ace\"...|                    null|                   Sweden|                 null|                  null|2012/3/11 13:29|  TRUE|       ace13|        null|        null|       null|                 null|            null|               null|          null|                           null|                               null|                                        null|                               null|                                     null|                                   null|                                    null|                                  null|                                     null|                                   null|                                   null|                                  null|                               null|                              null|                                  null|                             null|                                    null|                                  null|                                      null|                                     null|                                        null|                                   null|                                     null|                                null|                                      null|                                   null|                                           null|                                            null|                                    null|                                   null|                                      null|                         null|                         null|                                     null|                                      null|                              null|                             null|                                null|                          null|                       null|                              null|                          null|                                      null|                                     null|                              null|                             null|                                null|                           null|                       null|                         null|                     null|                      null|                          null|                         null|                           null|                                 null|                                 null|                                     null|                                            null|                    null|                   null|                          null|                          null|                          null|                          null|                        null|                                null|                                 null|                         null|                        null|                           null|                         null|                          null|                                null|                      null|                           null|                               null|                                        null|                               null|                                     null|                                   null|                                    null|                                  null|                                     null|                                   null|                                   null|                                  null|                               null|                              null|                                  null|                             null|                                    null|                                  null|                                      null|                                     null|                                        null|                                   null|                                     null|                                null|                                      null|                                   null|                                           null|                                            null|                                    null|                                   null|                                      null|                         null|                         null|                                     null|                                      null|                              null|                             null|                                null|          null|         null|            null|           1070389|        null|       null|      null|        null|                     null|                      null|              null|             null|                null|5328853445fbe2dc7...|                      null|                    null|             null|CommitCommentEvent|\n",
            "|https://github.co...|                    true|        2011/3/7 1:18|                false|  OpenMW is an unof...|               0|           TRUE|               TRUE|http://openmw.com...|          32519|             FALSE|              openmw|        corristo|                     0|                  2|     2012/3/11 13:00|                C++|                   null|                       null|                    null|        27fa057d74d18e062...|                 User|              corristo|     Nikolay Kasyanov|                    null|                   Russia|          corristo.ru|    corrmage@gmail.com|2012/3/11 13:33|  TRUE|    corristo|        null|        null|       null|                 null|            null|               null|          null|                           null|                               null|                                        null|                               null|                                     null|                                   null|                                    null|                                  null|                                     null|                                   null|                                   null|                                  null|                               null|                              null|                                  null|                             null|                                    null|                                  null|                                      null|                                     null|                                        null|                                   null|                                     null|                                null|                                      null|                                   null|                                           null|                                            null|                                    null|                                   null|                                      null|                         null|                         null|                                     null|                                      null|                              null|                             null|                                null|                          null|                       null|                              null|                          null|                                      null|                                     null|                              null|                             null|                                null|                           null|                       null|                         null|                     null|                      null|                          null|                         null|                           null|                                 null|                                 null|                                     null|                                            null|                    null|                   null|                          null|                          null|                          null|                          null|                        null|                                null|                                 null|                         null|                        null|                           null|                         null|                          null|                                null|                      null|                           null|                               null|                                        null|                               null|                                     null|                                   null|                                    null|                                  null|                                     null|                                   null|                                   null|                                  null|                               null|                              null|                                  null|                             null|                                    null|                                  null|                                      null|                                     null|                                        null|                                   null|                                     null|                                null|                                      null|                                   null|                                           null|                                            null|                                    null|                                   null|                                      null|                         null|                         null|                                     null|                                      null|                              null|                             null|                                null|          null|         null|            null|           1070395|        null|       null|      null|        null|                     null|                      null|              null|             null|                null|5328853445fbe2dc7...|                      null|                    null|             null|CommitCommentEvent|\n",
            "|https://github.co...|                    true|     2011/10/16 20:02|                false|  sbt, a build tool...|               0|           TRUE|               TRUE|http://groups.goo...|           1583|             FALSE|                xsbt|        eed3si9n|                     0|                  1|     2012/3/11 11:44|              Scala|                   null|                       null|                reminder|        c9e8de1be98d66ac0...|                 User|                harrah|          Mark Harrah|                    null|                     null|                 null|                  null|2012/3/11 14:16|  TRUE|      harrah|        null|        null|       null|                 null|            null|               null|          null|                           null|                               null|                                        null|                               null|                                     null|                                   null|                                    null|                                  null|                                     null|                                   null|                                   null|                                  null|                               null|                              null|                                  null|                             null|                                    null|                                  null|                                      null|                                     null|                                        null|                                   null|                                     null|                                null|                                      null|                                   null|                                           null|                                            null|                                    null|                                   null|                                      null|                         null|                         null|                                     null|                                      null|                              null|                             null|                                null|                          null|                       null|                              null|                          null|                                      null|                                     null|                              null|                             null|                                null|                           null|                       null|                         null|                     null|                      null|                          null|                         null|                           null|                                 null|                                 null|                                     null|                                            null|                    null|                   null|                          null|                          null|                          null|                          null|                        null|                                null|                                 null|                         null|                        null|                           null|                         null|                          null|                                null|                      null|                           null|                               null|                                        null|                               null|                                     null|                                   null|                                    null|                                  null|                                     null|                                   null|                                   null|                                  null|                               null|                              null|                                  null|                             null|                                    null|                                  null|                                      null|                                     null|                                        null|                                   null|                                     null|                                null|                                      null|                                   null|                                           null|                                            null|                                    null|                                   null|                                      null|                         null|                         null|                                     null|                                      null|                              null|                             null|                                null|          null|         null|            null|           1070459|        null|       null|      null|        null|                     null|                      null|              null|             null|                null|87c52f5f1b003421a...|                      null|                    null|             null|CommitCommentEvent|\n",
            "|https://github.co...|                    true|     2011/10/16 20:02|                false|  sbt, a build tool...|               0|           TRUE|               TRUE|http://groups.goo...|           1583|             FALSE|                xsbt|        eed3si9n|                     0|                  1|     2012/3/11 11:44|              Scala|                   null|                       null|                reminder|        c9e8de1be98d66ac0...|                 User|                harrah|          Mark Harrah|                    null|                     null|                 null|                  null|2012/3/11 14:16|  TRUE|      harrah|        null|        null|       null|                 null|            null|               null|          null|                           null|                               null|                                        null|                               null|                                     null|                                   null|                                    null|                                  null|                                     null|                                   null|                                   null|                                  null|                               null|                              null|                                  null|                             null|                                    null|                                  null|                                      null|                                     null|                                        null|                                   null|                                     null|                                null|                                      null|                                   null|                                           null|                                            null|                                    null|                                   null|                                      null|                         null|                         null|                                     null|                                      null|                              null|                             null|                                null|                          null|                       null|                              null|                          null|                                      null|                                     null|                              null|                             null|                                null|                           null|                       null|                         null|                     null|                      null|                          null|                         null|                           null|                                 null|                                 null|                                     null|                                            null|                    null|                   null|                          null|                          null|                          null|                          null|                        null|                                null|                                 null|                         null|                        null|                           null|                         null|                          null|                                null|                      null|                           null|                               null|                                        null|                               null|                                     null|                                   null|                                    null|                                  null|                                     null|                                   null|                                   null|                                  null|                               null|                              null|                                  null|                             null|                                    null|                                  null|                                      null|                                     null|                                        null|                                   null|                                     null|                                null|                                      null|                                   null|                                           null|                                            null|                                    null|                                   null|                                      null|                         null|                         null|                                     null|                                      null|                              null|                             null|                                null|          null|         null|            null|           1070460|        null|       null|      null|        null|                     null|                      null|              null|             null|                null|87c52f5f1b003421a...|                      null|                    null|             null|CommitCommentEvent|\n",
            "|https://github.co...|                    true|      2011/12/4 23:36|                false|  The Scala program...|               0|           TRUE|               TRUE|http://www.scala-...|            432|             FALSE|               scala|           paulp|                     0|                  1|     2012/3/11 14:14|              Scala|                   null|                    develop|                    null|        5df8faf17a57ccab4...|                 User|              retronym|          Jason Zaugg|                    null|                   Zurich|                 null|                  null|2012/3/11 14:44|  TRUE|    retronym|        null|        null|       null|                 null|            null|               null|          null|                           null|                               null|                                        null|                               null|                                     null|                                   null|                                    null|                                  null|                                     null|                                   null|                                   null|                                  null|                               null|                              null|                                  null|                             null|                                    null|                                  null|                                      null|                                     null|                                        null|                                   null|                                     null|                                null|                                      null|                                   null|                                           null|                                            null|                                    null|                                   null|                                      null|                         null|                         null|                                     null|                                      null|                              null|                             null|                                null|                          null|                       null|                              null|                          null|                                      null|                                     null|                              null|                             null|                                null|                           null|                       null|                         null|                     null|                      null|                          null|                         null|                           null|                                 null|                                 null|                                     null|                                            null|                    null|                   null|                          null|                          null|                          null|                          null|                        null|                                null|                                 null|                         null|                        null|                           null|                         null|                          null|                                null|                      null|                           null|                               null|                                        null|                               null|                                     null|                                   null|                                    null|                                  null|                                     null|                                   null|                                   null|                                  null|                               null|                              null|                                  null|                             null|                                    null|                                  null|                                      null|                                     null|                                        null|                                   null|                                     null|                                null|                                      null|                                   null|                                           null|                                            null|                                    null|                                   null|                                      null|                         null|                         null|                                     null|                                      null|                              null|                             null|                                null|          null|         null|            null|           1070490|        null|       null|      null|        null|                     null|                      null|              null|             null|                null|2ac69640ca5c835f0...|                      null|                    null|             null|CommitCommentEvent|\n",
            "|https://github.co...|                    true|     2011/10/19 21:40|                 true|       Digital Mishnah|               1|          FALSE|               TRUE|http://blog.umd.e...|            264|             FALSE|             mishnah|        umd-mith|                     3|                  3|      2012/3/9 18:48|              Scala|               umd-mith|                       null|                    null|        6745cb3499fb34a8e...|                 User|           trevormunoz|         Trevor Muñoz|                    null|         Washington, D.C.| http://trevormuno...|                  null|2012/3/11 17:52|  TRUE| trevormunoz|        null|        null|       null|                 null|            null|               null|          null|                           null|                               null|                                        null|                               null|                                     null|                                   null|                                    null|                                  null|                                     null|                                   null|                                   null|                                  null|                               null|                              null|                                  null|                             null|                                    null|                                  null|                                      null|                                     null|                                        null|                                   null|                                     null|                                null|                                      null|                                   null|                                           null|                                            null|                                    null|                                   null|                                      null|                         null|                         null|                                     null|                                      null|                              null|                             null|                                null|                          null|                       null|                              null|                          null|                                      null|                                     null|                              null|                             null|                                null|                           null|                       null|                         null|                     null|                      null|                          null|                         null|                           null|                                 null|                                 null|                                     null|                                            null|                    null|                   null|                          null|                          null|                          null|                          null|                        null|                                null|                                 null|                         null|                        null|                           null|                         null|                          null|                                null|                      null|                           null|                               null|                                        null|                               null|                                     null|                                   null|                                    null|                                  null|                                     null|                                   null|                                   null|                                  null|                               null|                              null|                                  null|                             null|                                    null|                                  null|                                      null|                                     null|                                        null|                                   null|                                     null|                                null|                                      null|                                   null|                                           null|                                            null|                                    null|                                   null|                                      null|                         null|                         null|                                     null|                                      null|                              null|                             null|                                null|          null|         null|            null|           1070703|        null|       null|      null|        null|                     null|                      null|              null|             null|                null|32ba142e1c2c1c0cf...|                      null|                    null|             null|CommitCommentEvent|\n",
            "|https://github.co...|                    true|      2012/2/24 11:57|                 true|                  null|               1|          FALSE|               TRUE|                null|            116|             FALSE|ElementsOf-Progra...| sergey-zakharov|                     0|                  2|      2012/3/9 18:42|                C++|                   null|                       null|                    null|        d9ee6431aaf5cceeb...|                 User|              teamurko|        Stanislav Pak|                  Yandex|                   Moscow|                 null|  abss.pakso@gmail.com|2012/3/11 18:14|  TRUE|    teamurko|        null|        null|       null|                 null|            null|               null|          null|                           null|                               null|                                        null|                               null|                                     null|                                   null|                                    null|                                  null|                                     null|                                   null|                                   null|                                  null|                               null|                              null|                                  null|                             null|                                    null|                                  null|                                      null|                                     null|                                        null|                                   null|                                     null|                                null|                                      null|                                   null|                                           null|                                            null|                                    null|                                   null|                                      null|                         null|                         null|                                     null|                                      null|                              null|                             null|                                null|                          null|                       null|                              null|                          null|                                      null|                                     null|                              null|                             null|                                null|                           null|                       null|                         null|                     null|                      null|                          null|                         null|                           null|                                 null|                                 null|                                     null|                                            null|                    null|                   null|                          null|                          null|                          null|                          null|                        null|                                null|                                 null|                         null|                        null|                           null|                         null|                          null|                                null|                      null|                           null|                               null|                                        null|                               null|                                     null|                                   null|                                    null|                                  null|                                     null|                                   null|                                   null|                                  null|                               null|                              null|                                  null|                             null|                                    null|                                  null|                                      null|                                     null|                                        null|                                   null|                                     null|                                null|                                      null|                                   null|                                           null|                                            null|                                    null|                                   null|                                      null|                         null|                         null|                                     null|                                      null|                              null|                             null|                                null|          null|         null|            null|           1070720|        null|       null|      null|        null|                     null|                      null|              null|             null|                null|de9026821580e7a12...|                      null|                    null|             null|CommitCommentEvent|\n",
            "|https://github.co...|                    true|        2012/2/3 7:59|                 true|  Compilación de pr...|               1|          FALSE|               TRUE|http://mxlopensou...|          19196|             FALSE|      presentaciones|           mxlOS|                     0|                  1|      2012/3/11 2:32|         JavaScript|                  mxlOS|                       null|                    null|        59f4d9ac2fa19d7f5...|                 User|                badbit|        Miguel Lozano|    Instituto de Inve...|                 Mexicali| http://www.badbit...|   el.badbit@gmail.com|2012/3/11 19:14|  TRUE|      badbit|        null|        null|       null|                 null|            null|               null|          null|                           null|                               null|                                        null|                               null|                                     null|                                   null|                                    null|                                  null|                                     null|                                   null|                                   null|                                  null|                               null|                              null|                                  null|                             null|                                    null|                                  null|                                      null|                                     null|                                        null|                                   null|                                     null|                                null|                                      null|                                   null|                                           null|                                            null|                                    null|                                   null|                                      null|                         null|                         null|                                     null|                                      null|                              null|                             null|                                null|                          null|                       null|                              null|                          null|                                      null|                                     null|                              null|                             null|                                null|                           null|                       null|                         null|                     null|                      null|                          null|                         null|                           null|                                 null|                                 null|                                     null|                                            null|                    null|                   null|                          null|                          null|                          null|                          null|                        null|                                null|                                 null|                         null|                        null|                           null|                         null|                          null|                                null|                      null|                           null|                               null|                                        null|                               null|                                     null|                                   null|                                    null|                                  null|                                     null|                                   null|                                   null|                                  null|                               null|                              null|                                  null|                             null|                                    null|                                  null|                                      null|                                     null|                                        null|                                   null|                                     null|                                null|                                      null|                                   null|                                           null|                                            null|                                    null|                                   null|                                      null|                         null|                         null|                                     null|                                      null|                              null|                             null|                                null|          null|         null|            null|           1070814|        null|       null|      null|        null|                     null|                      null|              null|             null|                null|1e333dc3ef2843f93...|                      null|                    null|             null|CommitCommentEvent|\n",
            "|https://github.co...|                    true|      2012/2/24 11:54|                 true|  Elements Of Progr...|               1|          FALSE|               TRUE|                null|            120|             FALSE|ElementsOfProgram...|DmitryBrazhnikov|                     0|                  2|     2012/3/10 11:14|                C++|                   null|                       null|                    null|        d9ee6431aaf5cceeb...|                 User|              teamurko|        Stanislav Pak|                  Yandex|                   Moscow|                 null|  abss.pakso@gmail.com|2012/3/11 20:02|  TRUE|    teamurko|        null|        null|       null|                 null|            null|               null|          null|                           null|                               null|                                        null|                               null|                                     null|                                   null|                                    null|                                  null|                                     null|                                   null|                                   null|                                  null|                               null|                              null|                                  null|                             null|                                    null|                                  null|                                      null|                                     null|                                        null|                                   null|                                     null|                                null|                                      null|                                   null|                                           null|                                            null|                                    null|                                   null|                                      null|                         null|                         null|                                     null|                                      null|                              null|                             null|                                null|                          null|                       null|                              null|                          null|                                      null|                                     null|                              null|                             null|                                null|                           null|                       null|                         null|                     null|                      null|                          null|                         null|                           null|                                 null|                                 null|                                     null|                                            null|                    null|                   null|                          null|                          null|                          null|                          null|                        null|                                null|                                 null|                         null|                        null|                           null|                         null|                          null|                                null|                      null|                           null|                               null|                                        null|                               null|                                     null|                                   null|                                    null|                                  null|                                     null|                                   null|                                   null|                                  null|                               null|                              null|                                  null|                             null|                                    null|                                  null|                                      null|                                     null|                                        null|                                   null|                                     null|                                null|                                      null|                                   null|                                           null|                                            null|                                    null|                                   null|                                      null|                         null|                         null|                                     null|                                      null|                              null|                             null|                                null|          null|         null|            null|           1070879|        null|       null|      null|        null|                     null|                      null|              null|             null|                null|79874d0d5a17c6089...|                      null|                    null|             null|CommitCommentEvent|\n",
            "|https://github.co...|                    true|       2012/2/7 22:05|                 true|  TBC 2.4.3(8606) -...|               1|          FALSE|               TRUE|                null|          22356|             FALSE|                 SF1|           Bootz|                     0|                  4|      2012/3/11 4:59|                C++|                   null|                       null|                    null|        9b3aba17fca17cc7e...|                 User|                 Bootz|                Bootz|       EMPulseGaming LLC|         right behind you| http://www.projec...|  bootz@projectskyf...|2012/3/11 12:28|  TRUE|       Bootz|        null|        null|       null|                 null|            null|               null|          null|                           null|                               null|                                        null|                               null|                                     null|                                   null|                                    null|                                  null|                                     null|                                   null|                                   null|                                  null|                               null|                              null|                                  null|                             null|                                    null|                                  null|                                      null|                                     null|                                        null|                                   null|                                     null|                                null|                                      null|                                   null|                                           null|                                            null|                                    null|                                   null|                                      null|                         null|                         null|                                     null|                                      null|                              null|                             null|                                null|                          null|                       null|                              null|                          null|                                      null|                                     null|                              null|                             null|                                null|                           null|                       null|                         null|                     null|                      null|                          null|                         null|                           null|                                 null|                                 null|                                     null|                                            null|                    null|                   null|                          null|                          null|                          null|                          null|                        null|                                null|                                 null|                         null|                        null|                           null|                         null|                          null|                                null|                      null|                           null|                               null|                                        null|                               null|                                     null|                                   null|                                    null|                                  null|                                     null|                                   null|                                   null|                                  null|                               null|                              null|                                  null|                             null|                                    null|                                  null|                                      null|                                     null|                                        null|                                   null|                                     null|                                null|                                      null|                                   null|                                           null|                                            null|                                    null|                                   null|                                      null|                         null|                         null|                                     null|                                      null|                              null|                             null|                                null|          null|         null|            null|           1070339|        null|       null|      null|        null|                     null|                      null|              null|             null|                null|1e267fcda8504f20a...|                      null|                    null|             null|CommitCommentEvent|\n",
            "|https://github.co...|                    true|      2012/2/24 14:03|                 true|                  null|               1|          FALSE|               TRUE|                null|            188|             FALSE|             sandbox|         tedolga|                     0|                  2|     2012/3/11 15:11|               Java|                   null|                       null|                    null|        d9579c142d896defa...|                 User|          IvanMamontov|                 Иван|                    null|         Saint-Petersburg|                 null|  ivan.mamontov@gma...|2012/3/11 15:27|  TRUE|IvanMamontov|        null|        null|       null|                 null|            null|               null|          null|                           null|                               null|                                        null|                               null|                                     null|                                   null|                                    null|                                  null|                                     null|                                   null|                                   null|                                  null|                               null|                              null|                                  null|                             null|                                    null|                                  null|                                      null|                                     null|                                        null|                                   null|                                     null|                                null|                                      null|                                   null|                                           null|                                            null|                                    null|                                   null|                                      null|                         null|                         null|                                     null|                                      null|                              null|                             null|                                null|                          null|                       null|                              null|                          null|                                      null|                                     null|                              null|                             null|                                null|                           null|                       null|                         null|                     null|                      null|                          null|                         null|                           null|                                 null|                                 null|                                     null|                                            null|                    null|                   null|                          null|                          null|                          null|                          null|                        null|                                null|                                 null|                         null|                        null|                           null|                         null|                          null|                                null|                      null|                           null|                               null|                                        null|                               null|                                     null|                                   null|                                    null|                                  null|                                     null|                                   null|                                   null|                                  null|                               null|                              null|                                  null|                             null|                                    null|                                  null|                                      null|                                     null|                                        null|                                   null|                                     null|                                null|                                      null|                                   null|                                           null|                                            null|                                    null|                                   null|                                      null|                         null|                         null|                                     null|                                      null|                              null|                             null|                                null|          null|         null|            null|           1070533|        null|       null|      null|        null|                     null|                      null|              null|             null|                null|0eef7c8cf89bb86e0...|                      null|                    null|             null|CommitCommentEvent|\n",
            "|https://github.co...|                    true|      2012/1/28 16:58|                 true|  Mistura de Prátic...|               2|          FALSE|               TRUE|http://games.vida...|            156|             FALSE|               games|        vidageek|                    25|                  6|     2012/3/10 16:34|               Java|               vidageek|                       null|                    null|        3ebbb64cafa4d784a...|                 User|               jcranky| \"Paulo \"\"JCranky\"...|                    null|                     null|   http://jcranky.com|                  null|2012/3/11 23:18|  TRUE|     jcranky|        null|        null|       null|                 null|            null|               null|          null|                           null|                               null|                                        null|                               null|                                     null|                                   null|                                    null|                                  null|                                     null|                                   null|                                   null|                                  null|                               null|                              null|                                  null|                             null|                                    null|                                  null|                                      null|                                     null|                                        null|                                   null|                                     null|                                null|                                      null|                                   null|                                           null|                                            null|                                    null|                                   null|                                      null|                         null|                         null|                                     null|                                      null|                              null|                             null|                                null|                          null|                       null|                              null|                          null|                                      null|                                     null|                              null|                             null|                                null|                           null|                       null|                         null|                     null|                      null|                          null|                         null|                           null|                                 null|                                 null|                                     null|                                            null|                    null|                   null|                          null|                          null|                          null|                          null|                        null|                                null|                                 null|                         null|                        null|                           null|                         null|                          null|                                null|                      null|                           null|                               null|                                        null|                               null|                                     null|                                   null|                                    null|                                  null|                                     null|                                   null|                                   null|                                  null|                               null|                              null|                                  null|                             null|                                    null|                                  null|                                      null|                                     null|                                        null|                                   null|                                     null|                                null|                                      null|                                   null|                                           null|                                            null|                                    null|                                   null|                                      null|                         null|                         null|                                     null|                                      null|                              null|                             null|                                null|          null|         null|            null|           1071141|        null|       null|      null|        null|                     null|                      null|              null|             null|                null|1365de151206a9f3c...|                      null|                    null|             null|CommitCommentEvent|\n",
            "|https://github.co...|                    true|       2011/7/12 9:59|                 true|      OpenNode Console|               2|          FALSE|               TRUE|http://opennodecl...|            268|             FALSE|    opennode-console|        opennode|                    32|                  3|     2012/3/11 12:48|         JavaScript|               opennode|                       null|                    null|        e49c2e77533477d3c...|                 User|                eallik|           Erik Allik|           self-employed|         Tallinn, Estonia|                 null|      eallik@gmail.com|2012/3/11 13:26|  TRUE|      eallik|        null|        null|       null|                 null|            null|               null|          null|                           null|                               null|                                        null|                               null|                                     null|                                   null|                                    null|                                  null|                                     null|                                   null|                                   null|                                  null|                               null|                              null|                                  null|                             null|                                    null|                                  null|                                      null|                                     null|                                        null|                                   null|                                     null|                                null|                                      null|                                   null|                                           null|                                            null|                                    null|                                   null|                                      null|                         null|                         null|                                     null|                                      null|                              null|                             null|                                null|                          null|                       null|                              null|                          null|                                      null|                                     null|                              null|                             null|                                null|                           null|                       null|                         null|                     null|                      null|                          null|                         null|                           null|                                 null|                                 null|                                     null|                                            null|                    null|                   null|                          null|                          null|                          null|                          null|                        null|                                null|                                 null|                         null|                        null|                           null|                         null|                          null|                                null|                      null|                           null|                               null|                                        null|                               null|                                     null|                                   null|                                    null|                                  null|                                     null|                                   null|                                   null|                                  null|                               null|                              null|                                  null|                             null|                                    null|                                  null|                                      null|                                     null|                                        null|                                   null|                                     null|                                null|                                      null|                                   null|                                           null|                                            null|                                    null|                                   null|                                      null|                         null|                         null|                                     null|                                      null|                              null|                             null|                                null|          null|         null|            null|           1070382|        null|       null|      null|        null|                     null|                      null|              null|             null|                null|8ccdabb68ecda9fe5...|                      null|                    null|             null|CommitCommentEvent|\n",
            "+--------------------+------------------------+---------------------+---------------------+----------------------+----------------+---------------+-------------------+--------------------+---------------+------------------+--------------------+----------------+----------------------+-------------------+--------------------+-------------------+-----------------------+---------------------------+------------------------+----------------------------+---------------------+----------------------+---------------------+------------------------+-------------------------+---------------------+----------------------+---------------+------+------------+------------+------------+-----------+---------------------+----------------+-------------------+--------------+-------------------------------+-----------------------------------+--------------------------------------------+-----------------------------------+-----------------------------------------+---------------------------------------+----------------------------------------+--------------------------------------+-----------------------------------------+---------------------------------------+---------------------------------------+--------------------------------------+-----------------------------------+----------------------------------+--------------------------------------+---------------------------------+----------------------------------------+--------------------------------------+------------------------------------------+-----------------------------------------+--------------------------------------------+---------------------------------------+-----------------------------------------+------------------------------------+------------------------------------------+---------------------------------------+-----------------------------------------------+------------------------------------------------+----------------------------------------+---------------------------------------+------------------------------------------+-----------------------------+-----------------------------+-----------------------------------------+------------------------------------------+----------------------------------+---------------------------------+------------------------------------+------------------------------+---------------------------+----------------------------------+------------------------------+------------------------------------------+-----------------------------------------+----------------------------------+---------------------------------+------------------------------------+-------------------------------+---------------------------+-----------------------------+-------------------------+--------------------------+------------------------------+-----------------------------+-------------------------------+-------------------------------------+-------------------------------------+-----------------------------------------+------------------------------------------------+------------------------+-----------------------+------------------------------+------------------------------+------------------------------+------------------------------+----------------------------+------------------------------------+-------------------------------------+-----------------------------+----------------------------+-------------------------------+-----------------------------+------------------------------+------------------------------------+--------------------------+-------------------------------+-----------------------------------+--------------------------------------------+-----------------------------------+-----------------------------------------+---------------------------------------+----------------------------------------+--------------------------------------+-----------------------------------------+---------------------------------------+---------------------------------------+--------------------------------------+-----------------------------------+----------------------------------+--------------------------------------+---------------------------------+----------------------------------------+--------------------------------------+------------------------------------------+-----------------------------------------+--------------------------------------------+---------------------------------------+-----------------------------------------+------------------------------------+------------------------------------------+---------------------------------------+-----------------------------------------------+------------------------------------------------+----------------------------------------+---------------------------------------+------------------------------------------+-----------------------------+-----------------------------+-----------------------------------------+------------------------------------------+----------------------------------+---------------------------------+------------------------------------+--------------+-------------+----------------+------------------+------------+-----------+----------+------------+-------------------------+--------------------------+------------------+-----------------+--------------------+--------------------+--------------------------+------------------------+-----------------+------------------+\n",
            "only showing top 20 rows\n",
            "\n"
          ]
        }
      ]
    },
    {
      "cell_type": "code",
      "source": [
        "df.count()"
      ],
      "metadata": {
        "colab": {
          "base_uri": "https://localhost:8080/"
        },
        "id": "1iunqET96S0F",
        "outputId": "d42a3ff3-6d02-487d-ed94-16e772ebeed9"
      },
      "execution_count": 17,
      "outputs": [
        {
          "output_type": "execute_result",
          "data": {
            "text/plain": [
              "59345"
            ]
          },
          "metadata": {},
          "execution_count": 17
        }
      ]
    },
    {
      "cell_type": "markdown",
      "source": [
        "## Read and Pre-process Dataset"
      ],
      "metadata": {
        "id": "FEIwzOwJavyY"
      }
    },
    {
      "cell_type": "code",
      "source": [
        "from pyspark.sql.functions import when, lit, col, expr, hash\n",
        "from pyspark.sql.types import FloatType\n",
        "\n",
        "\n",
        "# Read dataset from CSV file\n",
        "df = spark.read \\\n",
        "  .option(\"header\",\"True\") \\\n",
        "  .option(\"inferSchema\",\"True\") \\\n",
        "  .option(\"sep\",\",\") \\\n",
        "  .csv(fileName1)\n",
        "\n",
        "# Drop null and remove duplicate repository entries\n",
        "df = df.dropDuplicates([\"repository_url\"])\n",
        "df = df.na.drop(subset=[\"repository_url\"])\n",
        "\n",
        "# Selected only necessary columns\n",
        "df = df.select(\"repository_has_downloads\", \"repository_has_issues\", \n",
        "               \"repository_description\", \"repository_forks\", \"repository_fork\", \n",
        "               \"repository_has_wiki\", \"repository_homepage\", \"repository_size\", \n",
        "               \"repository_private\", \"repository_open_issues\", \n",
        "               \"repository_watchers\", \"repository_language\")\n",
        "\n",
        "# Process column values\n",
        "df = df.withColumn(\"repository_size\", when(df.repository_size.isNull(), 0).otherwise(df.repository_size)) \\\n",
        "       .withColumn(\"repository_forks\", when(df.repository_forks.isNull(), 0).otherwise(df.repository_forks)) \\\n",
        "       .withColumn(\"repository_open_issues\", when(df.repository_open_issues.isNull() ,0).otherwise(df.repository_open_issues)) \\\n",
        "       .withColumn(\"repository_watchers\", when(df.repository_watchers.isNull(), 0).otherwise(df.repository_watchers)) \\\n",
        "       .fillna(0) \\\n",
        "       \\\n",
        "       .withColumn(\"repository_forks\", col(\"repository_forks\").cast(FloatType())) \\\n",
        "       .withColumn(\"repository_size\", col(\"repository_size\").cast(FloatType())) \\\n",
        "       .withColumn(\"repository_open_issues\", col(\"repository_open_issues\").cast(FloatType())) \\\n",
        "       .withColumn(\"repository_watchers\", col(\"repository_watchers\").cast(FloatType())) \\\n",
        "       \\\n",
        "       .withColumn(\"repository_description\", when(df.repository_description == \"TRUE\", 1.0).otherwise(0.0)) \\\n",
        "       .withColumnRenamed(\"repository_description\", \"repository_has_description\") \\\n",
        "       \\\n",
        "       .withColumn(\"repository_fork\", when(df.repository_fork == \"TRUE\", 1.0).otherwise(0.0)) \\\n",
        "       .withColumnRenamed(\"repository_fork\", \"repository_is_fork\") \\\n",
        "       \\\n",
        "       .withColumn(\"repository_has_wiki\", when(df.repository_has_wiki == \"TRUE\", 1.0).otherwise(0.0)) \\\n",
        "       \\\n",
        "       .withColumn(\"repository_homepage\", when(df.repository_homepage == \"TRUE\", 1.0).otherwise(0.0)) \\\n",
        "       .withColumnRenamed(\"repository_homepage\", \"repository_has_homepage\") \\\n",
        "       \\\n",
        "       .withColumn(\"repository_private\", when(df.repository_private == \"TRUE\", 1.0).otherwise(0.0)) \\\n",
        "       .withColumnRenamed(\"repository_private\", \"repository_is_private\") \\\n",
        "       \\\n",
        "       .withColumn(\"repository_has_downloads\", when(df.repository_has_downloads == True, 1.0).otherwise(0.0)) \\\n",
        "       \\\n",
        "       .withColumn(\"repository_has_issues\", when(df.repository_has_issues == True, 1.0).otherwise(0.0)) \\\n",
        "       \\\n",
        "       .withColumn(\"repository_has_downloads\", col(\"repository_has_downloads\").cast(FloatType())) \\\n",
        "       .withColumn(\"repository_has_issues\", col(\"repository_has_issues\").cast(FloatType())) \\\n",
        "       .withColumn(\"repository_has_description\", col(\"repository_has_description\").cast(FloatType())) \\\n",
        "       .withColumn(\"repository_is_fork\", col(\"repository_is_fork\").cast(FloatType())) \\\n",
        "       .withColumn(\"repository_has_wiki\", col(\"repository_has_wiki\").cast(FloatType())) \\\n",
        "       .withColumn(\"repository_has_homepage\", col(\"repository_has_homepage\").cast(FloatType())) \\\n",
        "       .withColumn(\"repository_is_private\", col(\"repository_is_private\").cast(FloatType())) \\\n",
        "\n",
        "# Fill null value with 0s\n",
        "df = df.fillna(0)"
      ],
      "metadata": {
        "id": "aEmIzcQiTWBN"
      },
      "execution_count": 18,
      "outputs": []
    },
    {
      "cell_type": "code",
      "source": [
        "df.printSchema()"
      ],
      "metadata": {
        "colab": {
          "base_uri": "https://localhost:8080/"
        },
        "id": "uHNnGkne8nv7",
        "outputId": "fa9ad23a-4d38-43f7-8b17-3a5a9d33313e"
      },
      "execution_count": 19,
      "outputs": [
        {
          "output_type": "stream",
          "name": "stdout",
          "text": [
            "root\n",
            " |-- repository_has_downloads: float (nullable = false)\n",
            " |-- repository_has_issues: float (nullable = false)\n",
            " |-- repository_has_description: float (nullable = false)\n",
            " |-- repository_forks: float (nullable = false)\n",
            " |-- repository_is_fork: float (nullable = false)\n",
            " |-- repository_has_wiki: float (nullable = false)\n",
            " |-- repository_has_homepage: float (nullable = false)\n",
            " |-- repository_size: float (nullable = false)\n",
            " |-- repository_is_private: float (nullable = false)\n",
            " |-- repository_open_issues: float (nullable = false)\n",
            " |-- repository_watchers: float (nullable = false)\n",
            " |-- repository_language: string (nullable = true)\n",
            "\n"
          ]
        }
      ]
    },
    {
      "cell_type": "code",
      "source": [
        "df.count()"
      ],
      "metadata": {
        "colab": {
          "base_uri": "https://localhost:8080/"
        },
        "id": "aoBmJ4QfGzSq",
        "outputId": "d60e34f1-4048-4c53-8c91-bb2b7e7e02f3"
      },
      "execution_count": 20,
      "outputs": [
        {
          "output_type": "execute_result",
          "data": {
            "text/plain": [
              "17372"
            ]
          },
          "metadata": {},
          "execution_count": 20
        }
      ]
    },
    {
      "cell_type": "code",
      "source": [
        "df.show()"
      ],
      "metadata": {
        "colab": {
          "base_uri": "https://localhost:8080/"
        },
        "id": "RaRxb7Ta22gv",
        "outputId": "f623ec3d-e23c-45f4-e4ef-83580516cd40"
      },
      "execution_count": 21,
      "outputs": [
        {
          "output_type": "stream",
          "name": "stdout",
          "text": [
            "+------------------------+---------------------+--------------------------+----------------+------------------+-------------------+-----------------------+---------------+---------------------+----------------------+-------------------+-------------------+\n",
            "|repository_has_downloads|repository_has_issues|repository_has_description|repository_forks|repository_is_fork|repository_has_wiki|repository_has_homepage|repository_size|repository_is_private|repository_open_issues|repository_watchers|repository_language|\n",
            "+------------------------+---------------------+--------------------------+----------------+------------------+-------------------+-----------------------+---------------+---------------------+----------------------+-------------------+-------------------+\n",
            "|                     1.0|                  1.0|                       0.0|             6.0|               0.0|                1.0|                    0.0|          112.0|                  0.0|                   0.0|               11.0|               Ruby|\n",
            "|                     1.0|                  0.0|                       0.0|             0.0|               1.0|                1.0|                    0.0|          120.0|                  0.0|                   0.0|                1.0|         Emacs Lisp|\n",
            "|                     1.0|                  1.0|                       0.0|             1.0|               0.0|                1.0|                    0.0|        17216.0|                  0.0|                   0.0|                1.0|               null|\n",
            "|                     1.0|                  1.0|                       0.0|             1.0|               0.0|                1.0|                    0.0|           84.0|                  0.0|                   0.0|                1.0|               null|\n",
            "|                     1.0|                  1.0|                       0.0|             1.0|               0.0|                1.0|                    0.0|          556.0|                  0.0|                   0.0|                1.0|                C++|\n",
            "|                     1.0|                  1.0|                       0.0|             1.0|               0.0|                1.0|                    0.0|        12204.0|                  0.0|                   0.0|                1.0|                C++|\n",
            "|                     1.0|                  1.0|                       0.0|            10.0|               0.0|                1.0|                    0.0|         7923.0|                  0.0|                   3.0|               67.0|                 C#|\n",
            "|                     1.0|                  1.0|                       0.0|             1.0|               0.0|                1.0|                    0.0|          136.0|                  0.0|                   0.0|                1.0|               Ruby|\n",
            "|                     1.0|                  1.0|                       0.0|             1.0|               0.0|                1.0|                    0.0|          196.0|                  0.0|                   0.0|                1.0|               Ruby|\n",
            "|                     1.0|                  0.0|                       0.0|             0.0|               1.0|                1.0|                    0.0|          136.0|                  0.0|                   0.0|                1.0|                PHP|\n",
            "|                     1.0|                  1.0|                       0.0|             2.0|               0.0|                1.0|                    0.0|          216.0|                  0.0|                  11.0|                8.0|         JavaScript|\n",
            "|                     1.0|                  1.0|                       0.0|             1.0|               0.0|                1.0|                    0.0|          364.0|                  0.0|                   0.0|                1.0|               Ruby|\n",
            "|                     1.0|                  1.0|                       0.0|             1.0|               0.0|                1.0|                    0.0|          456.0|                  0.0|                   0.0|                1.0|               Ruby|\n",
            "|                     1.0|                  1.0|                       0.0|             3.0|               0.0|                1.0|                    0.0|          136.0|                  0.0|                   0.0|                4.0|                PHP|\n",
            "|                     1.0|                  1.0|                       0.0|             2.0|               0.0|                1.0|                    0.0|          104.0|                  0.0|                   0.0|                4.0|         JavaScript|\n",
            "|                     1.0|                  0.0|                       0.0|             0.0|               1.0|                1.0|                    0.0|          120.0|                  0.0|                   0.0|                1.0|        Objective-C|\n",
            "|                     1.0|                  1.0|                       0.0|             1.0|               0.0|                1.0|                    0.0|         2464.0|                  0.0|                   0.0|                1.0|                 C#|\n",
            "|                     1.0|                  1.0|                       0.0|             1.0|               0.0|                1.0|                    0.0|         4840.0|                  0.0|                   0.0|                1.0|         JavaScript|\n",
            "|                     1.0|                  1.0|                       0.0|             1.0|               0.0|                1.0|                    0.0|            0.0|                  0.0|                   0.0|                1.0|               null|\n",
            "|                     1.0|                  1.0|                       0.0|             4.0|               0.0|                1.0|                    0.0|          124.0|                  0.0|                   0.0|                4.0|                  D|\n",
            "+------------------------+---------------------+--------------------------+----------------+------------------+-------------------+-----------------------+---------------+---------------------+----------------------+-------------------+-------------------+\n",
            "only showing top 20 rows\n",
            "\n"
          ]
        }
      ]
    },
    {
      "cell_type": "markdown",
      "source": [
        "## Convert Categorical Attribute to Numerical\n",
        "\n",
        "Using `StringIndexer`, we can convert language labels into numerical numbers for feature assembling."
      ],
      "metadata": {
        "id": "e18GljZEbxlV"
      }
    },
    {
      "cell_type": "code",
      "source": [
        "from pyspark.ml.feature import IndexToString,StringIndexer, VectorIndexer\n",
        "\n",
        "label_indexer = StringIndexer(inputCol='repository_language', outputCol='repository_language_indexed').setHandleInvalid(\"keep\")\n",
        "label_indexer_model = label_indexer.fit(df)\n",
        "indexed_df = label_indexer_model.transform(df)"
      ],
      "metadata": {
        "id": "JtnuMX8MKBDy"
      },
      "execution_count": 22,
      "outputs": []
    },
    {
      "cell_type": "code",
      "source": [
        "indexed_df.select(\"repository_language\", \"repository_language_indexed\").show()"
      ],
      "metadata": {
        "colab": {
          "base_uri": "https://localhost:8080/"
        },
        "id": "J41Uf_dDMVG4",
        "outputId": "f6564d0b-bf6f-43b5-8649-d2bb20978d8a"
      },
      "execution_count": 23,
      "outputs": [
        {
          "output_type": "stream",
          "name": "stdout",
          "text": [
            "+-------------------+---------------------------+\n",
            "|repository_language|repository_language_indexed|\n",
            "+-------------------+---------------------------+\n",
            "|               Ruby|                        1.0|\n",
            "|               null|                       82.0|\n",
            "|                C++|                        6.0|\n",
            "|         Emacs Lisp|                       13.0|\n",
            "|               null|                       82.0|\n",
            "|               null|                       82.0|\n",
            "|               null|                       82.0|\n",
            "|                C++|                        6.0|\n",
            "|                C++|                        6.0|\n",
            "|                C++|                        6.0|\n",
            "|             Python|                        3.0|\n",
            "|                C++|                        6.0|\n",
            "|                 C#|                        8.0|\n",
            "|               Ruby|                        1.0|\n",
            "|               Ruby|                        1.0|\n",
            "|               VimL|                       10.0|\n",
            "|                PHP|                        4.0|\n",
            "|         JavaScript|                        0.0|\n",
            "|                C++|                        6.0|\n",
            "|               Ruby|                        1.0|\n",
            "+-------------------+---------------------------+\n",
            "only showing top 20 rows\n",
            "\n"
          ]
        }
      ]
    },
    {
      "cell_type": "code",
      "source": [
        "indexed_df.printSchema()"
      ],
      "metadata": {
        "colab": {
          "base_uri": "https://localhost:8080/"
        },
        "id": "w6QjY7wTK9O6",
        "outputId": "5fa706ad-72e8-4c02-f337-dea87b3f1dd9"
      },
      "execution_count": 100,
      "outputs": [
        {
          "output_type": "stream",
          "name": "stdout",
          "text": [
            "root\n",
            " |-- repository_has_downloads: float (nullable = false)\n",
            " |-- repository_has_issues: float (nullable = false)\n",
            " |-- repository_has_description: float (nullable = false)\n",
            " |-- repository_forks: float (nullable = false)\n",
            " |-- repository_is_fork: float (nullable = false)\n",
            " |-- repository_has_wiki: float (nullable = false)\n",
            " |-- repository_has_homepage: float (nullable = false)\n",
            " |-- repository_size: float (nullable = false)\n",
            " |-- repository_is_private: float (nullable = false)\n",
            " |-- repository_open_issues: float (nullable = false)\n",
            " |-- repository_watchers: float (nullable = false)\n",
            " |-- repository_language: string (nullable = true)\n",
            " |-- repository_language_indexed: double (nullable = false)\n",
            "\n"
          ]
        }
      ]
    },
    {
      "cell_type": "code",
      "source": [
        "indexed_df = df.fillna(0)"
      ],
      "metadata": {
        "id": "agLSkLqPSrKq"
      },
      "execution_count": 101,
      "outputs": []
    },
    {
      "cell_type": "markdown",
      "source": [
        "## Feature Assembling\n",
        "\n",
        "Using `VectorAssembler` to assemble all eleven features."
      ],
      "metadata": {
        "id": "TGoh-6ZLcHwI"
      }
    },
    {
      "cell_type": "code",
      "source": [
        "from pyspark.ml.feature import VectorAssembler\n",
        "\n",
        "assembler = VectorAssembler() \\\n",
        "        .setInputCols([\"repository_has_downloads\", \"repository_has_issues\", \n",
        "                       \"repository_has_description\", # \"repository_forks\", \n",
        "                       \"repository_is_fork\", \"repository_has_wiki\", \n",
        "                       \"repository_has_homepage\", \"repository_size\", \n",
        "                       \"repository_is_private\", \"repository_open_issues\", \n",
        "                       \"repository_watchers\", \"repository_language_indexed\"]) \\\n",
        "        .setOutputCol(\"features\") \\\n",
        "        .setHandleInvalid(\"keep\")\n",
        "\n",
        "assembled_df = assembler.transform(indexed_df)\n",
        "assembled_df = assembled_df.withColumn(\"repository_language_indexed\", col(\"repository_language_indexed\").cast(FloatType()))"
      ],
      "metadata": {
        "id": "KaSfH5y9F6OK"
      },
      "execution_count": 28,
      "outputs": []
    },
    {
      "cell_type": "code",
      "source": [
        "assembled_df.printSchema()"
      ],
      "metadata": {
        "colab": {
          "base_uri": "https://localhost:8080/"
        },
        "id": "EqLLrDd8IWIJ",
        "outputId": "3e57540d-b199-4f4b-c378-5e95d075fe1e"
      },
      "execution_count": 29,
      "outputs": [
        {
          "output_type": "stream",
          "name": "stdout",
          "text": [
            "root\n",
            " |-- repository_has_downloads: float (nullable = false)\n",
            " |-- repository_has_issues: float (nullable = false)\n",
            " |-- repository_has_description: float (nullable = false)\n",
            " |-- repository_forks: float (nullable = false)\n",
            " |-- repository_is_fork: float (nullable = false)\n",
            " |-- repository_has_wiki: float (nullable = false)\n",
            " |-- repository_has_homepage: float (nullable = false)\n",
            " |-- repository_size: float (nullable = false)\n",
            " |-- repository_is_private: float (nullable = false)\n",
            " |-- repository_open_issues: float (nullable = false)\n",
            " |-- repository_watchers: float (nullable = false)\n",
            " |-- repository_language: string (nullable = true)\n",
            " |-- repository_language_indexed: float (nullable = false)\n",
            " |-- features: vector (nullable = true)\n",
            "\n"
          ]
        }
      ]
    },
    {
      "cell_type": "markdown",
      "source": [
        "## Split Dataset\n",
        "\n",
        "Into training and testing set."
      ],
      "metadata": {
        "id": "Jf8ntDHwcbC0"
      }
    },
    {
      "cell_type": "code",
      "source": [
        "weights = [.8, .2] # train / test split\n",
        "seed = 2048\n",
        "\n",
        "df_training, df_testing = df.randomSplit(weights, seed)"
      ],
      "metadata": {
        "id": "0tPTR3bYDstK"
      },
      "execution_count": 30,
      "outputs": []
    },
    {
      "cell_type": "code",
      "source": [
        "df_training.count()"
      ],
      "metadata": {
        "colab": {
          "base_uri": "https://localhost:8080/"
        },
        "id": "i0qg9R7HENk0",
        "outputId": "833514f2-bb1e-45de-b26a-2ba0543a637b"
      },
      "execution_count": 31,
      "outputs": [
        {
          "output_type": "execute_result",
          "data": {
            "text/plain": [
              "13950"
            ]
          },
          "metadata": {},
          "execution_count": 31
        }
      ]
    },
    {
      "cell_type": "code",
      "source": [
        "df_training.describe().show()"
      ],
      "metadata": {
        "colab": {
          "base_uri": "https://localhost:8080/"
        },
        "id": "zeJAL8voSWX8",
        "outputId": "099b4218-37fe-4c05-bf69-1d21b685fe50"
      },
      "execution_count": 32,
      "outputs": [
        {
          "output_type": "stream",
          "name": "stdout",
          "text": [
            "+-------+------------------------+---------------------+--------------------------+-----------------+-------------------+-------------------+-----------------------+------------------+---------------------+----------------------+-------------------+-------------------+\n",
            "|summary|repository_has_downloads|repository_has_issues|repository_has_description| repository_forks| repository_is_fork|repository_has_wiki|repository_has_homepage|   repository_size|repository_is_private|repository_open_issues|repository_watchers|repository_language|\n",
            "+-------+------------------------+---------------------+--------------------------+-----------------+-------------------+-------------------+-----------------------+------------------+---------------------+----------------------+-------------------+-------------------+\n",
            "|  count|                   13950|                13950|                     13950|            13950|              13950|              13950|                  13950|             13950|                13950|                 13950|              13950|              11306|\n",
            "|   mean|      0.9751971326164874|   0.8335483870967741|                       0.0|9.864444444444445|0.14594982078853047| 0.8939784946236559|   7.885304659498208E-4|6688.2627956989245| 7.168458781362007E-5|     3.730394265232975|  50.14817204301075|                4.0|\n",
            "| stddev|     0.15552948004031414|  0.37249888602549697|                       0.0|85.72478234700318|0.35306855795317926| 0.3078761773736191|   0.028070717315604104| 154091.4581878652| 0.008466675133346037|    30.685291912948966|  395.1475837300448|  4.242640687119285|\n",
            "|    min|                     0.0|                  0.0|                       0.0|              0.0|                0.0|                0.0|                    0.0|               0.0|                  0.0|                   0.0|                0.0|                  1|\n",
            "|    max|                     1.0|                  1.0|                       0.0|           6220.0|                1.0|                1.0|                    1.0|       1.7683964E7|                  1.0|                2666.0|            23099.0|             XQuery|\n",
            "+-------+------------------------+---------------------+--------------------------+-----------------+-------------------+-------------------+-----------------------+------------------+---------------------+----------------------+-------------------+-------------------+\n",
            "\n"
          ]
        }
      ]
    },
    {
      "cell_type": "code",
      "source": [
        "df_testing.count()"
      ],
      "metadata": {
        "colab": {
          "base_uri": "https://localhost:8080/"
        },
        "id": "U47E2DzTEPA7",
        "outputId": "4d003238-529c-4829-ab63-5702183f0571"
      },
      "execution_count": 33,
      "outputs": [
        {
          "output_type": "execute_result",
          "data": {
            "text/plain": [
              "3422"
            ]
          },
          "metadata": {},
          "execution_count": 33
        }
      ]
    },
    {
      "cell_type": "markdown",
      "source": [
        "## Linear Regression Model - First and Second Attempt"
      ],
      "metadata": {
        "id": "c46PpIB6ciqE"
      }
    },
    {
      "cell_type": "code",
      "source": [
        "from pyspark.ml.regression import LinearRegression\n",
        "\n",
        "lr = LinearRegression(featuresCol=\"features\", labelCol=\"repository_forks\", maxIter=50, regParam=0.0, elasticNetParam=0.0)"
      ],
      "metadata": {
        "id": "iX6oPk9NETfk"
      },
      "execution_count": 78,
      "outputs": []
    },
    {
      "cell_type": "markdown",
      "source": [
        "Create a new pipeline"
      ],
      "metadata": {
        "id": "lvgMnGtHeCav"
      }
    },
    {
      "cell_type": "code",
      "source": [
        "from pyspark.ml import Pipeline\n",
        "\n",
        "pipeline = Pipeline(stages=[label_indexer, assembler, lr])"
      ],
      "metadata": {
        "id": "KcpFFD74WsoG"
      },
      "execution_count": 81,
      "outputs": []
    },
    {
      "cell_type": "markdown",
      "source": [
        "Train and test model"
      ],
      "metadata": {
        "id": "v65eppcceDTD"
      }
    },
    {
      "cell_type": "code",
      "source": [
        "model = pipeline.fit(df_training)"
      ],
      "metadata": {
        "id": "eYZALa4hXwCX"
      },
      "execution_count": 82,
      "outputs": []
    },
    {
      "cell_type": "code",
      "source": [
        "predictions = model.transform(df_testing)"
      ],
      "metadata": {
        "id": "mnyfbP88Xv9N"
      },
      "execution_count": 83,
      "outputs": []
    },
    {
      "cell_type": "code",
      "source": [
        "predictions.printSchema()"
      ],
      "metadata": {
        "colab": {
          "base_uri": "https://localhost:8080/"
        },
        "id": "JtmIic2aN6y6",
        "outputId": "6333ad48-ade4-41e2-9954-2947d18858ab"
      },
      "execution_count": 84,
      "outputs": [
        {
          "output_type": "stream",
          "name": "stdout",
          "text": [
            "root\n",
            " |-- repository_has_downloads: float (nullable = false)\n",
            " |-- repository_has_issues: float (nullable = false)\n",
            " |-- repository_has_description: float (nullable = false)\n",
            " |-- repository_forks: float (nullable = false)\n",
            " |-- repository_is_fork: float (nullable = false)\n",
            " |-- repository_has_wiki: float (nullable = false)\n",
            " |-- repository_has_homepage: float (nullable = false)\n",
            " |-- repository_size: float (nullable = false)\n",
            " |-- repository_is_private: float (nullable = false)\n",
            " |-- repository_open_issues: float (nullable = false)\n",
            " |-- repository_watchers: float (nullable = false)\n",
            " |-- repository_language: string (nullable = true)\n",
            " |-- repository_language_indexed: double (nullable = false)\n",
            " |-- features: vector (nullable = true)\n",
            " |-- prediction: double (nullable = false)\n",
            "\n"
          ]
        }
      ]
    },
    {
      "cell_type": "code",
      "source": [
        "predictions.select(\"repository_forks\", \"prediction\", \"features\").show(truncate=False)"
      ],
      "metadata": {
        "colab": {
          "base_uri": "https://localhost:8080/"
        },
        "id": "rl5oezr3YQCW",
        "outputId": "ef020b99-e77c-4a67-eb5e-f4596cfefe0f"
      },
      "execution_count": 85,
      "outputs": [
        {
          "output_type": "stream",
          "name": "stdout",
          "text": [
            "+----------------+-------------------+--------------------------------------------+\n",
            "|repository_forks|prediction         |features                                    |\n",
            "+----------------+-------------------+--------------------------------------------+\n",
            "|0.0             |2.7144588295329743 |(11,[3,6,9,10],[1.0,108.0,1.0,5.0])         |\n",
            "|0.0             |3.0262981232809683 |(11,[3,6,9,10],[1.0,116.0,1.0,13.0])        |\n",
            "|0.0             |2.7144515215100684 |(11,[3,6,9,10],[1.0,124.0,1.0,5.0])         |\n",
            "|0.0             |2.6364816495415733 |(11,[3,6,9,10],[1.0,144.0,1.0,3.0])         |\n",
            "|0.0             |2.5974976270601893 |(11,[3,6,9,10],[1.0,152.0,1.0,2.0])         |\n",
            "|0.0             |2.6754437479542386 |(11,[3,6,9,10],[1.0,184.0,1.0,4.0])         |\n",
            "|0.0             |2.8105752282180303 |(11,[3,6,9,10],[1.0,760.0,2.0,3.0])         |\n",
            "|0.0             |2.7073627392910025 |(11,[3,6,9,10],[1.0,15644.0,1.0,5.0])       |\n",
            "|0.0             |-2.955343806275202 |(11,[3,4,6,9],[1.0,1.0,220.0,1.0])          |\n",
            "|0.0             |-2.9163689188224513|(11,[3,4,6,9,10],[1.0,1.0,232.0,1.0,1.0])   |\n",
            "|0.0             |-2.838696848787386 |(11,[3,4,6,9,10],[1.0,1.0,864.0,1.0,3.0])   |\n",
            "|0.0             |-2.9169316365862326|(11,[3,4,6,9,10],[1.0,1.0,1464.0,1.0,1.0])  |\n",
            "|1.0             |3.7237942195029055 |(11,[3,6,9,10],[1.0,124.0,5.0,13.0])        |\n",
            "|1.0             |3.026278026217976  |(11,[3,6,9,10],[1.0,160.0,1.0,13.0])        |\n",
            "|1.0             |3.1595827111421695 |(11,[3,6,9,10],[1.0,196.0,4.0,3.0])         |\n",
            "|1.0             |-2.9164438260572396|(11,[3,4,6,9,10],[1.0,1.0,396.0,1.0,1.0])   |\n",
            "|3.0             |4.1278880426039315 |(11,[3,6,9,10],[1.0,160.0,10.0,1.0])        |\n",
            "|3.0             |3.643549935791805  |(11,[3,6,9,10],[1.0,584.0,7.0,2.0])         |\n",
            "|126.0           |41.08918636676851  |(11,[3,6,8,9,10],[1.0,292.0,10.0,214.0,2.0])|\n",
            "|159.0           |171.96264523999452 |(11,[4,6,9,10],[1.0,440.0,973.0,4.0])       |\n",
            "+----------------+-------------------+--------------------------------------------+\n",
            "only showing top 20 rows\n",
            "\n"
          ]
        }
      ]
    },
    {
      "cell_type": "markdown",
      "source": [
        "### Performance Metrics"
      ],
      "metadata": {
        "id": "7Rj3XGBodIiu"
      }
    },
    {
      "cell_type": "markdown",
      "source": [
        "$R^2 = 0.688479$"
      ],
      "metadata": {
        "id": "uKvsENIodLPA"
      }
    },
    {
      "cell_type": "code",
      "source": [
        "from pyspark.ml.evaluation import RegressionEvaluator\n",
        "\n",
        "r2_evaluator = RegressionEvaluator(predictionCol=\"prediction\", labelCol=\"repository_forks\", metricName=\"r2\")\n",
        "r2 = r2_evaluator.evaluate(predictions)\n",
        "r2"
      ],
      "metadata": {
        "colab": {
          "base_uri": "https://localhost:8080/"
        },
        "id": "Aa8RBHNwYYLe",
        "outputId": "43dfbc76-0733-44b4-c719-7967ba544ad9"
      },
      "execution_count": 86,
      "outputs": [
        {
          "output_type": "execute_result",
          "data": {
            "text/plain": [
              "0.6884790563541199"
            ]
          },
          "metadata": {},
          "execution_count": 86
        }
      ]
    },
    {
      "cell_type": "markdown",
      "source": [
        "$RMSE = 46.2$"
      ],
      "metadata": {
        "id": "AaWRHZWydQr8"
      }
    },
    {
      "cell_type": "code",
      "source": [
        "rmse_evaluator = RegressionEvaluator(predictionCol=\"prediction\", labelCol=\"repository_forks\", metricName=\"rmse\")\n",
        "rmse = rmse_evaluator.evaluate(predictions)\n",
        "rmse"
      ],
      "metadata": {
        "colab": {
          "base_uri": "https://localhost:8080/"
        },
        "id": "SYzi1tT-donP",
        "outputId": "aeb4834d-746a-4db3-c3a6-6157cf2701d3"
      },
      "execution_count": 87,
      "outputs": [
        {
          "output_type": "execute_result",
          "data": {
            "text/plain": [
              "46.20704893706218"
            ]
          },
          "metadata": {},
          "execution_count": 87
        }
      ]
    },
    {
      "cell_type": "code",
      "source": [
        "import matplotlib.pyplot as plt\n",
        "\n",
        "x_ax = range(0, predictions.count())\n",
        "y_pred=predictions.select(\"prediction\").collect()\n",
        "y_orig=predictions.select(\"repository_forks\").collect()\n",
        "\n",
        "plt.rcParams[\"figure.figsize\"] = (50, 30)\n",
        "\n",
        "plt.plot(x_ax, y_pred, label=\"predicted\")\n",
        "plt.plot(x_ax, y_orig, label=\"original\")\n",
        "plt.title(\"Testing and predicted data\")\n",
        "plt.xlabel('X-axis')\n",
        "plt.ylabel('Y-axis')\n",
        "plt.legend(loc='best', fancybox=True, shadow=True)\n",
        "plt.grid(True)\n",
        "plt.show()"
      ],
      "metadata": {
        "colab": {
          "base_uri": "https://localhost:8080/",
          "height": 857
        },
        "id": "AqY-zWZRg34z",
        "outputId": "46b304a5-d735-4ebf-e47a-fa9c04028af6"
      },
      "execution_count": 88,
      "outputs": [
        {
          "output_type": "display_data",
          "data": {
            "text/plain": [
              "<Figure size 3600x2160 with 1 Axes>"
            ],
            "image/png": "[encoded data removed]"
          },
          "metadata": {
            "needs_background": "light"
          }
        }
      ]
    },
    {
      "cell_type": "markdown",
      "source": [
        "## Linear Regression Model - Third Attempt"
      ],
      "metadata": {
        "id": "P_-kMty-dY2e"
      }
    },
    {
      "cell_type": "markdown",
      "source": [
        "The this attemp uses 4th degree polynomial features."
      ],
      "metadata": {
        "id": "4TfFeoXTdmlQ"
      }
    },
    {
      "cell_type": "code",
      "source": [
        "from pyspark.ml.feature import PolynomialExpansion\n",
        "\n",
        "polynomial_expansion = PolynomialExpansion(degree=4, inputCol=\"features\", outputCol=\"features_4th\")"
      ],
      "metadata": {
        "id": "dhJgz_eyO61D"
      },
      "execution_count": 102,
      "outputs": []
    },
    {
      "cell_type": "markdown",
      "source": [
        "Create a new pipeline"
      ],
      "metadata": {
        "id": "fhdgXjGHd7Ve"
      }
    },
    {
      "cell_type": "code",
      "source": [
        "lr.setFeaturesCol(\"features_4th\")\n",
        "pipeline = Pipeline(stages=[label_indexer, assembler, polynomial_expansion, lr])"
      ],
      "metadata": {
        "id": "4HKETU3EOvdc"
      },
      "execution_count": 103,
      "outputs": []
    },
    {
      "cell_type": "markdown",
      "source": [
        "Train and test model"
      ],
      "metadata": {
        "id": "x64ySBFPd_26"
      }
    },
    {
      "cell_type": "code",
      "source": [
        "model = pipeline.fit(df_training)\n",
        "predictions = model.transform(df_testing)"
      ],
      "metadata": {
        "id": "mbNfAsURPbuz"
      },
      "execution_count": 104,
      "outputs": []
    },
    {
      "cell_type": "code",
      "source": [
        "predictions.printSchema()"
      ],
      "metadata": {
        "colab": {
          "base_uri": "https://localhost:8080/"
        },
        "id": "6kvYWkg7PnQJ",
        "outputId": "45a3f8d4-80fd-4a64-e4d6-77c7fa191b09"
      },
      "execution_count": 105,
      "outputs": [
        {
          "output_type": "stream",
          "name": "stdout",
          "text": [
            "root\n",
            " |-- repository_has_downloads: float (nullable = false)\n",
            " |-- repository_has_issues: float (nullable = false)\n",
            " |-- repository_has_description: float (nullable = false)\n",
            " |-- repository_forks: float (nullable = false)\n",
            " |-- repository_is_fork: float (nullable = false)\n",
            " |-- repository_has_wiki: float (nullable = false)\n",
            " |-- repository_has_homepage: float (nullable = false)\n",
            " |-- repository_size: float (nullable = false)\n",
            " |-- repository_is_private: float (nullable = false)\n",
            " |-- repository_open_issues: float (nullable = false)\n",
            " |-- repository_watchers: float (nullable = false)\n",
            " |-- repository_language: string (nullable = true)\n",
            " |-- repository_language_indexed: double (nullable = false)\n",
            " |-- features: vector (nullable = true)\n",
            " |-- features_4th: vector (nullable = true)\n",
            " |-- prediction: double (nullable = false)\n",
            "\n"
          ]
        }
      ]
    },
    {
      "cell_type": "code",
      "source": [
        "predictions.select(\"repository_forks\", \"prediction\", \"features_4th\").show(truncate=False)"
      ],
      "metadata": {
        "colab": {
          "base_uri": "https://localhost:8080/"
        },
        "id": "W1Q1AsoTPra-",
        "outputId": "acc6d0fa-8115-4b0a-c065-c87c66aee59c"
      },
      "execution_count": 106,
      "outputs": [
        {
          "output_type": "stream",
          "name": "stdout",
          "text": [
            "+----------------+-------------------+------------------------------------------------------------------------------------------------------------------------------------------------------------------------------------------------------------------------------------------------------------------------------------------------------------------------------------------------------------------------------------------------------------------------------------------------------------------------------------------------------------------------------------------------------------------------------------------------------------------------------------------------------------------------------------------------------------------------------------------------------------------------------------------------------------------------------------------------------------------------------------------------------------------------------------------------------------------------------------------------------------------------------------------------------------------------------------------------------------------------------------------------------------------------------------------------------------------------------------------------------------------------------------------------------------------------------------------------------------------------------------------------------------------------------------------------------------------------------------------------------------------------------------------------------------------------------------------+\n",
            "|repository_forks|prediction         |features_4th                                                                                                                                                                                                                                                                                                                                                                                                                                                                                                                                                                                                                                                                                                                                                                                                                                                                                                                                                                                                                                                                                                                                                                                                                                                                                                                                                                                                                                                                                                                                                                              |\n",
            "+----------------+-------------------+------------------------------------------------------------------------------------------------------------------------------------------------------------------------------------------------------------------------------------------------------------------------------------------------------------------------------------------------------------------------------------------------------------------------------------------------------------------------------------------------------------------------------------------------------------------------------------------------------------------------------------------------------------------------------------------------------------------------------------------------------------------------------------------------------------------------------------------------------------------------------------------------------------------------------------------------------------------------------------------------------------------------------------------------------------------------------------------------------------------------------------------------------------------------------------------------------------------------------------------------------------------------------------------------------------------------------------------------------------------------------------------------------------------------------------------------------------------------------------------------------------------------------------------------------------------------------------------+\n",
            "|0.0             |-2.376025296642954 |(1364,[34,54,64,68,209,229,239,243,293,303,307,321,325,328,714,734,744,748,798,808,812,826,830,833,934,944,948,962,966,969,989,993,996,999,1000,1020,1030,1034,1084,1094,1098,1112,1116,1119,1220,1230,1234,1248,1252,1255,1275,1279,1282,1285,1286,1296,1300,1314,1318,1321,1341,1345,1348,1351,1352,1356,1359,1362,1363],[1.0,1.0,1.0,1.0,108.0,108.0,108.0,108.0,11664.0,11664.0,11664.0,1259712.0,1259712.0,1.36048896E8,1.0,1.0,1.0,1.0,108.0,108.0,108.0,11664.0,11664.0,1259712.0,1.0,1.0,1.0,108.0,108.0,11664.0,1.0,1.0,108.0,1.0,5.0,5.0,5.0,5.0,540.0,540.0,540.0,58320.0,58320.0,6298560.0,5.0,5.0,5.0,540.0,540.0,58320.0,5.0,5.0,540.0,5.0,25.0,25.0,25.0,2700.0,2700.0,291600.0,25.0,25.0,2700.0,25.0,125.0,125.0,13500.0,125.0,625.0])                                                                                                                                                                                                                                                                                                                                                                                                                                                                                                                                                                                                                                                                                                                                                                                                                                    |\n",
            "|0.0             |-3.9192415513484917|(1364,[34,54,64,68,209,229,239,243,293,303,307,321,325,328,714,734,744,748,798,808,812,826,830,833,934,944,948,962,966,969,989,993,996,999,1000,1020,1030,1034,1084,1094,1098,1112,1116,1119,1220,1230,1234,1248,1252,1255,1275,1279,1282,1285,1286,1296,1300,1314,1318,1321,1341,1345,1348,1351,1352,1356,1359,1362,1363],[1.0,1.0,1.0,1.0,116.0,116.0,116.0,116.0,13456.0,13456.0,13456.0,1560896.0,1560896.0,1.81063936E8,1.0,1.0,1.0,1.0,116.0,116.0,116.0,13456.0,13456.0,1560896.0,1.0,1.0,1.0,116.0,116.0,13456.0,1.0,1.0,116.0,1.0,13.0,13.0,13.0,13.0,1508.0,1508.0,1508.0,174928.0,174928.0,2.0291648E7,13.0,13.0,13.0,1508.0,1508.0,174928.0,13.0,13.0,1508.0,13.0,169.0,169.0,169.0,19604.0,19604.0,2274064.0,169.0,169.0,19604.0,169.0,2197.0,2197.0,254852.0,2197.0,28561.0])                                                                                                                                                                                                                                                                                                                                                                                                                                                                                                                                                                                                                                                                                                                                                                                               |\n",
            "|0.0             |-2.375555232622542 |(1364,[34,54,64,68,209,229,239,243,293,303,307,321,325,328,714,734,744,748,798,808,812,826,830,833,934,944,948,962,966,969,989,993,996,999,1000,1020,1030,1034,1084,1094,1098,1112,1116,1119,1220,1230,1234,1248,1252,1255,1275,1279,1282,1285,1286,1296,1300,1314,1318,1321,1341,1345,1348,1351,1352,1356,1359,1362,1363],[1.0,1.0,1.0,1.0,124.0,124.0,124.0,124.0,15376.0,15376.0,15376.0,1906624.0,1906624.0,2.36421376E8,1.0,1.0,1.0,1.0,124.0,124.0,124.0,15376.0,15376.0,1906624.0,1.0,1.0,1.0,124.0,124.0,15376.0,1.0,1.0,124.0,1.0,5.0,5.0,5.0,5.0,620.0,620.0,620.0,76880.0,76880.0,9533120.0,5.0,5.0,5.0,620.0,620.0,76880.0,5.0,5.0,620.0,5.0,25.0,25.0,25.0,3100.0,3100.0,384400.0,25.0,25.0,3100.0,25.0,125.0,125.0,15500.0,125.0,625.0])                                                                                                                                                                                                                                                                                                                                                                                                                                                                                                                                                                                                                                                                                                                                                                                                                                    |\n",
            "|0.0             |-1.9886861325468317|(1364,[34,54,64,68,209,229,239,243,293,303,307,321,325,328,714,734,744,748,798,808,812,826,830,833,934,944,948,962,966,969,989,993,996,999,1000,1020,1030,1034,1084,1094,1098,1112,1116,1119,1220,1230,1234,1248,1252,1255,1275,1279,1282,1285,1286,1296,1300,1314,1318,1321,1341,1345,1348,1351,1352,1356,1359,1362,1363],[1.0,1.0,1.0,1.0,144.0,144.0,144.0,144.0,20736.0,20736.0,20736.0,2985984.0,2985984.0,4.29981696E8,1.0,1.0,1.0,1.0,144.0,144.0,144.0,20736.0,20736.0,2985984.0,1.0,1.0,1.0,144.0,144.0,20736.0,1.0,1.0,144.0,1.0,3.0,3.0,3.0,3.0,432.0,432.0,432.0,62208.0,62208.0,8957952.0,3.0,3.0,3.0,432.0,432.0,62208.0,3.0,3.0,432.0,3.0,9.0,9.0,9.0,1296.0,1296.0,186624.0,9.0,9.0,1296.0,9.0,27.0,27.0,3888.0,27.0,81.0])                                                                                                                                                                                                                                                                                                                                                                                                                                                                                                                                                                                                                                                                                                                                                                                                                                               |\n",
            "|0.0             |-1.7956171339576095|(1364,[34,54,64,68,209,229,239,243,293,303,307,321,325,328,714,734,744,748,798,808,812,826,830,833,934,944,948,962,966,969,989,993,996,999,1000,1020,1030,1034,1084,1094,1098,1112,1116,1119,1220,1230,1234,1248,1252,1255,1275,1279,1282,1285,1286,1296,1300,1314,1318,1321,1341,1345,1348,1351,1352,1356,1359,1362,1363],[1.0,1.0,1.0,1.0,152.0,152.0,152.0,152.0,23104.0,23104.0,23104.0,3511808.0,3511808.0,5.33794816E8,1.0,1.0,1.0,1.0,152.0,152.0,152.0,23104.0,23104.0,3511808.0,1.0,1.0,1.0,152.0,152.0,23104.0,1.0,1.0,152.0,1.0,2.0,2.0,2.0,2.0,304.0,304.0,304.0,46208.0,46208.0,7023616.0,2.0,2.0,2.0,304.0,304.0,46208.0,2.0,2.0,304.0,2.0,4.0,4.0,4.0,608.0,608.0,92416.0,4.0,4.0,608.0,4.0,8.0,8.0,1216.0,8.0,16.0])                                                                                                                                                                                                                                                                                                                                                                                                                                                                                                                                                                                                                                                                                                                                                                                                                                                      |\n",
            "|0.0             |-2.1812241900197087|(1364,[34,54,64,68,209,229,239,243,293,303,307,321,325,328,714,734,744,748,798,808,812,826,830,833,934,944,948,962,966,969,989,993,996,999,1000,1020,1030,1034,1084,1094,1098,1112,1116,1119,1220,1230,1234,1248,1252,1255,1275,1279,1282,1285,1286,1296,1300,1314,1318,1321,1341,1345,1348,1351,1352,1356,1359,1362,1363],[1.0,1.0,1.0,1.0,184.0,184.0,184.0,184.0,33856.0,33856.0,33856.0,6229504.0,6229504.0,1.146228736E9,1.0,1.0,1.0,1.0,184.0,184.0,184.0,33856.0,33856.0,6229504.0,1.0,1.0,1.0,184.0,184.0,33856.0,1.0,1.0,184.0,1.0,4.0,4.0,4.0,4.0,736.0,736.0,736.0,135424.0,135424.0,2.4918016E7,4.0,4.0,4.0,736.0,736.0,135424.0,4.0,4.0,736.0,4.0,16.0,16.0,16.0,2944.0,2944.0,541696.0,16.0,16.0,2944.0,16.0,64.0,64.0,11776.0,64.0,256.0])                                                                                                                                                                                                                                                                                                                                                                                                                                                                                                                                                                                                                                                                                                                                                                                                                                 |\n",
            "|0.0             |-1.5981242215304121|(1364,[34,54,64,68,209,229,239,243,293,303,307,321,325,328,714,734,744,748,798,808,812,826,830,833,934,944,948,962,966,969,989,993,996,999,1000,1020,1030,1034,1084,1094,1098,1112,1116,1119,1220,1230,1234,1248,1252,1255,1275,1279,1282,1285,1286,1296,1300,1314,1318,1321,1341,1345,1348,1351,1352,1356,1359,1362,1363],[1.0,1.0,1.0,1.0,760.0,760.0,760.0,760.0,577600.0,577600.0,577600.0,4.38976E8,4.38976E8,3.3362176E11,2.0,2.0,2.0,2.0,1520.0,1520.0,1520.0,1155200.0,1155200.0,8.77952E8,4.0,4.0,4.0,3040.0,3040.0,2310400.0,8.0,8.0,6080.0,16.0,3.0,3.0,3.0,3.0,2280.0,2280.0,2280.0,1732800.0,1732800.0,1.316928E9,6.0,6.0,6.0,4560.0,4560.0,3465600.0,12.0,12.0,9120.0,24.0,9.0,9.0,9.0,6840.0,6840.0,5198400.0,18.0,18.0,13680.0,36.0,27.0,27.0,20520.0,54.0,81.0])                                                                                                                                                                                                                                                                                                                                                                                                                                                                                                                                                                                                                                                                                                                                                                                                         |\n",
            "|0.0             |-1.9806514521467697|(1364,[34,54,64,68,209,229,239,243,293,303,307,321,325,328,714,734,744,748,798,808,812,826,830,833,934,944,948,962,966,969,989,993,996,999,1000,1020,1030,1034,1084,1094,1098,1112,1116,1119,1220,1230,1234,1248,1252,1255,1275,1279,1282,1285,1286,1296,1300,1314,1318,1321,1341,1345,1348,1351,1352,1356,1359,1362,1363],[1.0,1.0,1.0,1.0,15644.0,15644.0,15644.0,15644.0,2.44734736E8,2.44734736E8,2.44734736E8,3.828630209984E12,3.828630209984E12,5.9895091004989696E16,1.0,1.0,1.0,1.0,15644.0,15644.0,15644.0,2.44734736E8,2.44734736E8,3.828630209984E12,1.0,1.0,1.0,15644.0,15644.0,2.44734736E8,1.0,1.0,15644.0,1.0,5.0,5.0,5.0,5.0,78220.0,78220.0,78220.0,1.22367368E9,1.22367368E9,1.914315104992E13,5.0,5.0,5.0,78220.0,78220.0,1.22367368E9,5.0,5.0,78220.0,5.0,25.0,25.0,25.0,391100.0,391100.0,6.1183684E9,25.0,25.0,391100.0,25.0,125.0,125.0,1955500.0,125.0,625.0])                                                                                                                                                                                                                                                                                                                                                                                                                                                                                                                                                                                                                                                                                                   |\n",
            "|0.0             |4.5029925699797815 |(1364,[34,54,64,68,69,89,99,103,104,114,118,119,123,124,209,229,239,243,244,254,258,259,263,264,293,303,307,308,312,313,321,325,326,328,714,734,744,748,749,759,763,764,768,769,798,808,812,813,817,818,826,830,831,833,934,944,948,949,953,954,962,966,967,969,989,993,994,996,999],[1.0,1.0,1.0,1.0,1.0,1.0,1.0,1.0,1.0,1.0,1.0,1.0,1.0,1.0,220.0,220.0,220.0,220.0,220.0,220.0,220.0,220.0,220.0,220.0,48400.0,48400.0,48400.0,48400.0,48400.0,48400.0,1.0648E7,1.0648E7,1.0648E7,2.34256E9,1.0,1.0,1.0,1.0,1.0,1.0,1.0,1.0,1.0,1.0,220.0,220.0,220.0,220.0,220.0,220.0,48400.0,48400.0,48400.0,1.0648E7,1.0,1.0,1.0,1.0,1.0,1.0,220.0,220.0,220.0,48400.0,1.0,1.0,1.0,220.0,1.0])                                                                                                                                                                                                                                                                                                                                                                                                                                                                                                                                                                                                                                                                                                                                                                                                                                                                                                     |\n",
            "|0.0             |4.3282165279428    |(1364,[34,54,64,68,69,89,99,103,104,114,118,119,123,124,209,229,239,243,244,254,258,259,263,264,293,303,307,308,312,313,321,325,326,328,714,734,744,748,749,759,763,764,768,769,798,808,812,813,817,818,826,830,831,833,934,944,948,949,953,954,962,966,967,969,989,993,994,996,999,1000,1020,1030,1034,1035,1045,1049,1050,1054,1055,1084,1094,1098,1099,1103,1104,1112,1116,1117,1119,1220,1230,1234,1235,1239,1240,1248,1252,1253,1255,1275,1279,1280,1282,1285,1286,1296,1300,1301,1305,1306,1314,1318,1319,1321,1341,1345,1346,1348,1351,1352,1356,1357,1359,1362,1363],[1.0,1.0,1.0,1.0,1.0,1.0,1.0,1.0,1.0,1.0,1.0,1.0,1.0,1.0,232.0,232.0,232.0,232.0,232.0,232.0,232.0,232.0,232.0,232.0,53824.0,53824.0,53824.0,53824.0,53824.0,53824.0,1.2487168E7,1.2487168E7,1.2487168E7,2.897022976E9,1.0,1.0,1.0,1.0,1.0,1.0,1.0,1.0,1.0,1.0,232.0,232.0,232.0,232.0,232.0,232.0,53824.0,53824.0,53824.0,1.2487168E7,1.0,1.0,1.0,1.0,1.0,1.0,232.0,232.0,232.0,53824.0,1.0,1.0,1.0,232.0,1.0,1.0,1.0,1.0,1.0,1.0,1.0,1.0,1.0,1.0,1.0,232.0,232.0,232.0,232.0,232.0,232.0,53824.0,53824.0,53824.0,1.2487168E7,1.0,1.0,1.0,1.0,1.0,1.0,232.0,232.0,232.0,53824.0,1.0,1.0,1.0,232.0,1.0,1.0,1.0,1.0,1.0,1.0,1.0,232.0,232.0,232.0,53824.0,1.0,1.0,1.0,232.0,1.0,1.0,1.0,1.0,232.0,1.0,1.0])                                                                                                                                                                                                                                                                                                   |\n",
            "|0.0             |3.969104626616698  |(1364,[34,54,64,68,69,89,99,103,104,114,118,119,123,124,209,229,239,243,244,254,258,259,263,264,293,303,307,308,312,313,321,325,326,328,714,734,744,748,749,759,763,764,768,769,798,808,812,813,817,818,826,830,831,833,934,944,948,949,953,954,962,966,967,969,989,993,994,996,999,1000,1020,1030,1034,1035,1045,1049,1050,1054,1055,1084,1094,1098,1099,1103,1104,1112,1116,1117,1119,1220,1230,1234,1235,1239,1240,1248,1252,1253,1255,1275,1279,1280,1282,1285,1286,1296,1300,1301,1305,1306,1314,1318,1319,1321,1341,1345,1346,1348,1351,1352,1356,1357,1359,1362,1363],[1.0,1.0,1.0,1.0,1.0,1.0,1.0,1.0,1.0,1.0,1.0,1.0,1.0,1.0,864.0,864.0,864.0,864.0,864.0,864.0,864.0,864.0,864.0,864.0,746496.0,746496.0,746496.0,746496.0,746496.0,746496.0,6.44972544E8,6.44972544E8,6.44972544E8,5.57256278016E11,1.0,1.0,1.0,1.0,1.0,1.0,1.0,1.0,1.0,1.0,864.0,864.0,864.0,864.0,864.0,864.0,746496.0,746496.0,746496.0,6.44972544E8,1.0,1.0,1.0,1.0,1.0,1.0,864.0,864.0,864.0,746496.0,1.0,1.0,1.0,864.0,1.0,3.0,3.0,3.0,3.0,3.0,3.0,3.0,3.0,3.0,3.0,2592.0,2592.0,2592.0,2592.0,2592.0,2592.0,2239488.0,2239488.0,2239488.0,1.934917632E9,3.0,3.0,3.0,3.0,3.0,3.0,2592.0,2592.0,2592.0,2239488.0,3.0,3.0,3.0,2592.0,3.0,9.0,9.0,9.0,9.0,9.0,9.0,7776.0,7776.0,7776.0,6718464.0,9.0,9.0,9.0,7776.0,9.0,27.0,27.0,27.0,23328.0,27.0,81.0])                                                                                                                                                                                                                                                 |\n",
            "|0.0             |4.257759564633094  |(1364,[34,54,64,68,69,89,99,103,104,114,118,119,123,124,209,229,239,243,244,254,258,259,263,264,293,303,307,308,312,313,321,325,326,328,714,734,744,748,749,759,763,764,768,769,798,808,812,813,817,818,826,830,831,833,934,944,948,949,953,954,962,966,967,969,989,993,994,996,999,1000,1020,1030,1034,1035,1045,1049,1050,1054,1055,1084,1094,1098,1099,1103,1104,1112,1116,1117,1119,1220,1230,1234,1235,1239,1240,1248,1252,1253,1255,1275,1279,1280,1282,1285,1286,1296,1300,1301,1305,1306,1314,1318,1319,1321,1341,1345,1346,1348,1351,1352,1356,1357,1359,1362,1363],[1.0,1.0,1.0,1.0,1.0,1.0,1.0,1.0,1.0,1.0,1.0,1.0,1.0,1.0,1464.0,1464.0,1464.0,1464.0,1464.0,1464.0,1464.0,1464.0,1464.0,1464.0,2143296.0,2143296.0,2143296.0,2143296.0,2143296.0,2143296.0,3.137785344E9,3.137785344E9,3.137785344E9,4.593717743616E12,1.0,1.0,1.0,1.0,1.0,1.0,1.0,1.0,1.0,1.0,1464.0,1464.0,1464.0,1464.0,1464.0,1464.0,2143296.0,2143296.0,2143296.0,3.137785344E9,1.0,1.0,1.0,1.0,1.0,1.0,1464.0,1464.0,1464.0,2143296.0,1.0,1.0,1.0,1464.0,1.0,1.0,1.0,1.0,1.0,1.0,1.0,1.0,1.0,1.0,1.0,1464.0,1464.0,1464.0,1464.0,1464.0,1464.0,2143296.0,2143296.0,2143296.0,3.137785344E9,1.0,1.0,1.0,1.0,1.0,1.0,1464.0,1464.0,1464.0,2143296.0,1.0,1.0,1.0,1464.0,1.0,1.0,1.0,1.0,1.0,1.0,1.0,1464.0,1464.0,1464.0,2143296.0,1.0,1.0,1.0,1464.0,1.0,1.0,1.0,1.0,1464.0,1.0,1.0])                                                                                                                                                                                                                    |\n",
            "|1.0             |-2.4104535800952895|(1364,[34,54,64,68,209,229,239,243,293,303,307,321,325,328,714,734,744,748,798,808,812,826,830,833,934,944,948,962,966,969,989,993,996,999,1000,1020,1030,1034,1084,1094,1098,1112,1116,1119,1220,1230,1234,1248,1252,1255,1275,1279,1282,1285,1286,1296,1300,1314,1318,1321,1341,1345,1348,1351,1352,1356,1359,1362,1363],[1.0,1.0,1.0,1.0,124.0,124.0,124.0,124.0,15376.0,15376.0,15376.0,1906624.0,1906624.0,2.36421376E8,5.0,5.0,5.0,5.0,620.0,620.0,620.0,76880.0,76880.0,9533120.0,25.0,25.0,25.0,3100.0,3100.0,384400.0,125.0,125.0,15500.0,625.0,13.0,13.0,13.0,13.0,1612.0,1612.0,1612.0,199888.0,199888.0,2.4786112E7,65.0,65.0,65.0,8060.0,8060.0,999440.0,325.0,325.0,40300.0,1625.0,169.0,169.0,169.0,20956.0,20956.0,2598544.0,845.0,845.0,104780.0,4225.0,2197.0,2197.0,272428.0,10985.0,28561.0])                                                                                                                                                                                                                                                                                                                                                                                                                                                                                                                                                                                                                                                                                                                                                                         |\n",
            "|1.0             |-3.912039656044552 |(1364,[34,54,64,68,209,229,239,243,293,303,307,321,325,328,714,734,744,748,798,808,812,826,830,833,934,944,948,962,966,969,989,993,996,999,1000,1020,1030,1034,1084,1094,1098,1112,1116,1119,1220,1230,1234,1248,1252,1255,1275,1279,1282,1285,1286,1296,1300,1314,1318,1321,1341,1345,1348,1351,1352,1356,1359,1362,1363],[1.0,1.0,1.0,1.0,160.0,160.0,160.0,160.0,25600.0,25600.0,25600.0,4096000.0,4096000.0,6.5536E8,1.0,1.0,1.0,1.0,160.0,160.0,160.0,25600.0,25600.0,4096000.0,1.0,1.0,1.0,160.0,160.0,25600.0,1.0,1.0,160.0,1.0,13.0,13.0,13.0,13.0,2080.0,2080.0,2080.0,332800.0,332800.0,5.3248E7,13.0,13.0,13.0,2080.0,2080.0,332800.0,13.0,13.0,2080.0,13.0,169.0,169.0,169.0,27040.0,27040.0,4326400.0,169.0,169.0,27040.0,169.0,2197.0,2197.0,351520.0,2197.0,28561.0])                                                                                                                                                                                                                                                                                                                                                                                                                                                                                                                                                                                                                                                                                                                                                                                                      |\n",
            "|1.0             |-0.823150951497535 |(1364,[34,54,64,68,209,229,239,243,293,303,307,321,325,328,714,734,744,748,798,808,812,826,830,833,934,944,948,962,966,969,989,993,996,999,1000,1020,1030,1034,1084,1094,1098,1112,1116,1119,1220,1230,1234,1248,1252,1255,1275,1279,1282,1285,1286,1296,1300,1314,1318,1321,1341,1345,1348,1351,1352,1356,1359,1362,1363],[1.0,1.0,1.0,1.0,196.0,196.0,196.0,196.0,38416.0,38416.0,38416.0,7529536.0,7529536.0,1.475789056E9,4.0,4.0,4.0,4.0,784.0,784.0,784.0,153664.0,153664.0,3.0118144E7,16.0,16.0,16.0,3136.0,3136.0,614656.0,64.0,64.0,12544.0,256.0,3.0,3.0,3.0,3.0,588.0,588.0,588.0,115248.0,115248.0,2.2588608E7,12.0,12.0,12.0,2352.0,2352.0,460992.0,48.0,48.0,9408.0,192.0,9.0,9.0,9.0,1764.0,1764.0,345744.0,36.0,36.0,7056.0,144.0,27.0,27.0,5292.0,108.0,81.0])                                                                                                                                                                                                                                                                                                                                                                                                                                                                                                                                                                                                                                                                                                                                                                                                          |\n",
            "|1.0             |4.318873131955346  |(1364,[34,54,64,68,69,89,99,103,104,114,118,119,123,124,209,229,239,243,244,254,258,259,263,264,293,303,307,308,312,313,321,325,326,328,714,734,744,748,749,759,763,764,768,769,798,808,812,813,817,818,826,830,831,833,934,944,948,949,953,954,962,966,967,969,989,993,994,996,999,1000,1020,1030,1034,1035,1045,1049,1050,1054,1055,1084,1094,1098,1099,1103,1104,1112,1116,1117,1119,1220,1230,1234,1235,1239,1240,1248,1252,1253,1255,1275,1279,1280,1282,1285,1286,1296,1300,1301,1305,1306,1314,1318,1319,1321,1341,1345,1346,1348,1351,1352,1356,1357,1359,1362,1363],[1.0,1.0,1.0,1.0,1.0,1.0,1.0,1.0,1.0,1.0,1.0,1.0,1.0,1.0,396.0,396.0,396.0,396.0,396.0,396.0,396.0,396.0,396.0,396.0,156816.0,156816.0,156816.0,156816.0,156816.0,156816.0,6.2099136E7,6.2099136E7,6.2099136E7,2.4591257856E10,1.0,1.0,1.0,1.0,1.0,1.0,1.0,1.0,1.0,1.0,396.0,396.0,396.0,396.0,396.0,396.0,156816.0,156816.0,156816.0,6.2099136E7,1.0,1.0,1.0,1.0,1.0,1.0,396.0,396.0,396.0,156816.0,1.0,1.0,1.0,396.0,1.0,1.0,1.0,1.0,1.0,1.0,1.0,1.0,1.0,1.0,1.0,396.0,396.0,396.0,396.0,396.0,396.0,156816.0,156816.0,156816.0,6.2099136E7,1.0,1.0,1.0,1.0,1.0,1.0,396.0,396.0,396.0,156816.0,1.0,1.0,1.0,396.0,1.0,1.0,1.0,1.0,1.0,1.0,1.0,396.0,396.0,396.0,156816.0,1.0,1.0,1.0,396.0,1.0,1.0,1.0,1.0,396.0,1.0,1.0])                                                                                                                                                                                                                                                                                  |\n",
            "|3.0             |1.768778780170205  |(1364,[34,54,64,68,209,229,239,243,293,303,307,321,325,328,714,734,744,748,798,808,812,826,830,833,934,944,948,962,966,969,989,993,996,999,1000,1020,1030,1034,1084,1094,1098,1112,1116,1119,1220,1230,1234,1248,1252,1255,1275,1279,1282,1285,1286,1296,1300,1314,1318,1321,1341,1345,1348,1351,1352,1356,1359,1362,1363],[1.0,1.0,1.0,1.0,160.0,160.0,160.0,160.0,25600.0,25600.0,25600.0,4096000.0,4096000.0,6.5536E8,10.0,10.0,10.0,10.0,1600.0,1600.0,1600.0,256000.0,256000.0,4.096E7,100.0,100.0,100.0,16000.0,16000.0,2560000.0,1000.0,1000.0,160000.0,10000.0,1.0,1.0,1.0,1.0,160.0,160.0,160.0,25600.0,25600.0,4096000.0,10.0,10.0,10.0,1600.0,1600.0,256000.0,100.0,100.0,16000.0,1000.0,1.0,1.0,1.0,160.0,160.0,25600.0,10.0,10.0,1600.0,100.0,1.0,1.0,160.0,10.0,1.0])                                                                                                                                                                                                                                                                                                                                                                                                                                                                                                                                                                                                                                                                                                                                                                                                       |\n",
            "|3.0             |0.49666027702174986|(1364,[34,54,64,68,209,229,239,243,293,303,307,321,325,328,714,734,744,748,798,808,812,826,830,833,934,944,948,962,966,969,989,993,996,999,1000,1020,1030,1034,1084,1094,1098,1112,1116,1119,1220,1230,1234,1248,1252,1255,1275,1279,1282,1285,1286,1296,1300,1314,1318,1321,1341,1345,1348,1351,1352,1356,1359,1362,1363],[1.0,1.0,1.0,1.0,584.0,584.0,584.0,584.0,341056.0,341056.0,341056.0,1.99176704E8,1.99176704E8,1.16319195136E11,7.0,7.0,7.0,7.0,4088.0,4088.0,4088.0,2387392.0,2387392.0,1.394236928E9,49.0,49.0,49.0,28616.0,28616.0,1.6711744E7,343.0,343.0,200312.0,2401.0,2.0,2.0,2.0,2.0,1168.0,1168.0,1168.0,682112.0,682112.0,3.98353408E8,14.0,14.0,14.0,8176.0,8176.0,4774784.0,98.0,98.0,57232.0,686.0,4.0,4.0,4.0,2336.0,2336.0,1364224.0,28.0,28.0,16352.0,196.0,8.0,8.0,4672.0,56.0,16.0])                                                                                                                                                                                                                                                                                                                                                                                                                                                                                                                                                                                                                                                                                                                                                                         |\n",
            "|126.0           |93.67374292961362  |(1364,[34,54,64,68,209,229,239,243,293,303,307,321,325,328,494,514,524,528,578,588,592,606,610,613,659,669,673,687,691,694,704,708,711,713,714,734,744,748,798,808,812,826,830,833,879,889,893,907,911,914,924,928,931,933,934,944,948,962,966,969,979,983,986,988,989,993,996,998,999,1000,1020,1030,1034,1084,1094,1098,1112,1116,1119,1165,1175,1179,1193,1197,1200,1210,1214,1217,1219,1220,1230,1234,1248,1252,1255,1265,1269,1272,1274,1275,1279,1282,1284,1285,1286,1296,1300,1314,1318,1321,1331,1335,1338,1340,1341,1345,1348,1350,1351,1352,1356,1359,1361,1362,1363],[1.0,1.0,1.0,1.0,292.0,292.0,292.0,292.0,85264.0,85264.0,85264.0,2.4897088E7,2.4897088E7,7.269949696E9,10.0,10.0,10.0,10.0,2920.0,2920.0,2920.0,852640.0,852640.0,2.4897088E8,100.0,100.0,100.0,29200.0,29200.0,8526400.0,1000.0,1000.0,292000.0,10000.0,214.0,214.0,214.0,214.0,62488.0,62488.0,62488.0,1.8246496E7,1.8246496E7,5.327976832E9,2140.0,2140.0,2140.0,624880.0,624880.0,1.8246496E8,21400.0,21400.0,6248800.0,214000.0,45796.0,45796.0,45796.0,1.3372432E7,1.3372432E7,3.904750144E9,457960.0,457960.0,1.3372432E8,4579600.0,9800344.0,9800344.0,2.861700448E9,9.800344E7,2.097273616E9,2.0,2.0,2.0,2.0,584.0,584.0,584.0,170528.0,170528.0,4.9794176E7,20.0,20.0,20.0,5840.0,5840.0,1705280.0,200.0,200.0,58400.0,2000.0,428.0,428.0,428.0,124976.0,124976.0,3.6492992E7,4280.0,4280.0,1249760.0,42800.0,91592.0,91592.0,2.6744864E7,915920.0,1.9600688E7,4.0,4.0,4.0,1168.0,1168.0,341056.0,40.0,40.0,11680.0,400.0,856.0,856.0,249952.0,8560.0,183184.0,8.0,8.0,2336.0,80.0,1712.0,16.0])|\n",
            "|159.0           |155.75137926638456 |(1364,[69,104,119,124,209,244,259,264,293,308,313,321,326,328,714,749,764,769,798,813,818,826,831,833,934,949,954,962,967,969,989,994,996,999,1000,1035,1050,1055,1084,1099,1104,1112,1117,1119,1220,1235,1240,1248,1253,1255,1275,1280,1282,1285,1286,1301,1306,1314,1319,1321,1341,1346,1348,1351,1352,1357,1359,1362,1363],[1.0,1.0,1.0,1.0,440.0,440.0,440.0,440.0,193600.0,193600.0,193600.0,8.5184E7,8.5184E7,3.748096E10,973.0,973.0,973.0,973.0,428120.0,428120.0,428120.0,1.883728E8,1.883728E8,8.2884032E10,946729.0,946729.0,946729.0,4.1656076E8,4.1656076E8,1.832867344E11,9.21167317E8,9.21167317E8,4.0531361948E11,8.96295799441E11,4.0,4.0,4.0,4.0,1760.0,1760.0,1760.0,774400.0,774400.0,3.40736E8,3892.0,3892.0,3892.0,1712480.0,1712480.0,7.534912E8,3786916.0,3786916.0,1.66624304E9,3.684669268E9,16.0,16.0,16.0,7040.0,7040.0,3097600.0,15568.0,15568.0,6849920.0,1.5147664E7,64.0,64.0,28160.0,62272.0,256.0])                                                                                                                                                                                                                                                                                                                                                                                                                                                                                                                                                                                                                                                     |\n",
            "+----------------+-------------------+------------------------------------------------------------------------------------------------------------------------------------------------------------------------------------------------------------------------------------------------------------------------------------------------------------------------------------------------------------------------------------------------------------------------------------------------------------------------------------------------------------------------------------------------------------------------------------------------------------------------------------------------------------------------------------------------------------------------------------------------------------------------------------------------------------------------------------------------------------------------------------------------------------------------------------------------------------------------------------------------------------------------------------------------------------------------------------------------------------------------------------------------------------------------------------------------------------------------------------------------------------------------------------------------------------------------------------------------------------------------------------------------------------------------------------------------------------------------------------------------------------------------------------------------------------------------------------------+\n",
            "only showing top 20 rows\n",
            "\n"
          ]
        }
      ]
    },
    {
      "cell_type": "markdown",
      "source": [
        "### Performance Metrics\n"
      ],
      "metadata": {
        "id": "X4JFJNVNdxTr"
      }
    },
    {
      "cell_type": "markdown",
      "source": [
        "$R^2 = 0.762387$"
      ],
      "metadata": {
        "id": "-rEAIej4dzkJ"
      }
    },
    {
      "cell_type": "code",
      "source": [
        "from pyspark.ml.evaluation import RegressionEvaluator\n",
        "\n",
        "r2_evaluator = RegressionEvaluator(predictionCol=\"prediction\", labelCol=\"repository_forks\", metricName=\"r2\")\n",
        "r2 = r2_evaluator.evaluate(predictions)\n",
        "r2"
      ],
      "metadata": {
        "colab": {
          "base_uri": "https://localhost:8080/"
        },
        "id": "q6CnTyn9PzIs",
        "outputId": "28b0a43e-db8f-4614-f62d-a3d564507ac7"
      },
      "execution_count": 107,
      "outputs": [
        {
          "output_type": "execute_result",
          "data": {
            "text/plain": [
              "0.7623872416814778"
            ]
          },
          "metadata": {},
          "execution_count": 107
        }
      ]
    },
    {
      "cell_type": "markdown",
      "source": [
        "$RMSE = 40.355$"
      ],
      "metadata": {
        "id": "_CEfEa-Rd2hu"
      }
    },
    {
      "cell_type": "code",
      "source": [
        "rmse_evaluator = RegressionEvaluator(predictionCol=\"prediction\", labelCol=\"repository_forks\", metricName=\"rmse\")\n",
        "rmse = rmse_evaluator.evaluate(predictions)\n",
        "rmse"
      ],
      "metadata": {
        "colab": {
          "base_uri": "https://localhost:8080/"
        },
        "id": "2ElXoyBYP7Nf",
        "outputId": "124c48a7-fac3-4062-945e-8897a2682a9e"
      },
      "execution_count": 108,
      "outputs": [
        {
          "output_type": "execute_result",
          "data": {
            "text/plain": [
              "40.3551983054572"
            ]
          },
          "metadata": {},
          "execution_count": 108
        }
      ]
    },
    {
      "cell_type": "code",
      "source": [
        "import matplotlib.pyplot as plt\n",
        "\n",
        "x_ax = range(0, predictions.count())\n",
        "y_pred=predictions.select(\"prediction\").collect()\n",
        "y_orig=predictions.select(\"repository_forks\").collect()\n",
        "\n",
        "plt.rcParams[\"figure.figsize\"] = (50, 30)\n",
        "\n",
        "plt.plot(x_ax, y_pred, label=\"predicted\")\n",
        "plt.plot(x_ax, y_orig, label=\"original\")\n",
        "plt.title(\"Testing and predicted data\")\n",
        "plt.xlabel('X-axis')\n",
        "plt.ylabel('Y-axis')\n",
        "plt.legend(loc='best', fancybox=True, shadow=True)\n",
        "plt.grid(True)\n",
        "plt.show()"
      ],
      "metadata": {
        "colab": {
          "base_uri": "https://localhost:8080/",
          "height": 857
        },
        "id": "KQkVfi93QCvt",
        "outputId": "bde3c1ec-b121-431e-9f55-70bc5c387983"
      },
      "execution_count": 109,
      "outputs": [
        {
          "output_type": "display_data",
          "data": {
            "text/plain": [
              "<Figure size 3600x2160 with 1 Axes>"
            ],
            "image/png": "[encoded data removed]"
          },
          "metadata": {
            "needs_background": "light"
          }
        }
      ]
    },
    {
      "cell_type": "markdown",
      "source": [
        "## Linear Regression - Training Set "
      ],
      "metadata": {
        "id": "HvjfnpS6eJ97"
      }
    },
    {
      "cell_type": "code",
      "source": [
        "predictions = model.transform(df_training)"
      ],
      "metadata": {
        "id": "swwnKwZ1Wjyq"
      },
      "execution_count": 110,
      "outputs": []
    },
    {
      "cell_type": "markdown",
      "source": [
        "### Performance Metrics\n",
        "\n",
        "This is only used for reference and comparison to training set performance metrics."
      ],
      "metadata": {
        "id": "SEJMQk2NaCi8"
      }
    },
    {
      "cell_type": "markdown",
      "source": [
        "$R^2 = 0.9535$"
      ],
      "metadata": {
        "id": "M5KQqCo8eN7K"
      }
    },
    {
      "cell_type": "code",
      "source": [
        "from pyspark.ml.evaluation import RegressionEvaluator\n",
        "\n",
        "r2_evaluator = RegressionEvaluator(predictionCol=\"prediction\", labelCol=\"repository_forks\", metricName=\"r2\")\n",
        "r2 = r2_evaluator.evaluate(predictions)\n",
        "r2"
      ],
      "metadata": {
        "colab": {
          "base_uri": "https://localhost:8080/"
        },
        "id": "slhPPeFnWn51",
        "outputId": "bc605f71-51fe-4db7-f5b4-146b5616727f"
      },
      "execution_count": 111,
      "outputs": [
        {
          "output_type": "execute_result",
          "data": {
            "text/plain": [
              "0.9535339229634866"
            ]
          },
          "metadata": {},
          "execution_count": 111
        }
      ]
    },
    {
      "cell_type": "markdown",
      "source": [
        "$RMSE = 18.478$"
      ],
      "metadata": {
        "id": "RqrELIvieQ58"
      }
    },
    {
      "cell_type": "code",
      "source": [
        "rmse_evaluator = RegressionEvaluator(predictionCol=\"prediction\", labelCol=\"repository_forks\", metricName=\"rmse\")\n",
        "rmse = rmse_evaluator.evaluate(predictions)\n",
        "rmse"
      ],
      "metadata": {
        "colab": {
          "base_uri": "https://localhost:8080/"
        },
        "id": "xh4PCOUEXhyX",
        "outputId": "ebe35cb2-1a0a-4a19-fec0-72ca01b6bd90"
      },
      "execution_count": 112,
      "outputs": [
        {
          "output_type": "execute_result",
          "data": {
            "text/plain": [
              "18.478164476948443"
            ]
          },
          "metadata": {},
          "execution_count": 112
        }
      ]
    }
  ],
  "metadata": {
    "kernelspec": {
      "display_name": "Python 3.9.7 64-bit",
      "language": "python",
      "name": "python3"
    },
    "language_info": {
      "codemirror_mode": {
        "name": "ipython",
        "version": 3
      },
      "file_extension": ".py",
      "mimetype": "text/x-python",
      "name": "python",
      "nbconvert_exporter": "python",
      "pygments_lexer": "ipython3",
      "version": "3.9.7"
    },
    "orig_nbformat": 4,
    "vscode": {
      "interpreter": {
        "hash": "fd7a121677b105cad07a52a64a97694d106127d4ba2c3ddf73d8fbcdae73d31e"
      }
    },
    "colab": {
      "provenance": []
    }
  },
  "nbformat": 4,
  "nbformat_minor": 0
}